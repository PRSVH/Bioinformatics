# <span style="color:red">Before you turn this in, make sure everything runs as expected.</span>

1. **RESTART THE KERNEL** – in the menubar, select Kernel$\rightarrow$Restart
2. **RUN ALL CELLS** – in the menubar, select Cell$\rightarrow$Run All
3. **VALIDATE THE NOTEBOOK** – in the menubar, click the Validate button


See the [background](background.ipynb) for descriptions of data available and results from applying the unique $k$-mers approach.

## Background for Question 1 and 2

For this question, we assume we have decided to use k-mers that are unique to the reference species as our markers for species presence.

Consider the following 2 sequences.
```
s1 = "ATAATCC"
s2 = "ATGATCC"
```
Setting k=2, the 2-mers `AA` and `TA` are unique to `s1` while `GA` and `TG` are unique to `s2`.

### Definitions

A unique $k$-mer is one which is present in only one species. The phrase "signature $k$-mers" is a synonymn for the unique $k$-mers for a specific species.

### Question 1

Complete the function `unique_kmers()`. (It's OK to create additional functions that you call from within `unique_kmers()`!)

Your function works correctly for two sequences if, for `s1` and `s2` it returns the dinucleotides I indicated above. It should also work for the `seqs` `SequenceCollection` defined below. For example, the following should pass.

```python
from cogent3 import make_unaligned_seqs

seqs = make_unaligned_seqs({"s1": "ATAATCC", "s2": "ATGATCC"}, moltype="dna")
uniques = unique_kmers(seqs, k=2)
assert uniques == {"s1": {"AA", "TA"}, "s2": {"GA", "TG"}}
```

#### Assessment rubric

- testing only uses k=2
- function is evaluated using the provided data AND randomly generated data
- number of sequences provided to your function is ≥2
- function only called with a `SequenceCollection` which is constructed using `make_unaligned_seqs`
from cogent3 import make_unaligned_seqs
from cogent3.core.alignment import SequenceCollection


# def unique_kmers(seqs: SequenceCollection, k: int = 2) -> dict:
#     """returns a {seqname: set(str, ...)}"""
#     result = {}
#     for s in seqs.seqs:
#         ...  # you write the rest
#     return result


seqs = SequenceCollection(
    {"s1": "ATAATCC", "s2": "ATGATCC", "s3": "ATACTCC"}, moltype="dna"
)

def unique_kmers(seqs: SequenceCollection,k:int = 2):
    #Find the kmers for all sequences
    kmers = {}
    for i in seqs.names:
        val = set()
        sequence = seqs.get_seq(i)
        kmer = sequence.get_kmers(2) #get_kmers is a function that retreives kmers of length filled 
        kmers[i] = set(kmer)
    #Find Unique kmers comparing all sequences
    result = {}
    key = list(kmers.keys()) 
    for i in range(len(key)):
        unique_elements = kmers[key[i]]
        result[key[i]] = set()  # Initialize an empty set for each key in the new dictionary
        for j in range(len(key)):
            if i!= j:
                unique_elements = unique_elements.difference(kmers[key[j]]) #Find the unique set comparing all sets
        result[key[i]].update(unique_elements) #update the values
    return result


# Enter your code here
# This part worth 0.5

# A test!
"""Q1 unique_kmers : returns a dict of sets"""
unique_kmers(seqs,2)
# This part worth 1

# A test!
"""Q1 unique_kmers  : returns correct output for pairs of random sequences"""
random = make_unaligned_seqs(['AGATA','ATACAT'],moltype='dna')
unique_kmers(random,2)
# This part worth 3.5

# A test!
"""Q1 unique_kmers  : returns correct output for >=3 random sequences"""
random3 = random = make_unaligned_seqs(['ATCCA','GGACAT','ACTGAC','ACATAG'],moltype='dna')
unique_kmers(random3,2)

### Question 2

Signature k-mers for the REFSOIL collection have been identified and saved into a text file.

There are 5 different experimental samples. Each one has multiple barcoded fasta files. Your job is now to identify what species are in each such file using the signature k-mers.

In ≤300 words, write pseudo-code for how you will solve this problem by editing the pseudo-code stubs I have started below. (NOTE: You do not have to use my exact wording.)

#### Assessment rubric

- is it pseudo-code
- does it describe a plausible algorithm (e.g. could I implement it)
- would the algorithm resolve the question
- is it testable (e.g., a function that would take easily constructed small input data and which would return small output data is very testable.)
- within word limit
`This part worth 3`

## Answer
### The utility functions
```
function load_signature_kmers
    takes a file path and returns a dictionary of ...
function load_fasta_seq
    takes a file path and returns a dictionary of ...
# describe function(s) that will establish whether a unique k-mer is present and from what reference species
...
```
### The algorithm
```
sig_kmers equals result of calling load_signature_kmers(k13_unique.tsv)
seqs equals result of calling load_fasta_seq(student_data_1/barcode1.fasta)
...
```
### The output
```
out_file_path equals ...
write ... results organised as ... to a formatted file
```

#Utility Functions
procedure load_signature_kmers(parameter)
     ref_uniq = load the table from file path parameter
     ref_uniq.columns = create an empty column and split the kmers in 'unique' column and paste in this column
     ref_uniq_kmers = create a dictionary by separating name and kmer_set columns
     return ref_uniq_kmers
end

procedure load_fasta_seq(file_path)
    seqs = Create an empty dictionary to store sequences
    open the file and while it is open:
         For record: in file do
             set record name as key in seqs
             set record sequences as values in seqs
    Output seqs
end

procedure generate_kmers(sequence)
   kmer  create a set and find kmers in the sequence
   output kmer
end

Function to find unique kmers between two files
Function unique_kmers_present(kmers,sig_kmers)
    create an empty dictionary to store matching kmers
    For loop to get keys and sequences in sig_kmers
        In every sequence find the matching kmer comparing kmers set data
        return the result
    If result is not empty or its length is greater than 0
        Then add the result in the empty dictionary defined at the start
    Output Result
END


#Algorithm
sig_kmers = call function load_signature_kmers(file_name) it will return the id and kmers dictionary
sequences = call function load_fasta_seq(file_name) it will return a dictionary with id and kmers set
results = create empty dictionary to store the results
Run a For loop to find the matches in sequences and sig_kmers
For ids,sequence in sequences file
    kmers = call generate_kmers(sequence) function to get kmers in the sequence
    matches = call unique_kmers_present(kmers,sig_kmers) which compare the sequence and kmers to find common kmers
    IF check the length of matches is equal to 1
        store the result in results dictionary
    Output results
    
   
   
#Output
Create a DataFrame of results with keys as columns and values in those columns
Write the Dataframe into a file with a file name.

## Question 3 Background

As a bioinformatician you need to develop appropriate positive and negative controls for your experiments. These controls fall into 2 broad areas.

#### Technical validation

These are tests which validate your method is correctly implemented. For example, for the unique $k$-mers approach, you would write tests which check that your code correctly:

- produces $k$-mers from a sequence, all $k$-mers have length $k$ and consist only of nucleotide characters
- identifies the unique $k$-mers from a single sequence
- given reference genomes and a value of $k$, your algorithm correctly identifies the $k$-mers that are unique to each genome
- etc...

Think of these as technical controls, tests that confirm your algorithm is behaving as designed.

#### Statistical validation

This is a much more substantial task that requires the technical controls to have been completed.

Statistical validation has to enable answering the question, "How well does the method correctly identify species on realistic data?"

The way you answer this is essential for convincing other scientists they should believe the results of your method.

Think of these as real "experimental controls". As in a real experiment, our ability to assess "unknowns" benefits by being able to compare the results from them to known positive and negative cases.

The design of these controls should be such that they reflect as closely as possible the nature of the experimental data. For example, if your experimental data consists of metagenomic reads then your controls should have "similar properties" to those reads.

### Definitions

For a computational experiment, a positive control is one where a sought (or desired) condition exists, by design, in the sample data. A negative control is a case where that condition does not exist, by design, in the sample data.
## Question 3

For all of the parts of this question, you can assume that your algorithm has passed the technical controls.

The term "our experiment" used below, refers to the experimental and reference data under the `data/` directory.

#### Assessment rubric for all parts

- follow the logic assignment style
- you provide a correctly formatted enumerated logical argument for each problem, within the indicated word limit
- arguments are logically cohesive
- identified cases (experimental conditions, assumptions) are plausible
- your text is correctly formatted markdown

The quality of your argument is much more important than how much text you write.
## Question 3 (a)

In <150 words, describe how you would generate **positive controls** for our experiment.
To generate positive controls for the experiment:

Identify the Desired Outcome: We need to identify the outcome of our experiment or the positive result that is there are kmers that are matching to the experimental dataset.

Design Experimental Conditions: We need to create test conditions that will provide the desired outcome and for that we have to select reference sequences that already includes the known kmers in the particular sequence of experimental data.

Validation and Verification : Ensure that the samples are previously confirmed to having the reference kmers in them based on other techniques.

Include positive control sample: Integrate the positive control kmer into the dataset or design a kmer dataset based on the experimental dataset.

Analyse and compare results: Analyse the results by checking the presence of the positive control kmer and compare it with the expected output to validate the sensitivity and reliability of your analysis method in identifying the desired matches.

This is a general positive control step to follow:
Other positive control are:

Multiple Reference Sequences: Include multiple reference sequences that contain different known kmers relevant to your experiment. Each reference sequence can serve as a separate positive control, allowing you to validate the detection of different kmers in the experimental dataset.

Varied Kmer Lengths: Create positive control sequences with varying kmer lengths. This will help assess the performance of your analysis method across different kmer lengths and ensure its ability to detect kmers of various sizes.



## Question 3 (b)

In <150 words, describe how you would generate **negative controls** for our experiment.
To generate negative controls for the experiment:

Identify the Desired Outcome: Determine that the desired outcome for the negative control is the absence of matching kmers in the experimental dataset.

Design Experimental Conditions: Create conditions that deliberately exclude the specific kmers of interest. Select reference sequences that do not contain these kmers.

Validation and Verification: Confirm the absence of the kmers in the negative control samples through independent verification methods.

Include Negative Control Sample: Integrate a negative control sample into the dataset or design a kmer dataset without any matching kmers based on the experimental dataset.

Analyze and Compare Results: Analyze the negative control sample's results, expecting no matching kmers. Compare the observed results to the expected outcome to evaluate the specificity and reliability of your analysis method in avoiding false positives.    
By including a negative control, we can evaluate the specificity of r analysis method and ensure that it does not produce false positive results. 

This was the general approach and the other negative controls can be done in the same way:

Random Sequences: Create artificial sequences that do not contain any of the target kmers. These sequences can be generated randomly or using a background model that ensures they do not have any matches to the kmers of interest

Shuffled Sequences: Take existing sequences from the experimental dataset or reference sequences and shuffle the positions of the nucleotides while preserving the overall composition. This will create sequences that have the same nucleotide composition but lack the specific kmer matches. These shuffled sequences can act as negative controls to evaluate the ability of your method to discriminate against non-specific matches.

## Question 3 (c)

In < 100 words, describe the assumptions of your approach to generating controls.

Answer as as a bulleted list.
The assumptions for generating controls based on the approach for generating controls are:

Assumption of Control Accuracy: The positive control contains the desired kmers, while the negative control lacks them.

Assumption of Representative Experimental Data: The experimental dataset accurately reflects the presence or absence of the kmers being studied.

Assumption of Appropriate Analysis Method: The chosen analysis method is suitable for detecting matches and mismatches between the experimental dataset and the desired kmers.

Assumption of Validated Control Samples: The positive and negative controls have been previously validated to ensure their accuracy.

Assumption of Reliable Results: The analysis method provides reliable and consistent results when applied to the experimental dataset and control samples.

## Q4 - BONUS

*Worth a massive 4%!*

Implement a measure you think will work for this problem (does not have to be the unique $k$-mers approach) and apply it to:

- **one** of the positive control cases **you** describe
- the fasta files in the `data/experimental_data/subset_student_2` ONLY
- collect your results in cogent3 `Table` instance(s), which we will interrogate

### Rubric

Remember, only near perfect answers wilkl be awarded bonus marks. Here are the conditions we will check for:

- Your code must be easy to read, and easily tested
- No dead code
- You must implement at least 1 test of technical correctness
- You include *very* succinct comments explaining your measure (if it's different from the unique k-mers)
- Your positive control must make sense and be correspond with the requirement of allowing fair comparison to real data
- You create the cogent3 Table as requested
#One positive control was to identify kmers of different lengths.
import gzip
from Bio import SeqIO
import os

seqs = {}
with gzip.open("C:/Users/joash/OneDrive/Desktop/Upwork/microres_assignment_2/data/experimental_data/subset_student_2/barcode01.fasta.gz"
   , "rt") as handle:
    for record in SeqIO.parse(handle, "fasta"):
        seqs[record.name] = str(record.seq)
        
from cogent3 import make_table
from cogent3.core.sequence import DnaSequence
import pandas as pd

def find_unique_kmers(seq, k_range):
    header = ['Sequence ID'] + [f'K-mer Length {k}' for k in k_range]

    # Create a list to store the rows of the DataFrame
    rows = []

    for key, sequence in seq.items():
        row = {'Sequence ID': key}

        # Iterate over the k_range and find unique kmers for each length
        for k in k_range:
            kmers = set()
            kmer = str(DnaSequence(sequence).get_kmers(k))
            kmers.add(kmer)

            # Add the unique kmers to the row dictionary
            row[f'K-mer Length {k}'] = kmers

        # Add the row dictionary to the list of rows
        rows.append(row)

    # Create the DataFrame from the list of rows
    df = pd.DataFrame(rows)

    return df

# Example usage


k_range = [2, 3, 4]

result_df = find_unique_kmers(seqs, k_range)

# Print the resulting DataFrame
table = make_table(data_frame = result_df)

table
#The problem for different length of kmers are solved and they can be compared to with kmers reference data of different lengths
