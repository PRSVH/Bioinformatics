{
 "cells": [
  {
   "cell_type": "markdown",
   "metadata": {},
   "source": [
    "# <span style=\"color:red\">Before you turn this in, make sure everything runs as expected.</span>\n",
    "\n",
    "1. **RESTART THE KERNEL** – in the menubar, select Kernel$\\rightarrow$Restart\n",
    "2. **RUN ALL CELLS** – in the menubar, select Cell$\\rightarrow$Run All\n",
    "3. **VALIDATE THE NOTEBOOK** – in the menubar, click the Validate button\n",
    "\n",
    "## <span style=\"color:blue\">How to Answer Questions</span>\n",
    "\n",
    "### <span style=\"color:blue\">Python code answers</span>\n",
    "\n",
    "Enter your answer any place that says\n",
    "```python\n",
    "# Enter your code here\n",
    "```\n",
    "<span style=\"color:red\">**AND delete the text.**</span>\n",
    "```python\n",
    "raise NotImplementedError # No Answer - remove if you provide an answer\n",
    "```\n",
    "\n",
    "### <span style=\"color:blue\">Written answers</span>\n",
    "\n",
    "Enter your answer any place that says\n",
    "```\n",
    "YOUR ANSWER HERE.\n",
    "```"
   ]
  },
  {
   "cell_type": "code",
   "execution_count": null,
   "metadata": {},
   "outputs": [],
   "source": [
    "ANUID = \"u7522927\""
   ]
  },
  {
   "cell_type": "markdown",
   "metadata": {},
   "source": [
    "---"
   ]
  },
  {
   "cell_type": "markdown",
   "metadata": {
    "deletable": false,
    "editable": false,
    "nbgrader": {
     "cell_type": "markdown",
     "checksum": "b3d63965c9b317d776e65ceff6082c93",
     "grade": false,
     "grade_id": "cell-baab2f8ade3f7a5a",
     "locked": true,
     "schema_version": 3,
     "solution": false
    }
   },
   "source": [
    "# Python quiz 3\n",
    "\n",
    "This quiz is worth 1% of the course."
   ]
  },
  {
   "cell_type": "markdown",
   "metadata": {
    "deletable": false,
    "editable": false,
    "nbgrader": {
     "cell_type": "markdown",
     "checksum": "94bd7dc2e8eac4fdebc8fbf1aa93d456",
     "grade": false,
     "grade_id": "cell-bc5a6cd8f161fdbe",
     "locked": true,
     "schema_version": 3,
     "solution": false
    }
   },
   "source": [
    "## Q 1 – simple function\n",
    "\n",
    "Write a function called `squared` that takes one numerical argument and returns the square of it (e.g. $f(i)=i^2$)"
   ]
  },
  {
   "cell_type": "code",
   "execution_count": 1,
   "metadata": {
    "deletable": false,
    "nbgrader": {
     "cell_type": "code",
     "checksum": "7ca8f63efc19385cca69e2db8e8accf7",
     "grade": false,
     "grade_id": "squared-defn",
     "locked": false,
     "schema_version": 3,
     "solution": true
    }
   },
   "outputs": [],
   "source": [
    "# complete this function\n",
    "def squared(x):\n",
    "    y=x*x\n",
    "    return y\n"
   ]
  },
  {
   "cell_type": "code",
   "execution_count": 2,
   "metadata": {
    "deletable": false,
    "editable": false,
    "nbgrader": {
     "cell_type": "code",
     "checksum": "e4373f9fc2c6a40ff0d639e584bd4814",
     "grade": true,
     "grade_id": "squared-defined",
     "locked": true,
     "points": 0.05,
     "schema_version": 3,
     "solution": false
    }
   },
   "outputs": [],
   "source": [
    "# This part worth 0.05\n",
    "\n",
    "# This cell is testing your code\n",
    "\"\"\"Q1 simple function : correct name and callable\"\"\"\n",
    "assert \"squared\" in locals()\n",
    "assert callable(squared), \"it's not a function!\""
   ]
  },
  {
   "cell_type": "code",
   "execution_count": 3,
   "metadata": {
    "deletable": false,
    "editable": false,
    "nbgrader": {
     "cell_type": "code",
     "checksum": "c30c864b9851b48e323a6612f01ce0f7",
     "grade": true,
     "grade_id": "squared-val",
     "locked": true,
     "points": 0.05,
     "schema_version": 3,
     "solution": false
    }
   },
   "outputs": [
    {
     "data": {
      "text/plain": [
       "'Q1 simple function : correct value'"
      ]
     },
     "execution_count": 3,
     "metadata": {},
     "output_type": "execute_result"
    }
   ],
   "source": [
    "# This part worth 0.05\n",
    "\n",
    "# This cell is testing your code\n",
    "\"\"\"Q1 simple function : correct value\"\"\""
   ]
  },
  {
   "cell_type": "markdown",
   "metadata": {
    "deletable": false,
    "editable": false,
    "nbgrader": {
     "cell_type": "markdown",
     "checksum": "1fc3f061e24579947ac0c9f7255a0585",
     "grade": false,
     "grade_id": "cell-867d8e06c9259e70",
     "locked": true,
     "schema_version": 3,
     "solution": false,
     "task": false
    }
   },
   "source": [
    "---"
   ]
  },
  {
   "cell_type": "markdown",
   "metadata": {
    "deletable": false,
    "editable": false,
    "nbgrader": {
     "cell_type": "markdown",
     "checksum": "50154a3f39dcf4451c25af6940a694c4",
     "grade": false,
     "grade_id": "cell-80b04e5a99aa3a0f",
     "locked": true,
     "schema_version": 3,
     "solution": false
    }
   },
   "source": [
    "## Q2 – converting a data line to a dict\n",
    "\n",
    "In the Donor by Cancer type file, the first line of the file is the column names and the remainder are data lines.\n",
    "\n",
    "The objective is to write a function that takes one data line and returns a `dict` keyed by the column names with values  from the corresponding data line fields. To do this you need to provide the function with the field names and the data line to be converted. The line to be converted needs to be cleaned up and split on the delimiting character.\n",
    "\n",
    "For example\n",
    "```python\n",
    "line_to_fields((\"Individual Id\", \"Project ID\"), \"D123\\tNasty-Cancer\\n\")\n",
    "```\n",
    "should return\n",
    "```python\n",
    "{'Individual Id': 'D123', 'Project ID': 'Nasty-Cancer'}\n",
    "```\n",
    "\n",
    "I will test using synthetic examples and the one given below."
   ]
  },
  {
   "cell_type": "code",
   "execution_count": null,
   "metadata": {
    "deletable": false,
    "editable": false,
    "nbgrader": {
     "cell_type": "code",
     "checksum": "23bc01107d9d625d4288705ac9893a2e",
     "grade": false,
     "grade_id": "string-proc-func",
     "locked": true,
     "schema_version": 3,
     "solution": false
    }
   },
   "outputs": [],
   "source": [
    "field_names = (\"Donor_ID\", \"Project_Code\")\n",
    "line = \"DO36068\\tCNS-PiloAstro\\n\""
   ]
  },
  {
   "cell_type": "code",
   "execution_count": 15,
   "metadata": {
    "deletable": false,
    "nbgrader": {
     "cell_type": "code",
     "checksum": "1ed2051ebd2d608a17b8347c32e53461",
     "grade": false,
     "grade_id": "delimiter-soln",
     "locked": false,
     "schema_version": 3,
     "solution": true
    }
   },
   "outputs": [
    {
     "name": "stdout",
     "output_type": "stream",
     "text": [
      "['D123', 'Nasty-Cancer']\n",
      "{'Individual Id': 'D123', 'Project ID': 'Nasty-Cancer'}\n"
     ]
    }
   ],
   "source": [
    "# complete this function\n",
    "import re\n",
    "def line_to_fields(fields: list[str], data_line: str) -> dict[str, str]:\n",
    "    result = {}\n",
    "    linearr=re.split('\\t|\\n',data_line)\n",
    "    del linearr[-1]\n",
    "    print(linearr)\n",
    "    i = 0\n",
    "    for elem in fields:\n",
    "        result[elem]=linearr[i]\n",
    "        i=i+1\n",
    "    return result\n",
    "print(line_to_fields((\"Individual Id\", \"Project ID\"), \"D123\\tNasty-Cancer\\n\"))\n",
    "\n"
   ]
  },
  {
   "cell_type": "code",
   "execution_count": 16,
   "metadata": {
    "deletable": false,
    "editable": false,
    "nbgrader": {
     "cell_type": "code",
     "checksum": "583c9dcf78bd7267e6695ade21576327",
     "grade": true,
     "grade_id": "func_signature",
     "locked": true,
     "points": 0.05,
     "schema_version": 3,
     "solution": false,
     "task": false
    }
   },
   "outputs": [
    {
     "ename": "AssertionError",
     "evalue": "The following expected variables are missing: line, field_names",
     "output_type": "error",
     "traceback": [
      "\u001b[0;31m---------------------------------------------------------------------------\u001b[0m",
      "\u001b[0;31mAssertionError\u001b[0m                            Traceback (most recent call last)",
      "Cell \u001b[0;32mIn[16], line 8\u001b[0m\n\u001b[1;32m      5\u001b[0m \u001b[38;5;28;01mfrom\u001b[39;00m \u001b[38;5;21;01mgutils\u001b[39;00m \u001b[38;5;28;01mimport\u001b[39;00m check\n\u001b[1;32m      7\u001b[0m check\u001b[38;5;241m.\u001b[39mallowed_modules()\n\u001b[0;32m----> 8\u001b[0m \u001b[43mcheck\u001b[49m\u001b[38;5;241;43m.\u001b[39;49m\u001b[43mexpected_variables_exist\u001b[49m\u001b[43m(\u001b[49m\u001b[43m[\u001b[49m\u001b[38;5;124;43m\"\u001b[39;49m\u001b[38;5;124;43mline_to_fields\u001b[39;49m\u001b[38;5;124;43m\"\u001b[39;49m\u001b[43m,\u001b[49m\u001b[43m \u001b[49m\u001b[38;5;124;43m\"\u001b[39;49m\u001b[38;5;124;43mline\u001b[39;49m\u001b[38;5;124;43m\"\u001b[39;49m\u001b[43m,\u001b[49m\u001b[43m \u001b[49m\u001b[38;5;124;43m\"\u001b[39;49m\u001b[38;5;124;43mfield_names\u001b[39;49m\u001b[38;5;124;43m\"\u001b[39;49m\u001b[43m]\u001b[49m\u001b[43m,\u001b[49m\u001b[43m \u001b[49m\u001b[38;5;28;43mlocals\u001b[39;49m\u001b[43m(\u001b[49m\u001b[43m)\u001b[49m\u001b[43m)\u001b[49m\n",
      "File \u001b[0;32m/opt/conda/envs/python3.10/lib/python3.10/site-packages/gutils/check.py:28\u001b[0m, in \u001b[0;36mexpected_variables_exist\u001b[0;34m(var_names, scope, callables)\u001b[0m\n\u001b[1;32m     25\u001b[0m     msgs\u001b[38;5;241m.\u001b[39mappend(\u001b[38;5;124mf\u001b[39m\u001b[38;5;124m\"\u001b[39m\u001b[38;5;124mThe following are not callable: \u001b[39m\u001b[38;5;132;01m{\u001b[39;00mmsg\u001b[38;5;132;01m}\u001b[39;00m\u001b[38;5;124m\"\u001b[39m)\n\u001b[1;32m     27\u001b[0m \u001b[38;5;28;01mif\u001b[39;00m msgs:\n\u001b[0;32m---> 28\u001b[0m     \u001b[38;5;28;01mraise\u001b[39;00m \u001b[38;5;167;01mAssertionError\u001b[39;00m(\u001b[38;5;124m\"\u001b[39m\u001b[38;5;130;01m\\n\u001b[39;00m\u001b[38;5;124m\"\u001b[39m\u001b[38;5;241m.\u001b[39mjoin(msgs))\n",
      "\u001b[0;31mAssertionError\u001b[0m: The following expected variables are missing: line, field_names"
     ]
    }
   ],
   "source": [
    "# This part worth 0.05\n",
    "\n",
    "# This cell is testing your code\n",
    "\"\"\"Q2 line_to_fields() : correct variable names and modules\"\"\"\n",
    "from gutils import check\n",
    "\n",
    "check.allowed_modules()\n",
    "check.expected_variables_exist([\"line_to_fields\", \"line\", \"field_names\"], locals())"
   ]
  },
  {
   "cell_type": "code",
   "execution_count": 17,
   "metadata": {
    "deletable": false,
    "editable": false,
    "nbgrader": {
     "cell_type": "code",
     "checksum": "bae87b7e3c9183766f714ed0625e74f6",
     "grade": true,
     "grade_id": "delimiter-provided",
     "locked": true,
     "points": 0.05,
     "schema_version": 3,
     "solution": false
    }
   },
   "outputs": [
    {
     "data": {
      "text/plain": [
       "'Q2 line_to_fields() : correct values on provided data line'"
      ]
     },
     "execution_count": 17,
     "metadata": {},
     "output_type": "execute_result"
    }
   ],
   "source": [
    "# This part worth 0.05\n",
    "\n",
    "# This cell is testing your code\n",
    "\"\"\"Q2 line_to_fields() : correct values on provided data line\"\"\""
   ]
  },
  {
   "cell_type": "code",
   "execution_count": 18,
   "metadata": {
    "deletable": false,
    "editable": false,
    "nbgrader": {
     "cell_type": "code",
     "checksum": "a806446f102714f9dba0b85b61fc28ad",
     "grade": true,
     "grade_id": "delimiter-other",
     "locked": true,
     "points": 0.05,
     "schema_version": 3,
     "solution": false
    }
   },
   "outputs": [
    {
     "data": {
      "text/plain": [
       "'Q2 line_to_fields() : correct on another value'"
      ]
     },
     "execution_count": 18,
     "metadata": {},
     "output_type": "execute_result"
    }
   ],
   "source": [
    "# This part worth 0.05\n",
    "\n",
    "# This cell is testing your code\n",
    "\"\"\"Q2 line_to_fields() : correct on another value\"\"\""
   ]
  },
  {
   "cell_type": "markdown",
   "metadata": {
    "deletable": false,
    "editable": false,
    "nbgrader": {
     "cell_type": "markdown",
     "checksum": "a72d9d43ec9a31464fd648ffed49382e",
     "grade": false,
     "grade_id": "parse-disease",
     "locked": true,
     "schema_version": 3,
     "solution": false,
     "task": false
    }
   },
   "source": [
    "## Q3 – useful data from a file\n",
    "\n",
    "Write a parser for the file at `path` (it is the one used in Exercise 5.30(4)), generating a list of dicts using your `line_to_fields()` function."
   ]
  },
  {
   "cell_type": "code",
   "execution_count": null,
   "metadata": {
    "deletable": false,
    "editable": false,
    "nbgrader": {
     "cell_type": "code",
     "checksum": "7eea3e34e061f33f931747c5dea1ac41",
     "grade": false,
     "grade_id": "parse-disease-path",
     "locked": true,
     "schema_version": 3,
     "solution": false,
     "task": false
    }
   },
   "outputs": [],
   "source": [
    "path = \"data/donor_by_cancer_type.tsv\""
   ]
  },
  {
   "cell_type": "code",
   "execution_count": 20,
   "metadata": {
    "deletable": false,
    "nbgrader": {
     "cell_type": "code",
     "checksum": "1e519df7dc13bf9b85bdc31fbe615792",
     "grade": false,
     "grade_id": "parse-disease-soln",
     "locked": false,
     "schema_version": 3,
     "solution": true
    }
   },
   "outputs": [],
   "source": [
    "# complete this function\n",
    "def parse_project_data(path) -> list[dict]:\n",
    "    result = []\n",
    "    file1 = open(path, \"r\")\n",
    "    fieldnames = file1.readline()\n",
    "    header=re.split('\\t|\\n',fieldnames)\n",
    "    del header[-1]\n",
    "    lines = file1.readlines()\n",
    "    for data_line in lines:\n",
    "        result.append(line_to_fields(header, data_line))\n",
    "    return result\n",
    "\n"
   ]
  },
  {
   "cell_type": "code",
   "execution_count": 21,
   "metadata": {
    "deletable": false,
    "editable": false,
    "nbgrader": {
     "cell_type": "code",
     "checksum": "5bedb73d5dd9cb497dd77bdb13e1dd98",
     "grade": true,
     "grade_id": "parse-disease-checks",
     "locked": true,
     "points": 0.05,
     "schema_version": 3,
     "solution": false
    }
   },
   "outputs": [],
   "source": [
    "# This part worth 0.05\n",
    "\n",
    "# This cell is testing your code\n",
    "\"\"\"Q3 parse_project_data() : basic checks\"\"\"\n",
    "check.allowed_modules()\n",
    "check.expected_variables_exist([\"parse_project_data\"], locals())\n",
    "assert callable(parse_project_data), f\"{parse_project_data} is not a function\""
   ]
  },
  {
   "cell_type": "code",
   "execution_count": 22,
   "metadata": {
    "deletable": false,
    "editable": false,
    "nbgrader": {
     "cell_type": "code",
     "checksum": "46c7651b74ddd00449a0ffa2e74b5e0c",
     "grade": true,
     "grade_id": "parse-disease-num_lines",
     "locked": true,
     "points": 0.1,
     "schema_version": 3,
     "solution": false,
     "task": false
    }
   },
   "outputs": [
    {
     "data": {
      "text/plain": [
       "'Q3 parse_project_data() : correct number of lines'"
      ]
     },
     "execution_count": 22,
     "metadata": {},
     "output_type": "execute_result"
    }
   ],
   "source": [
    "# This part worth 0.1\n",
    "\n",
    "\"\"\"Q3 parse_project_data() : correct number of lines\"\"\"\n",
    "# Additional checks."
   ]
  },
  {
   "cell_type": "code",
   "execution_count": 23,
   "metadata": {
    "deletable": false,
    "editable": false,
    "nbgrader": {
     "cell_type": "code",
     "checksum": "03d299688d47fb0094552d3faaf57885",
     "grade": true,
     "grade_id": "parse-disease-",
     "locked": true,
     "points": 0.1,
     "schema_version": 3,
     "solution": false,
     "task": false
    }
   },
   "outputs": [
    {
     "data": {
      "text/plain": [
       "'Q3 parse_project_data() : exactly correct values'"
      ]
     },
     "execution_count": 23,
     "metadata": {},
     "output_type": "execute_result"
    }
   ],
   "source": [
    "# This part worth 0.1\n",
    "\n",
    "# This cell is testing your code\n",
    "\"\"\"Q3 parse_project_data() : exactly correct values\"\"\""
   ]
  },
  {
   "cell_type": "markdown",
   "metadata": {
    "deletable": false,
    "editable": false,
    "nbgrader": {
     "cell_type": "markdown",
     "checksum": "ccae1f553431d52ec7a5983741f927de",
     "grade": false,
     "grade_id": "count-types",
     "locked": true,
     "schema_version": 3,
     "solution": false,
     "task": false
    }
   },
   "source": [
    "## Q 4 – counting types\n",
    "\n",
    "Having generated a useful data structure from the data file, we now want to compute some summary statistics. Specifically, we want to compute how many donors are registered for each cancer.\n",
    "\n",
    "For example\n",
    "```python\n",
    "data = [\n",
    "    {'Donor_ID': 'DO220887', 'Project_Code': 'Skin-Melanoma'},\n",
    "    {'Donor_ID': 'DO220872', 'Project_Code': 'Skin-Melanoma'},\n",
    "    ]\n",
    "count_cancer_types(data)\n",
    "```\n",
    "should return\n",
    "```python\n",
    "{'Skin-Melanoma': 2}\n",
    "```"
   ]
  },
  {
   "cell_type": "code",
   "execution_count": 24,
   "metadata": {
    "deletable": false,
    "nbgrader": {
     "cell_type": "code",
     "checksum": "784ccec1df458220018ce861f71165d6",
     "grade": false,
     "grade_id": "count-types-soln",
     "locked": false,
     "schema_version": 3,
     "solution": true
    }
   },
   "outputs": [],
   "source": [
    "\n",
    "from collections import Counter\n",
    "def count_cancer_types(records: list[dict]) -> dict[str, int]:\n",
    "    result = {}\n",
    "    for record in records:\n",
    "        code = record[\"Project_Code\"]\n",
    "        if code in result:\n",
    "            result[code] += 1\n",
    "        else:\n",
    "            result[code] = 1\n",
    "        # or replace above conditional with this line\n",
    "        # result[code] = result.get(code, 0) + 1\n",
    "    return result\n"
   ]
  },
  {
   "cell_type": "code",
   "execution_count": 25,
   "metadata": {
    "deletable": false,
    "editable": false,
    "nbgrader": {
     "cell_type": "code",
     "checksum": "ab71807057d4d535dd120d6c3d942d1f",
     "grade": true,
     "grade_id": "count-types-check",
     "locked": true,
     "points": 0.05,
     "schema_version": 3,
     "solution": false,
     "task": false
    }
   },
   "outputs": [],
   "source": [
    "# This part worth 0.05\n",
    "\n",
    "# This cell is testing your code\n",
    "\"\"\"Q3 count_cancer_types() : basic checks\"\"\"\n",
    "check.allowed_modules()\n",
    "check.expected_variables_exist([\"count_cancer_types\"], locals())\n",
    "assert callable(parse_project_data), f\"{parse_project_data} is not a function\""
   ]
  },
  {
   "cell_type": "code",
   "execution_count": 26,
   "metadata": {
    "deletable": false,
    "editable": false,
    "nbgrader": {
     "cell_type": "code",
     "checksum": "0c721f5f5e941e2f79e92a675a174bc8",
     "grade": true,
     "grade_id": "count-types-sample",
     "locked": true,
     "points": 0.15,
     "schema_version": 3,
     "solution": false
    }
   },
   "outputs": [],
   "source": [
    "# This part worth 0.15\n",
    "\n",
    "# This cell is testing your code\n",
    "\"\"\"Q4 count_cancer_types() : correct values for sample data\"\"\"\n",
    "check.expected_variables_exist([\"count_cancer_types\"], locals())\n",
    "assert callable(count_cancer_types), f\"{get_numeric} is not a function\"\n",
    "# Additional checks."
   ]
  },
  {
   "cell_type": "code",
   "execution_count": 27,
   "metadata": {
    "deletable": false,
    "editable": false,
    "nbgrader": {
     "cell_type": "code",
     "checksum": "c5b320ee2b43c9e1e0bd1216f6576c7a",
     "grade": true,
     "grade_id": "count-types-full",
     "locked": true,
     "points": 0.3,
     "schema_version": 3,
     "solution": false
    }
   },
   "outputs": [
    {
     "data": {
      "text/plain": [
       "'Q4 count_cancer_types() : correct values on other cases'"
      ]
     },
     "execution_count": 27,
     "metadata": {},
     "output_type": "execute_result"
    }
   ],
   "source": [
    "# This part worth 0.3\n",
    "\n",
    "# This cell is testing your code\n",
    "\"\"\"Q4 count_cancer_types() : correct values on other cases\"\"\""
   ]
  },
  {
   "cell_type": "code",
   "execution_count": null,
   "metadata": {},
   "outputs": [],
   "source": []
  }
 ],
 "metadata": {
  "kernelspec": {
   "display_name": "Py310",
   "language": "python",
   "name": "py310"
  },
  "language_info": {
   "codemirror_mode": {
    "name": "ipython",
    "version": 3
   },
   "file_extension": ".py",
   "mimetype": "text/x-python",
   "name": "python",
   "nbconvert_exporter": "python",
   "pygments_lexer": "ipython3",
   "version": "3.10.9"
  },
  "latex_envs": {
   "LaTeX_envs_menu_present": true,
   "autocomplete": true,
   "bibliofile": "biblio.bib",
   "cite_by": "apalike",
   "current_citInitial": 1,
   "eqLabelWithNumbers": true,
   "eqNumInitial": 1,
   "hotkeys": {
    "equation": "Ctrl-E",
    "itemize": "Ctrl-I"
   },
   "labels_anchors": false,
   "latex_user_defs": false,
   "report_style_numbering": false,
   "user_envs_cfg": false
  }
 },
 "nbformat": 4,
 "nbformat_minor": 2
}
