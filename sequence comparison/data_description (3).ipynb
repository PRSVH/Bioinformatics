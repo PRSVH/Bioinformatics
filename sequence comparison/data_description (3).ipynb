{
 "cells": [
  {
   "cell_type": "markdown",
   "metadata": {},
   "source": [
    "# <span style=\"color:red\">Before you turn this in, make sure everything runs as expected.</span>\n",
    "\n",
    "1. **RESTART THE KERNEL** – in the menubar, select Kernel$\\rightarrow$Restart\n",
    "2. **RUN ALL CELLS** – in the menubar, select Cell$\\rightarrow$Run All\n",
    "3. **VALIDATE THE NOTEBOOK** – in the menubar, click the Validate button\n",
    "\n",
    "## <span style=\"color:blue\">How to Answer Questions</span>\n",
    "\n",
    "### <span style=\"color:blue\">Python code answers</span>\n",
    "\n",
    "Enter your answer any place that says\n",
    "```python\n",
    "# Enter your code here\n",
    "```\n",
    "<span style=\"color:red\">**AND delete the text.**</span>\n",
    "```python\n",
    "raise NotImplementedError # No Answer - remove if you provide an answer\n",
    "```\n",
    "\n",
    "### <span style=\"color:blue\">Written answers</span>\n",
    "\n",
    "Enter your answer any place that says\n",
    "```\n",
    "YOUR ANSWER HERE.\n",
    "```"
   ]
  },
  {
   "cell_type": "code",
   "execution_count": 1,
   "metadata": {},
   "outputs": [],
   "source": [
    "ANUID = \"u7522927\""
   ]
  },
  {
   "cell_type": "markdown",
   "metadata": {
    "deletable": false,
    "editable": false,
    "nbgrader": {
     "cell_type": "markdown",
     "checksum": "8b2f8cc16e1ef6097e7ce5e3376e8a8b",
     "grade": false,
     "grade_id": "cell-0d77a6d4f5aec64c",
     "locked": true,
     "schema_version": 3,
     "solution": false
    }
   },
   "source": [
    "# Origins of the data\n",
    "\n",
    "**Run all the cells in this notebook to generate the figures and tables.**"
   ]
  },
  {
   "cell_type": "markdown",
   "metadata": {
    "deletable": false,
    "editable": false,
    "nbgrader": {
     "cell_type": "markdown",
     "checksum": "d4ca697a2bd45b977fe3753e943d6eb2",
     "grade": false,
     "grade_id": "cell-65adf88c2c524002",
     "locked": true,
     "schema_version": 3,
     "solution": false
    }
   },
   "source": [
    "# The provided data\n",
    "\n",
    "To facilitate your research, I have provided some useful data within the `data/pssm/` directory. \n",
    "\n",
    "## TFBS matrices\n",
    "\n",
    "There are seven TF whose TFBS definitions have been obtained from the JASPAR website. Some of these are described in [Culley et al](https://www.ncbi.nlm.nih.gov/pmc/articles/PMC3684448/). Links to descriptions of the genes and to their JASPAR entries (which also display a useful visual representation of the TFBS) are provided in this table.\n",
    "\n",
    "| TF |                                                            Functional Description |                                        TFBS definition |\n",
    "|--------|---------------------------------------------------------------------------------------------|---------------------------------------------------------|\n",
    "|  GATA4 |      [description](https://www.genecards.org/cgi-bin/carddisp.pl?gene=GATA4&keywords=gata4) | [at jaspar](http://jaspar.genereg.net/matrix/MA0482.1/) |\n",
    "|   MEF2 |       [description](https://www.genecards.org/cgi-bin/carddisp.pl?gene=MEF2A&keywords=mef2) | [at jaspar](http://jaspar.genereg.net/matrix/PF0028.1/) |\n",
    "|   MYOG |        [description](https://www.genecards.org/cgi-bin/carddisp.pl?gene=MYOG&keywords=myog) | [at jaspar](http://jaspar.genereg.net/matrix/MA0500.1/) |\n",
    "|    NKX2-5 | [description](https://www.genecards.org/cgi-bin/carddisp.pl?gene=NKX2-5&keywords=nkx2-5) | [at jaspar](http://jaspar.genereg.net/matrix/MA0063.1/) |\n",
    "|   SRF1 |          [description](https://www.genecards.org/cgi-bin/carddisp.pl?gene=SRF&keywords=srf) | [at jaspar](http://jaspar.genereg.net/matrix/PB0078.1/) |\n",
    "|    TBP |          [description](https://www.genecards.org/cgi-bin/carddisp.pl?gene=TBP&keywords=tbp) | [at jaspar](http://jaspar.genereg.net/matrix/MA0108.1/) |\n",
    "|   TBX5 |        [description](https://www.genecards.org/cgi-bin/carddisp.pl?gene=TBX5&keywords=TBX5) | [at jaspar](http://jaspar.genereg.net/matrix/MA0807.1/) |\n",
    "\n",
    "## The sequences\n",
    "\n",
    "The file `data/pssm/mouse-release-92-v2.fasta` contains sequences ±500bp of the Transcription Start Site (henceforth TSS) for all mouse protein coding genes (I excluded some sequences due to low sequence quality) that I sampled from [Ensembl](http://www.ensembl.org). The labels for these sequences are Ensembl identifiers (called `stableid`). Below is a summary display of that data."
   ]
  },
  {
   "cell_type": "code",
   "execution_count": 2,
   "metadata": {
    "deletable": false,
    "editable": false,
    "nbgrader": {
     "cell_type": "code",
     "checksum": "05a49942cc4a844755fafc830e5b7c15",
     "grade": false,
     "grade_id": "cell-161fe810949411ac",
     "locked": true,
     "schema_version": 3,
     "solution": false,
     "task": false
    }
   },
   "outputs": [
    {
     "data": {
      "text/html": [
       "<style>\n",
       ".c3align td { border: none !important; text-align: left !important; }\n",
       ".c3align tr:not(.num_row) td span {margin: 0 2px;}\n",
       ".c3align tr:nth-child(even) {background: #f7f7f7;}\n",
       ".c3align .num_row {background-color:rgba(161, 195, 209, 0.5) !important; border-top: solid 1px black; }\n",
       ".c3align .label { font-size: 12pt ; text-align: right !important; color: black !important; padding: 0 4px; display: table-cell !important; font-weight: normal !important; }\n",
       ".c3align .T_dna{font-family: \"Lucida Console\",monospace !important; font-size: 12pt !important; color: blue; }\n",
       ".c3align .C_dna{font-family: \"Lucida Console\",monospace !important; font-size: 12pt !important; color: black; }\n",
       ".c3align .A_dna{font-family: \"Lucida Console\",monospace !important; font-size: 12pt !important; color: #FF0102; }\n",
       ".c3align .G_dna{font-family: \"Lucida Console\",monospace !important; font-size: 12pt !important; color: green; }\n",
       ".c3align .terminal_ambig_dna{font-family: \"Lucida Console\",monospace !important; font-size: 12pt !important; color: gray; }\n",
       ".c3align .ambig_dna{font-family: \"Lucida Console\",monospace !important; font-size: 12pt !important; color: gray; }\n",
       "</style>\n",
       "<div class=\"c3align\">\n",
       "<table>\n",
       "<tr class=\"num_row\"><td></td><td><b>0</b></td></tr>\n",
       "<tr><td class=\"label\">ENSMUSG00000023892</td><td><span class=\"G_dna\">G</span><span class=\"T_dna\">T</span><span class=\"A_dna\">A</span><span class=\"A_dna\">A</span><span class=\"C_dna\">C</span><span class=\"A_dna\">A</span><span class=\"T_dna\">T</span><span class=\"C_dna\">C</span><span class=\"A_dna\">A</span><span class=\"G_dna\">G</span><span class=\"T_dna\">T</span><span class=\"A_dna\">A</span><span class=\"C_dna\">C</span><span class=\"A_dna\">A</span><span class=\"G_dna\">G</span><span class=\"C_dna\">C</span><span class=\"A_dna\">A</span><span class=\"C_dna\">C</span><span class=\"A_dna\">A</span><span class=\"G_dna\">G</span><span class=\"G_dna\">G</span><span class=\"A_dna\">A</span><span class=\"T_dna\">T</span><span class=\"G_dna\">G</span><span class=\"A_dna\">A</span><span class=\"A_dna\">A</span><span class=\"T_dna\">T</span><span class=\"T_dna\">T</span><span class=\"C_dna\">C</span><span class=\"G_dna\">G</span><span class=\"G_dna\">G</span><span class=\"C_dna\">C</span><span class=\"C_dna\">C</span><span class=\"C_dna\">C</span><span class=\"T_dna\">T</span><span class=\"G_dna\">G</span><span class=\"G_dna\">G</span><span class=\"G_dna\">G</span><span class=\"C_dna\">C</span><span class=\"G_dna\">G</span><span class=\"G_dna\">G</span><span class=\"A_dna\">A</span><span class=\"T_dna\">T</span><span class=\"A_dna\">A</span><span class=\"G_dna\">G</span><span class=\"C_dna\">C</span><span class=\"A_dna\">A</span><span class=\"A_dna\">A</span><span class=\"A_dna\">A</span><span class=\"G_dna\">G</span><span class=\"A_dna\">A</span><span class=\"G_dna\">G</span><span class=\"C_dna\">C</span><span class=\"C_dna\">C</span><span class=\"A_dna\">A</span><span class=\"C_dna\">C</span><span class=\"T_dna\">T</span><span class=\"G_dna\">G</span><span class=\"A_dna\">A</span><span class=\"A_dna\">A</span></td></tr>\n",
       "<tr><td class=\"label\">ENSMUSG00000056468</td><td><span class=\"G_dna\">.</span><span class=\"C_dna\">C</span><span class=\"C_dna\">C</span><span class=\"A_dna\">.</span><span class=\"G_dna\">G</span><span class=\"G_dna\">G</span><span class=\"G_dna\">G</span><span class=\"G_dna\">G</span><span class=\"G_dna\">G</span><span class=\"G_dna\">.</span><span class=\"A_dna\">A</span><span class=\"A_dna\">.</span><span class=\"A_dna\">A</span><span class=\"G_dna\">G</span><span class=\"G_dna\">.</span><span class=\"G_dna\">G</span><span class=\"A_dna\">.</span><span class=\"G_dna\">G</span><span class=\"A_dna\">.</span><span class=\"A_dna\">A</span><span class=\"A_dna\">A</span><span class=\"T_dna\">T</span><span class=\"C_dna\">C</span><span class=\"A_dna\">A</span><span class=\"A_dna\">.</span><span class=\"A_dna\">.</span><span class=\"A_dna\">A</span><span class=\"A_dna\">A</span><span class=\"A_dna\">A</span><span class=\"G_dna\">.</span><span class=\"C_dna\">C</span><span class=\"A_dna\">A</span><span class=\"C_dna\">.</span><span class=\"T_dna\">T</span><span class=\"C_dna\">C</span><span class=\"C_dna\">C</span><span class=\"G_dna\">.</span><span class=\"G_dna\">.</span><span class=\"G_dna\">G</span><span class=\"C_dna\">C</span><span class=\"C_dna\">C</span><span class=\"A_dna\">.</span><span class=\"G_dna\">G</span><span class=\"G_dna\">G</span><span class=\"G_dna\">.</span><span class=\"T_dna\">T</span><span class=\"G_dna\">G</span><span class=\"G_dna\">G</span><span class=\"C_dna\">C</span><span class=\"C_dna\">C</span><span class=\"T_dna\">T</span><span class=\"C_dna\">C</span><span class=\"A_dna\">A</span><span class=\"T_dna\">T</span><span class=\"G_dna\">G</span><span class=\"C_dna\">.</span><span class=\"A_dna\">A</span><span class=\"T_dna\">T</span><span class=\"A_dna\">.</span><span class=\"C_dna\">C</span></td></tr>\n",
       "<tr><td class=\"label\">ENSMUSG00000039616</td><td><span class=\"G_dna\">.</span><span class=\"C_dna\">C</span><span class=\"C_dna\">C</span><span class=\"C_dna\">C</span><span class=\"T_dna\">T</span><span class=\"T_dna\">T</span><span class=\"C_dna\">C</span><span class=\"A_dna\">A</span><span class=\"A_dna\">.</span><span class=\"A_dna\">A</span><span class=\"T_dna\">.</span><span class=\"T_dna\">T</span><span class=\"T_dna\">T</span><span class=\"G_dna\">G</span><span class=\"G_dna\">.</span><span class=\"T_dna\">T</span><span class=\"T_dna\">T</span><span class=\"T_dna\">T</span><span class=\"C_dna\">C</span><span class=\"T_dna\">T</span><span class=\"C_dna\">C</span><span class=\"A_dna\">.</span><span class=\"G_dna\">G</span><span class=\"C_dna\">C</span><span class=\"C_dna\">C</span><span class=\"C_dna\">C</span><span class=\"C_dna\">C</span><span class=\"G_dna\">G</span><span class=\"C_dna\">.</span><span class=\"C_dna\">C</span><span class=\"T_dna\">T</span><span class=\"C_dna\">.</span><span class=\"A_dna\">A</span><span class=\"C_dna\">.</span><span class=\"C_dna\">C</span><span class=\"T_dna\">T</span><span class=\"G_dna\">.</span><span class=\"A_dna\">A</span><span class=\"G_dna\">G</span><span class=\"T_dna\">T</span><span class=\"T_dna\">T</span><span class=\"C_dna\">C</span><span class=\"A_dna\">A</span><span class=\"C_dna\">C</span><span class=\"T_dna\">T</span><span class=\"T_dna\">T</span><span class=\"T_dna\">T</span><span class=\"A_dna\">.</span><span class=\"T_dna\">T</span><span class=\"C_dna\">C</span><span class=\"A_dna\">.</span><span class=\"T_dna\">T</span><span class=\"G_dna\">G</span><span class=\"T_dna\">T</span><span class=\"C_dna\">C</span><span class=\"T_dna\">T</span><span class=\"T_dna\">.</span><span class=\"C_dna\">C</span><span class=\"C_dna\">C</span><span class=\"T_dna\">T</span></td></tr>\n",
       "<tr><td class=\"label\">ENSMUSG00000024091</td><td><span class=\"T_dna\">T</span><span class=\"T_dna\">.</span><span class=\"T_dna\">T</span><span class=\"C_dna\">C</span><span class=\"C_dna\">.</span><span class=\"A_dna\">.</span><span class=\"G_dna\">G</span><span class=\"G_dna\">G</span><span class=\"G_dna\">G</span><span class=\"C_dna\">C</span><span class=\"A_dna\">A</span><span class=\"G_dna\">G</span><span class=\"A_dna\">A</span><span class=\"C_dna\">C</span><span class=\"A_dna\">A</span><span class=\"A_dna\">A</span><span class=\"G_dna\">G</span><span class=\"A_dna\">A</span><span class=\"C_dna\">C</span><span class=\"G_dna\">.</span><span class=\"C_dna\">C</span><span class=\"C_dna\">C</span><span class=\"C_dna\">C</span><span class=\"T_dna\">T</span><span class=\"C_dna\">C</span><span class=\"G_dna\">G</span><span class=\"G_dna\">G</span><span class=\"C_dna\">C</span><span class=\"G_dna\">G</span><span class=\"A_dna\">A</span><span class=\"G_dna\">.</span><span class=\"C_dna\">.</span><span class=\"C_dna\">.</span><span class=\"A_dna\">A</span><span class=\"A_dna\">A</span><span class=\"A_dna\">A</span><span class=\"A_dna\">A</span><span class=\"G_dna\">.</span><span class=\"C_dna\">.</span><span class=\"C_dna\">C</span><span class=\"G_dna\">.</span><span class=\"C_dna\">C</span><span class=\"G_dna\">G</span><span class=\"T_dna\">T</span><span class=\"C_dna\">C</span><span class=\"A_dna\">A</span><span class=\"G_dna\">G</span><span class=\"C_dna\">C</span><span class=\"G_dna\">G</span><span class=\"G_dna\">.</span><span class=\"C_dna\">C</span><span class=\"C_dna\">C</span><span class=\"C_dna\">.</span><span class=\"C_dna\">.</span><span class=\"A_dna\">.</span><span class=\"C_dna\">.</span><span class=\"C_dna\">C</span><span class=\"C_dna\">C</span><span class=\"A_dna\">.</span><span class=\"C_dna\">C</span></td></tr>\n",
       "<tr><td class=\"label\">ENSMUSG00000024056</td><td><span class=\"A_dna\">A</span><span class=\"C_dna\">C</span><span class=\"A_dna\">.</span><span class=\"A_dna\">.</span><span class=\"T_dna\">T</span><span class=\"A_dna\">.</span><span class=\"A_dna\">A</span><span class=\"T_dna\">T</span><span class=\"G_dna\">G</span><span class=\"C_dna\">C</span><span class=\"C_dna\">C</span><span class=\"G_dna\">G</span><span class=\"A_dna\">A</span><span class=\"G_dna\">G</span><span class=\"A_dna\">A</span><span class=\"G_dna\">G</span><span class=\"C_dna\">C</span><span class=\"C_dna\">.</span><span class=\"A_dna\">.</span><span class=\"G_dna\">.</span><span class=\"G_dna\">.</span><span class=\"A_dna\">.</span><span class=\"A_dna\">A</span><span class=\"T_dna\">T</span><span class=\"C_dna\">C</span><span class=\"T_dna\">T</span><span class=\"A_dna\">A</span><span class=\"C_dna\">C</span><span class=\"A_dna\">A</span><span class=\"C_dna\">C</span><span class=\"T_dna\">T</span><span class=\"T_dna\">T</span><span class=\"T_dna\">T</span><span class=\"A_dna\">A</span><span class=\"G_dna\">G</span><span class=\"C_dna\">C</span><span class=\"C_dna\">C</span><span class=\"C_dna\">C</span><span class=\"A_dna\">A</span><span class=\"G_dna\">.</span><span class=\"G_dna\">.</span><span class=\"G_dna\">G</span><span class=\"A_dna\">A</span><span class=\"C_dna\">C</span><span class=\"A_dna\">A</span><span class=\"G_dna\">G</span><span class=\"G_dna\">G</span><span class=\"C_dna\">C</span><span class=\"C_dna\">C</span><span class=\"A_dna\">A</span><span class=\"C_dna\">C</span><span class=\"C_dna\">C</span><span class=\"A_dna\">A</span><span class=\"C_dna\">.</span><span class=\"C_dna\">C</span><span class=\"A_dna\">A</span><span class=\"T_dna\">.</span><span class=\"C_dna\">C</span><span class=\"C_dna\">C</span><span class=\"G_dna\">G</span></td></tr>\n",
       "<tr><td class=\"label\">ENSMUSG00000054321</td><td><span class=\"T_dna\">T</span><span class=\"A_dna\">A</span><span class=\"T_dna\">T</span><span class=\"G_dna\">G</span><span class=\"A_dna\">A</span><span class=\"A_dna\">.</span><span class=\"A_dna\">A</span><span class=\"A_dna\">A</span><span class=\"T_dna\">T</span><span class=\"T_dna\">T</span><span class=\"T_dna\">.</span><span class=\"T_dna\">T</span><span class=\"T_dna\">T</span><span class=\"G_dna\">G</span><span class=\"C_dna\">C</span><span class=\"C_dna\">.</span><span class=\"A_dna\">.</span><span class=\"G_dna\">G</span><span class=\"G_dna\">G</span><span class=\"C_dna\">C</span><span class=\"T_dna\">T</span><span class=\"T_dna\">T</span><span class=\"T_dna\">.</span><span class=\"C_dna\">C</span><span class=\"C_dna\">C</span><span class=\"A_dna\">.</span><span class=\"G_dna\">G</span><span class=\"G_dna\">G</span><span class=\"G_dna\">G</span><span class=\"A_dna\">A</span><span class=\"C_dna\">C</span><span class=\"G_dna\">G</span><span class=\"C_dna\">.</span><span class=\"C_dna\">.</span><span class=\"G_dna\">G</span><span class=\"G_dna\">.</span><span class=\"A_dna\">A</span><span class=\"A_dna\">A</span><span class=\"A_dna\">A</span><span class=\"A_dna\">A</span><span class=\"A_dna\">A</span><span class=\"A_dna\">.</span><span class=\"A_dna\">A</span><span class=\"C_dna\">C</span><span class=\"A_dna\">A</span><span class=\"G_dna\">G</span><span class=\"A_dna\">.</span><span class=\"A_dna\">.</span><span class=\"A_dna\">.</span><span class=\"A_dna\">A</span><span class=\"A_dna\">.</span><span class=\"C_dna\">C</span><span class=\"A_dna\">A</span><span class=\"A_dna\">A</span><span class=\"A_dna\">.</span><span class=\"A_dna\">A</span><span class=\"A_dna\">A</span><span class=\"A_dna\">A</span><span class=\"C_dna\">C</span><span class=\"C_dna\">C</span></td></tr>\n",
       "<tr><td class=\"label\">ENSMUSG00000052469</td><td><span class=\"C_dna\">C</span><span class=\"C_dna\">C</span><span class=\"T_dna\">T</span><span class=\"G_dna\">G</span><span class=\"T_dna\">T</span><span class=\"T_dna\">T</span><span class=\"T_dna\">.</span><span class=\"G_dna\">G</span><span class=\"C_dna\">C</span><span class=\"C_dna\">C</span><span class=\"T_dna\">.</span><span class=\"T_dna\">T</span><span class=\"T_dna\">T</span><span class=\"A_dna\">.</span><span class=\"A_dna\">A</span><span class=\"A_dna\">A</span><span class=\"T_dna\">T</span><span class=\"A_dna\">A</span><span class=\"T_dna\">T</span><span class=\"T_dna\">T</span><span class=\"T_dna\">T</span><span class=\"A_dna\">.</span><span class=\"A_dna\">A</span><span class=\"C_dna\">C</span><span class=\"C_dna\">C</span><span class=\"A_dna\">.</span><span class=\"C_dna\">C</span><span class=\"T_dna\">.</span><span class=\"C_dna\">.</span><span class=\"C_dna\">C</span><span class=\"A_dna\">A</span><span class=\"A_dna\">A</span><span class=\"A_dna\">A</span><span class=\"T_dna\">T</span><span class=\"A_dna\">A</span><span class=\"C_dna\">C</span><span class=\"T_dna\">T</span><span class=\"T_dna\">T</span><span class=\"T_dna\">T</span><span class=\"G_dna\">.</span><span class=\"C_dna\">C</span><span class=\"T_dna\">T</span><span class=\"G_dna\">G</span><span class=\"G_dna\">G</span><span class=\"G_dna\">.</span><span class=\"G_dna\">G</span><span class=\"G_dna\">G</span><span class=\"C_dna\">C</span><span class=\"A_dna\">.</span><span class=\"A_dna\">A</span><span class=\"G_dna\">G</span><span class=\"A_dna\">A</span><span class=\"A_dna\">A</span><span class=\"G_dna\">G</span><span class=\"T_dna\">T</span><span class=\"G_dna\">G</span><span class=\"A_dna\">A</span><span class=\"T_dna\">T</span><span class=\"G_dna\">G</span><span class=\"G_dna\">G</span></td></tr>\n",
       "<tr><td class=\"label\">ENSMUSG00000024261</td><td><span class=\"C_dna\">C</span><span class=\"A_dna\">A</span><span class=\"G_dna\">G</span><span class=\"A_dna\">.</span><span class=\"C_dna\">.</span><span class=\"A_dna\">.</span><span class=\"A_dna\">A</span><span class=\"G_dna\">G</span><span class=\"A_dna\">.</span><span class=\"A_dna\">A</span><span class=\"A_dna\">A</span><span class=\"C_dna\">C</span><span class=\"C_dna\">.</span><span class=\"A_dna\">.</span><span class=\"G_dna\">.</span><span class=\"C_dna\">.</span><span class=\"A_dna\">.</span><span class=\"A_dna\">A</span><span class=\"C_dna\">C</span><span class=\"A_dna\">A</span><span class=\"C_dna\">C</span><span class=\"T_dna\">T</span><span class=\"A_dna\">A</span><span class=\"T_dna\">T</span><span class=\"C_dna\">C</span><span class=\"A_dna\">.</span><span class=\"A_dna\">A</span><span class=\"C_dna\">C</span><span class=\"C_dna\">.</span><span class=\"T_dna\">T</span><span class=\"A_dna\">A</span><span class=\"A_dna\">A</span><span class=\"T_dna\">T</span><span class=\"G_dna\">G</span><span class=\"T_dna\">.</span><span class=\"T_dna\">T</span><span class=\"C_dna\">C</span><span class=\"A_dna\">A</span><span class=\"G_dna\">G</span><span class=\"A_dna\">A</span><span class=\"C_dna\">C</span><span class=\"T_dna\">T</span><span class=\"A_dna\">A</span><span class=\"T_dna\">T</span><span class=\"A_dna\">A</span><span class=\"A_dna\">A</span><span class=\"A_dna\">.</span><span class=\"T_dna\">T</span><span class=\"T_dna\">T</span><span class=\"G_dna\">.</span><span class=\"G_dna\">G</span><span class=\"T_dna\">T</span><span class=\"A_dna\">A</span><span class=\"G_dna\">G</span><span class=\"T_dna\">T</span><span class=\"A_dna\">A</span><span class=\"A_dna\">A</span><span class=\"G_dna\">.</span><span class=\"A_dna\">.</span><span class=\"A_dna\">.</span></td></tr>\n",
       "<tr><td class=\"label\">ENSMUSG00000052031</td><td><span class=\"A_dna\">A</span><span class=\"G_dna\">G</span><span class=\"C_dna\">C</span><span class=\"G_dna\">G</span><span class=\"A_dna\">A</span><span class=\"G_dna\">G</span><span class=\"T_dna\">.</span><span class=\"A_dna\">A</span><span class=\"T_dna\">T</span><span class=\"A_dna\">A</span><span class=\"C_dna\">C</span><span class=\"A_dna\">.</span><span class=\"C_dna\">.</span><span class=\"G_dna\">G</span><span class=\"C_dna\">C</span><span class=\"A_dna\">A</span><span class=\"C_dna\">C</span><span class=\"A_dna\">A</span><span class=\"G_dna\">G</span><span class=\"A_dna\">A</span><span class=\"G_dna\">.</span><span class=\"G_dna\">G</span><span class=\"C_dna\">C</span><span class=\"G_dna\">.</span><span class=\"A_dna\">.</span><span class=\"G_dna\">G</span><span class=\"A_dna\">A</span><span class=\"A_dna\">A</span><span class=\"T_dna\">T</span><span class=\"A_dna\">A</span><span class=\"G_dna\">.</span><span class=\"A_dna\">A</span><span class=\"A_dna\">A</span><span class=\"T_dna\">T</span><span class=\"G_dna\">G</span><span class=\"C_dna\">C</span><span class=\"C_dna\">C</span><span class=\"T_dna\">T</span><span class=\"A_dna\">A</span><span class=\"C_dna\">C</span><span class=\"T_dna\">T</span><span class=\"T_dna\">T</span><span class=\"G_dna\">G</span><span class=\"C_dna\">C</span><span class=\"T_dna\">T</span><span class=\"G_dna\">G</span><span class=\"C_dna\">C</span><span class=\"T_dna\">T</span><span class=\"C_dna\">C</span><span class=\"A_dna\">A</span><span class=\"C_dna\">C</span><span class=\"G_dna\">.</span><span class=\"C_dna\">.</span><span class=\"T_dna\">T</span><span class=\"T_dna\">T</span><span class=\"A_dna\">A</span><span class=\"G_dna\">G</span><span class=\"A_dna\">A</span><span class=\"A_dna\">.</span><span class=\"A_dna\">.</span></td></tr>\n",
       "<tr><td class=\"label\">ENSMUSG00000067872</td><td><span class=\"A_dna\">A</span><span class=\"C_dna\">C</span><span class=\"A_dna\">.</span><span class=\"C_dna\">C</span><span class=\"A_dna\">A</span><span class=\"G_dna\">G</span><span class=\"C_dna\">C</span><span class=\"T_dna\">T</span><span class=\"C_dna\">C</span><span class=\"T_dna\">T</span><span class=\"G_dna\">G</span><span class=\"A_dna\">.</span><span class=\"C_dna\">.</span><span class=\"A_dna\">.</span><span class=\"A_dna\">A</span><span class=\"C_dna\">.</span><span class=\"T_dna\">T</span><span class=\"C_dna\">.</span><span class=\"A_dna\">.</span><span class=\"T_dna\">T</span><span class=\"C_dna\">C</span><span class=\"T_dna\">T</span><span class=\"G_dna\">G</span><span class=\"C_dna\">C</span><span class=\"A_dna\">.</span><span class=\"C_dna\">C</span><span class=\"T_dna\">.</span><span class=\"G_dna\">G</span><span class=\"C_dna\">.</span><span class=\"A_dna\">A</span><span class=\"A_dna\">A</span><span class=\"A_dna\">A</span><span class=\"C_dna\">.</span><span class=\"T_dna\">T</span><span class=\"C_dna\">C</span><span class=\"C_dna\">C</span><span class=\"A_dna\">A</span><span class=\"A_dna\">A</span><span class=\"C_dna\">.</span><span class=\"T_dna\">T</span><span class=\"G_dna\">.</span><span class=\"T_dna\">T</span><span class=\"A_dna\">A</span><span class=\"A_dna\">.</span><span class=\"G_dna\">.</span><span class=\"G_dna\">G</span><span class=\"G_dna\">G</span><span class=\"A_dna\">.</span><span class=\"A_dna\">.</span><span class=\"G_dna\">.</span><span class=\"C_dna\">C</span><span class=\"A_dna\">A</span><span class=\"A_dna\">A</span><span class=\"G_dna\">G</span><span class=\"G_dna\">G</span><span class=\"C_dna\">.</span><span class=\"C_dna\">C</span><span class=\"A_dna\">A</span><span class=\"G_dna\">G</span><span class=\"G_dna\">G</span></td></tr>\n",
       "</table>\n",
       "<p><i>21952 x 1000 (truncated to 10 x 60) dna alignment</i></p>\n",
       "</div>"
      ],
      "text/plain": [
       "21952 x 1000 alignment: ENSMUSG00000056468[GCCAGGGGGGA...], ENSMUSG00000039616[GCCCTTCAAAT...], ENSMUSG00000024091[TTTCCAGGGCA...], ..."
      ]
     },
     "execution_count": 2,
     "metadata": {},
     "output_type": "execute_result"
    }
   ],
   "source": [
    "from cogent3 import load_aligned_seqs\n",
    "\n",
    "aln = load_aligned_seqs(\"data/pssm/mouse-release-92-v2.fasta\", moltype=\"dna\")\n",
    "aln"
   ]
  },
  {
   "cell_type": "markdown",
   "metadata": {
    "deletable": false,
    "editable": false,
    "nbgrader": {
     "cell_type": "markdown",
     "checksum": "d94592c58ded767ff4eee4349b8bcb01",
     "grade": false,
     "grade_id": "cell-5b3af99d643607df",
     "locked": true,
     "schema_version": 3,
     "solution": false,
     "task": false
    }
   },
   "source": [
    "## Gene expression measurements\n",
    "http://stemmapper.sysbiolab.eu\n",
    "I obtained the file `data/pssm/GSM522308.txt` from the STEMmapper database by [searching for gene expression studies on cardiac progenitor cells](http://stemmapper.sysbiolab.eu). The experiment that generated these data is [described here](https://www.ncbi.nlm.nih.gov/geo/query/acc.cgi?acc=GSE6689). That file contains brief identifying information on the data provenance, and the `log2` \"expression values\" (larger values mean more gene expression) for each gene plus the quantile into which that expression value fits. I have processed this file, producing the tab delimited file `data/pssm/GSM522308-edited.tsv`. This is easier to parse and has the Ensembl `stableid` for each gene (that's a unique identifier which can be used to relate different types of data)."
   ]
  },
  {
   "cell_type": "code",
   "execution_count": 3,
   "metadata": {
    "deletable": false,
    "editable": false,
    "nbgrader": {
     "cell_type": "code",
     "checksum": "f97e20e70121d321717df80fcb000fd8",
     "grade": false,
     "grade_id": "cell-4a8195256c238bf6",
     "locked": true,
     "schema_version": 3,
     "solution": false
    }
   },
   "outputs": [],
   "source": [
    "from cogent3 import load_table\n",
    "\n",
    "table = load_table(\"data/pssm/GSM522308-edited.tsv\")"
   ]
  },
  {
   "cell_type": "code",
   "execution_count": 4,
   "metadata": {
    "deletable": false,
    "editable": false,
    "nbgrader": {
     "cell_type": "code",
     "checksum": "8ff0c39efc7d7d2f18216282e637e9e4",
     "grade": false,
     "grade_id": "cell-655270b087fb921d",
     "locked": true,
     "schema_version": 3,
     "solution": false
    }
   },
   "outputs": [
    {
     "data": {
      "text/html": [
       "\n",
       "<div class=\"c3table\">\n",
       "\n",
       "<style>\n",
       ".c3table table {margin: 10px 0;}\n",
       ".c3table tr:last-child {border-bottom: 1px solid #000;} \n",
       ".c3table tr > th {text-align: left; padding: 0 5px;}\n",
       ".c3table tr > td {text-align: left; padding: 5px;}\n",
       ".c3table tr:nth-child(even) {background: #f7f7f7 !important;}\n",
       ".c3table .ellipsis {background: rgba(0, 0, 0, .01);}\n",
       ".c3table .index {background: rgba(161, 195, 209, 0.0); margin: 10px; font-weight: 600;}\n",
       ".c3table .head_cell {background: rgba(161, 195, 209, 0.75); font-weight: bold; text-align: center;}\n",
       ".c3table caption {color: rgb(250, 250, 250); background: rgba(30, 140, 200, 1); padding: 3px; white-space: nowrap; caption-side: top;}\n",
       ".c3table .cell_title {font-weight: bold;}\n",
       ".c3col_left { text-align: left !important; display: block;}\n",
       ".c3col_right { text-align: right !important; display: block;}\n",
       ".c3col_center { text-align: center !important; display: block;}\n",
       "</style>\n",
       "\n",
       "<table>\n",
       "\n",
       "<thead class=\"head_cell\">\n",
       "<th>Entrez_id</th><th>Gene_symbol</th><th>Log2_exprs_val</th><th>Quantile</th><th>stableid</th>\n",
       "</thead>\n",
       "<tbody>\n",
       "<tr><td><span class=\"c3col_right\">98238</span></td><td><span class=\"c3col_left\">Lrrc59</span></td><td><span class=\"c3col_right\">12.2256</span></td><td><span class=\"c3col_right\">0.9962</span></td><td><span class=\"c3col_left\">ENSMUSG00000020869</span></td></tr>\n",
       "<tr><td><span class=\"c3col_right\">12622</span></td><td><span class=\"c3col_left\">Cer1</span></td><td><span class=\"c3col_right\">7.0004</span></td><td><span class=\"c3col_right\">0.9962</span></td><td><span class=\"c3col_left\">ENSMUSG00000038192</span></td></tr>\n",
       "<tr><td><span class=\"c3col_right\">21859</span></td><td><span class=\"c3col_left\">Timp3</span></td><td><span class=\"c3col_right\">12.0151</span></td><td><span class=\"c3col_right\">0.9962</span></td><td><span class=\"c3col_left\">ENSMUSG00000020044</span></td></tr>\n",
       "<tr><td><span class=\"c3col_right\">71203</span></td><td><span class=\"c3col_left\">4933434M16Rik</span></td><td><span class=\"c3col_right\">6.2854</span></td><td><span class=\"c3col_right\">0.9962</span></td><td><span class=\"c3col_left\">ENSMUSG00000020624</span></td></tr>\n",
       "<tr><td><span class=\"c3col_right\">192662</span></td><td><span class=\"c3col_left\">Arhgdia</span></td><td><span class=\"c3col_right\">12.8525</span></td><td><span class=\"c3col_right\">0.9962</span></td><td><span class=\"c3col_left\">ENSMUSG00000025132</span></td></tr>\n",
       "<tr class=\"ellipsis\"><td><span class=\"c3col_right\">...</span></td><td><span class=\"c3col_left\">...</span></td><td><span class=\"c3col_right\">...</span></td><td><span class=\"c3col_right\">...</span></td><td><span class=\"c3col_left\">...</span></td></tr>\n",
       "<tr><td><span class=\"c3col_right\">214616</span></td><td><span class=\"c3col_left\">Spata5l1</span></td><td><span class=\"c3col_right\">2.9955</span></td><td><span class=\"c3col_right\">0.0025</span></td><td><span class=\"c3col_left\">ENSMUSG00000074876</span></td></tr>\n",
       "<tr><td><span class=\"c3col_right\">71687</span></td><td><span class=\"c3col_left\">Tmem25</span></td><td><span class=\"c3col_right\">4.0927</span></td><td><span class=\"c3col_right\">0.0025</span></td><td><span class=\"c3col_left\">ENSMUSG00000002032</span></td></tr>\n",
       "<tr><td><span class=\"c3col_right\">12564</span></td><td><span class=\"c3col_left\">Cdh8</span></td><td><span class=\"c3col_right\">3.1385</span></td><td><span class=\"c3col_right\">0.0013</span></td><td><span class=\"c3col_left\">ENSMUSG00000036510</span></td></tr>\n",
       "<tr><td><span class=\"c3col_right\">381695</span></td><td><span class=\"c3col_left\">N4bp2l2</span></td><td><span class=\"c3col_right\">3.4625</span></td><td><span class=\"c3col_right\">0.0013</span></td><td><span class=\"c3col_left\">ENSMUSG00000029655</span></td></tr>\n",
       "<tr><td><span class=\"c3col_right\">68742</span></td><td><span class=\"c3col_left\">Tmem219</span></td><td><span class=\"c3col_right\">5.1215</span></td><td><span class=\"c3col_right\">0.0013</span></td><td><span class=\"c3col_left\">ENSMUSG00000060538</span></td></tr>\n",
       "</tbody>\n",
       "</table>\n",
       "<p>Top 5 and bottom 5 rows from\n",
       "18,398 rows x 5 columns</p>\n",
       "</div>"
      ],
      "text/plain": [
       "==============================================================================\n",
       "Entrez_id    Gene_symbol      Log2_exprs_val    Quantile    stableid          \n",
       "------------------------------------------------------------------------------\n",
       "    98238    Lrrc59                  12.2256      0.9962    ENSMUSG00000020869\n",
       "    12622    Cer1                     7.0004      0.9962    ENSMUSG00000038192\n",
       "    21859    Timp3                   12.0151      0.9962    ENSMUSG00000020044\n",
       "    71203    4933434M16Rik            6.2854      0.9962    ENSMUSG00000020624\n",
       "   192662    Arhgdia                 12.8525      0.9962    ENSMUSG00000025132\n",
       "   214616    Spata5l1                 2.9955      0.0025    ENSMUSG00000074876\n",
       "    71687    Tmem25                   4.0927      0.0025    ENSMUSG00000002032\n",
       "    12564    Cdh8                     3.1385      0.0013    ENSMUSG00000036510\n",
       "   381695    N4bp2l2                  3.4625      0.0013    ENSMUSG00000029655\n",
       "    68742    Tmem219                  5.1215      0.0013    ENSMUSG00000060538\n",
       "------------------------------------------------------------------------------\n",
       "Top 5 and bottom 5 rows from\n",
       "18,398 rows x 5 columns"
      ]
     },
     "execution_count": 4,
     "metadata": {},
     "output_type": "execute_result"
    }
   ],
   "source": [
    "table  # showing an abbreviated representation of the data"
   ]
  },
  {
   "cell_type": "markdown",
   "metadata": {
    "deletable": false,
    "editable": false,
    "nbgrader": {
     "cell_type": "markdown",
     "checksum": "5702d5afb91788b9f88629fc94cc8141",
     "grade": false,
     "grade_id": "cell-0f07aa5b8cb257cb",
     "locked": true,
     "schema_version": 3,
     "solution": false,
     "task": false
    }
   },
   "source": [
    "The histogram is of the expression values from that gene expression data. Larger x-axis values correspond to larger levels of gene expression. Larger y-axis values correspond to the number of genes with that gene expression value."
   ]
  },
  {
   "cell_type": "code",
   "execution_count": 7,
   "metadata": {
    "deletable": false,
    "editable": false,
    "nbgrader": {
     "cell_type": "code",
     "checksum": "df1d348a43cd94830cf4f24fcd8cae27",
     "grade": false,
     "grade_id": "cell-fb062ddb0cca94e9",
     "locked": true,
     "schema_version": 3,
     "solution": false
    }
   },
   "outputs": [
    {
     "data": {
      "text/html": [
       "<iframe\n",
       "    scrolling=\"no\"\n",
       "    width=\"100%\"\n",
       "    height=\"545px\"\n",
       "    src=\"iframe_figures/figure_7.html\"\n",
       "    frameborder=\"0\"\n",
       "    allowfullscreen\n",
       "></iframe>\n"
      ]
     },
     "metadata": {},
     "output_type": "display_data"
    }
   ],
   "source": [
    "import plotly.express as px\n",
    "\n",
    "fig = px.histogram(x=table.columns[\"Log2_exprs_val\"],\n",
    "                   title=\"Gene expression measurement from heart stem cell experiment : GSM522308\",\n",
    "                  labels=dict(x=\"log<sub>2</sub>(Expression)\", y=\"%\"),\n",
    "                  histnorm=\"percent\")\n",
    "fig.layout.yaxis.title.text = \"%\"\n",
    "fig.show()"
   ]
  },
  {
   "cell_type": "code",
   "execution_count": null,
   "metadata": {},
   "outputs": [],
   "source": []
  }
 ],
 "metadata": {
  "kernelspec": {
   "display_name": "Py310",
   "language": "python",
   "name": "py310"
  },
  "language_info": {
   "codemirror_mode": {
    "name": "ipython",
    "version": 3
   },
   "file_extension": ".py",
   "mimetype": "text/x-python",
   "name": "python",
   "nbconvert_exporter": "python",
   "pygments_lexer": "ipython3",
   "version": "3.10.9"
  }
 },
 "nbformat": 4,
 "nbformat_minor": 2
}
