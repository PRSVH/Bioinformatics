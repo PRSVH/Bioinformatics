{
 "cells": [
  {
   "cell_type": "markdown",
   "metadata": {},
   "source": [
    "# <span style=\"color:red\">Before you turn this in, make sure everything runs as expected.</span>\n",
    "\n",
    "1. **RESTART THE KERNEL** – in the menubar, select Kernel$\\rightarrow$Restart\n",
    "2. **RUN ALL CELLS** – in the menubar, select Cell$\\rightarrow$Run All\n",
    "3. **VALIDATE THE NOTEBOOK** – in the menubar, click the Validate button\n",
    "\n",
    "## <span style=\"color:blue\">How to Answer Questions</span>\n",
    "\n",
    "### <span style=\"color:blue\">Python code answers</span>\n",
    "\n",
    "Enter your answer any place that says\n",
    "```python\n",
    "# Enter your code here\n",
    "```\n",
    "<span style=\"color:red\">**AND delete the text.**</span>\n",
    "```python\n",
    "raise NotImplementedError # No Answer - remove if you provide an answer\n",
    "```\n",
    "\n",
    "### <span style=\"color:blue\">Written answers</span>\n",
    "\n",
    "Enter your answer any place that says\n",
    "```\n",
    "YOUR ANSWER HERE.\n",
    "```"
   ]
  },
  {
   "cell_type": "code",
   "execution_count": 1,
   "metadata": {},
   "outputs": [],
   "source": [
    "ANUID = \"u7522927\""
   ]
  },
  {
   "cell_type": "markdown",
   "metadata": {
    "deletable": false,
    "editable": false,
    "nbgrader": {
     "cell_type": "markdown",
     "checksum": "d2329fcef299569336761b5b3c1a44bd",
     "grade": false,
     "grade_id": "cell-2c8854a59b6d174a",
     "locked": true,
     "schema_version": 3,
     "solution": false,
     "task": false
    }
   },
   "source": [
    "# Sequence Comparison Assignment Overview\n",
    "\n",
    "An ANU assignment cover sheet has been included in this assignment. You **must** fill this in. Download it to your computer, fill it in and upload to the class server to overwrite the one you just downloaded!\n",
    "\n",
    "<span style=\"color:red\">This assignment should be done individually (no group work). Do not post any idea / interpretation / partial solution / result related to this assignment on any online forum or social media site</span>\n",
    "\n",
    "<span style=\"color:red\">Plagiarism will attract academic penalties in accordance with the ANU guidelines. **A student in this course is expected to be able to explain and defend any submitted assessment item. The course convener can conduct or initiate an additional interview about any submitted assessment item for any student.** If there is a significant discrepancy between the two forms of assessment, it will be automatically treated as a case of suspected academic misconduct.</span>\n",
    "\n",
    "## Assignment notebooks\n",
    "\n",
    "The assignment is split into two notebooks. `sequence_comparison_part_1` and `sequence_comparison_part_2`. In total, the assignment is worth 22%. While I have numbered those notebooks, you can do them in any order.\n",
    "\n",
    "## Differences to previous assignments and quizzes\n",
    "\n",
    "There are 3 things about this assignment that are different from what you have done in the course thus far.\n",
    "\n",
    "The first is there is a question which you can answer \"by hand\". What this means is that if you don't feel you can write the python code, you can do the calculation in some other way. You are still required to enter the answer in a notebook cell and assign it to a variable whose name I state (so that must be valid python). For those who do feel able to write the python code, please do so!\n",
    "\n",
    "The second difference is that there are optional \"extension questions\". These are harder (and marked harder) than the rest, but they earn you bonus points (stated in the body of those questions). These extra points are added to your mark FOR THIS ASSIGNMENT ONLY. The maximum mark you can score for this assignment is 22%, even if your total mark is higher.\n",
    "\n",
    "The third difference is there are written answers. These are plain text cells where you will write your response to the question. Please be sure you have addressed them all before submitting! Please also be mindful of writing within limits.\n",
    "\n",
    "**Answers exceeding 50 words need to be formatted as per the logic assignment.** I am interested in logical answers where your reasoning is clear and justified by the data at hand or by reference to publications.\n",
    "\n",
    "## Background material\n",
    "\n",
    "You will be using data I have generated, or downloaded and processed to make it easier to use.\n",
    "\n",
    "The `data_description` notebook provides references to background on the transcription factors you will be analysing. It also describes a data set of gene expression measurements from cardiac stem cells that is included. Finally, it describes the origins of the sequence data that I've analysed to produce the log-odds scores you need."
   ]
  },
  {
   "cell_type": "markdown",
   "metadata": {
    "deletable": false,
    "editable": false,
    "nbgrader": {
     "cell_type": "markdown",
     "checksum": "ba0074483c12c70ed231d8b4150c6e88",
     "grade": false,
     "grade_id": "cell-be147167add57c62",
     "locked": true,
     "schema_version": 3,
     "solution": false,
     "task": false
    }
   },
   "source": [
    "# <span style=\"color:red\">Assessment now considers CODE QUALITY</span>\n",
    "\n",
    "As the complexity of your code increases, so does the importance of its readability. This is true in a professional sense, and true in the sense of this assignment! If we cannot understand your code, we cannot award partial marks if it doesn't do what it's supposed to. \n",
    "\n",
    "Code that does not comply with the following WILL be penalised:\n",
    "\n",
    "- **no dead code** (that's code you have commented out)\n",
    "- **no print statements within functions**\n",
    "- **no statements that produce more than 5 lines** of output in a notebook cell, unless explicitly requested\n",
    "- **no lines with \"Enter your answer here\"**\n",
    "- **no lines with `raise NotImplementedError`**\n",
    "\n",
    "The following is optional:\n",
    "\n",
    "- name your variables in a way that describes what they represent (see the online notes for examples)\n",
    "\n",
    "**NOTE:** the performance of your code is not a factor in our marking."
   ]
  }
 ],
 "metadata": {
  "kernelspec": {
   "display_name": "Python 3 (ipykernel)",
   "language": "python",
   "name": "python3"
  },
  "language_info": {
   "codemirror_mode": {
    "name": "ipython",
    "version": 3
   },
   "file_extension": ".py",
   "mimetype": "text/x-python",
   "name": "python",
   "nbconvert_exporter": "python",
   "pygments_lexer": "ipython3",
   "version": "3.8.10"
  }
 },
 "nbformat": 4,
 "nbformat_minor": 2
}
