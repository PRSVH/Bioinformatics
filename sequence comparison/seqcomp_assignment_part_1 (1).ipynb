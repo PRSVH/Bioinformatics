{
 "cells": [
  {
   "cell_type": "markdown",
   "metadata": {},
   "source": [
    "# <span style=\"color:red\">Before you turn this in, make sure everything runs as expected.</span>\n",
    "\n",
    "1. **RESTART THE KERNEL** – in the menubar, select Kernel$\\rightarrow$Restart\n",
    "2. **RUN ALL CELLS** – in the menubar, select Cell$\\rightarrow$Run All\n",
    "3. **VALIDATE THE NOTEBOOK** – in the menubar, click the Validate button\n",
    "\n",
    "## <span style=\"color:blue\">How to Answer Questions</span>\n",
    "\n",
    "### <span style=\"color:blue\">Python code answers</span>\n",
    "\n",
    "Enter your answer any place that says\n",
    "```python\n",
    "# Enter your code here\n",
    "```\n",
    "<span style=\"color:red\">**AND delete the text.**</span>\n",
    "```python\n",
    "raise NotImplementedError # No Answer - remove if you provide an answer\n",
    "```\n",
    "\n",
    "### <span style=\"color:blue\">Written answers</span>\n",
    "\n",
    "Enter your answer any place that says\n",
    "```\n",
    "YOUR ANSWER HERE.\n",
    "```"
   ]
  },
  {
   "cell_type": "code",
   "execution_count": 73,
   "metadata": {},
   "outputs": [],
   "source": [
    "ANUID = \"U7522927\""
   ]
  },
  {
   "cell_type": "markdown",
   "metadata": {
    "deletable": false,
    "editable": false,
    "nbgrader": {
     "cell_type": "markdown",
     "checksum": "9211ef2e72e93a1dc56f78a0107632ca",
     "grade": false,
     "grade_id": "cell-3bf047d1ac9c8b1b",
     "locked": true,
     "schema_version": 3,
     "solution": false
    }
   },
   "source": [
    "# Part 1 -- PSSM algorithms\n",
    "\n",
    "The notebook is worth 8%.\n",
    "\n",
    "There are extension questions in this notebook worth 1%. (See the [README-FIRST](README-FIRST.ipynb) notebook to understand how these work.)\n",
    "\n",
    "**You are expected to use numpy. You are not allowed to use anything else other than Pythons builtins.**"
   ]
  },
  {
   "cell_type": "markdown",
   "metadata": {
    "deletable": false,
    "editable": false,
    "nbgrader": {
     "cell_type": "markdown",
     "checksum": "9e313489a0e926535309e12df42cd06b",
     "grade": false,
     "grade_id": "cell-80f64f27f77d7bb1",
     "locked": true,
     "schema_version": 3,
     "solution": false
    }
   },
   "source": [
    "## Background\n",
    "\n",
    "We obtain position weight matrices (henceforth PWM's) from JASAPR. These matrices are oriented as rows corresponding to nucleotides, columns correspond to positions aloing the sequence, cells are the counts. For instance, the python index `[1][3]` of the following equals `10` which corresponds to the counts for `C` at position 3.\n",
    "\n",
    "```\n",
    ">MA0108.2\tTBP\n",
    "A  [ 61  16 352   3 354 268 360 222 155  56  83  82  82  68  77 ]\n",
    "C  [145  46   0  10   0   0   3   2  44 135 147 127 118 107 101 ]\n",
    "G  [152  18   2   2   5   0  20  44 157 150 128 128 128 139 140 ]\n",
    "T  [ 31 309  35 374  30 121   6 121  33  48  31  52  61  75  71 ]\n",
    "```\n",
    "\n",
    "**NOTE:** I expect your solutions to use the same orientation and ordering."
   ]
  },
  {
   "cell_type": "markdown",
   "metadata": {
    "deletable": false,
    "editable": false,
    "nbgrader": {
     "cell_type": "markdown",
     "checksum": "694898a2d4ca7cd6e4888712d6e02332",
     "grade": false,
     "grade_id": "cell-ec1821f3e38448f0",
     "locked": true,
     "schema_version": 3,
     "solution": false
    }
   },
   "source": [
    "## Q1 -- convert weight matrix to a position specific probability matrix\n",
    "\n",
    "Complete the `pwm_to_ppm()` function below.\n",
    "\n",
    "- The `pwm` argument is a numpy array OR a list of lists\n",
    "- The `pseudocount` argument is a float\n",
    "- It returns a numpy array with the same shape as the input array\n",
    "\n",
    "The function should\n",
    "- convert a PWM into a position specific probability matrix (PPM)\n",
    "- support a list, or numpy array as input\n",
    "- corrects for zeros in the PWM via the optional argument `pseudocount`"
   ]
  },
  {
   "cell_type": "code",
   "execution_count": 3,
   "metadata": {
    "deletable": false,
    "editable": false,
    "nbgrader": {
     "cell_type": "code",
     "checksum": "3a73b28e37f9b2d76048147e0a410288",
     "grade": false,
     "grade_id": "cell-f4cd51e2538c895d",
     "locked": true,
     "schema_version": 3,
     "solution": false
    }
   },
   "outputs": [],
   "source": [
    "import numpy"
   ]
  },
  {
   "cell_type": "code",
   "execution_count": 4,
   "metadata": {
    "deletable": false,
    "nbgrader": {
     "cell_type": "code",
     "checksum": "8badee495a1f6736764bff710224e361",
     "grade": false,
     "grade_id": "ppm-soln",
     "locked": false,
     "schema_version": 3,
     "solution": true
    }
   },
   "outputs": [],
   "source": [
    "def pwm_to_ppm(pwm, pseudocount=0.0):\n",
    "    if type(pwm)==list:\n",
    "        pwm=numpy.array(pwm,dtype=float)\n",
    "    else:\n",
    "        pwm=pwm.astype(float)\n",
    "    \n",
    "    # Pseudo-counts -- handling missing data\n",
    "    result = pwm + pseudocount\n",
    "    \n",
    "    for j in result.T:\n",
    "        sum_frequency=sum(j)\n",
    "        for i in range(4):\n",
    "            j[i]=j[i]/sum_frequency\n",
    "            \n",
    "    return result"
   ]
  },
  {
   "cell_type": "code",
   "execution_count": 5,
   "metadata": {
    "deletable": false,
    "editable": false,
    "nbgrader": {
     "cell_type": "code",
     "checksum": "700ea072d6b3cac830a0ae7b09821643",
     "grade": true,
     "grade_id": "ppm-vars",
     "locked": true,
     "points": 0.1,
     "schema_version": 3,
     "solution": false
    }
   },
   "outputs": [],
   "source": [
    "# This part worth 0.1\n",
    "\n",
    "\"\"\"Q1 correct function name\"\"\"\n",
    "from gutils import check\n",
    "\n",
    "check.allowed_modules(allowed=[\"numpy\"])\n",
    "check.expected_variables_exist([\"pwm_to_ppm\"], locals(), callables=[\"pwm_to_ppm\"])"
   ]
  },
  {
   "cell_type": "code",
   "execution_count": 6,
   "metadata": {
    "deletable": false,
    "editable": false,
    "nbgrader": {
     "cell_type": "code",
     "checksum": "e34edf5c9fe997693cd120d46e52929a",
     "grade": true,
     "grade_id": "cell-9869733c55de9a7f",
     "locked": true,
     "points": 0.1,
     "schema_version": 3,
     "solution": false
    }
   },
   "outputs": [
    {
     "data": {
      "text/plain": [
       "'Q1 pwm_to_ppm does not fail when given either list or numpy array'"
      ]
     },
     "execution_count": 6,
     "metadata": {},
     "output_type": "execute_result"
    }
   ],
   "source": [
    "# This part worth 0.1\n",
    "\n",
    "# A test!\n",
    "\"\"\"Q1 pwm_to_ppm does not fail when given either list or numpy array\"\"\""
   ]
  },
  {
   "cell_type": "code",
   "execution_count": 7,
   "metadata": {
    "deletable": false,
    "editable": false,
    "nbgrader": {
     "cell_type": "code",
     "checksum": "1a1d022bd98cedf8765633be4231668c",
     "grade": true,
     "grade_id": "cell-7159ab83d075ed72",
     "locked": true,
     "points": 0.1,
     "schema_version": 3,
     "solution": false
    }
   },
   "outputs": [
    {
     "data": {
      "text/plain": [
       "'Q1 pwm_to_ppm takes pseudo-count int or float'"
      ]
     },
     "execution_count": 7,
     "metadata": {},
     "output_type": "execute_result"
    }
   ],
   "source": [
    "# This part worth 0.1\n",
    "\n",
    "# A test!\n",
    "\"\"\"Q1 pwm_to_ppm takes pseudo-count int or float\"\"\""
   ]
  },
  {
   "cell_type": "code",
   "execution_count": 8,
   "metadata": {
    "deletable": false,
    "editable": false,
    "nbgrader": {
     "cell_type": "code",
     "checksum": "816a7f641c9ff1d46663bde299924719",
     "grade": true,
     "grade_id": "cell-d373f9d2fb1d1557",
     "locked": true,
     "points": 0.1,
     "schema_version": 3,
     "solution": false
    }
   },
   "outputs": [
    {
     "data": {
      "text/plain": [
       "'Q1 pwm_to_ppm returns numpy array'"
      ]
     },
     "execution_count": 8,
     "metadata": {},
     "output_type": "execute_result"
    }
   ],
   "source": [
    "# This part worth 0.1\n",
    "\n",
    "# A test!\n",
    "\"\"\"Q1 pwm_to_ppm returns numpy array\"\"\""
   ]
  },
  {
   "cell_type": "code",
   "execution_count": 9,
   "metadata": {
    "deletable": false,
    "editable": false,
    "nbgrader": {
     "cell_type": "code",
     "checksum": "773e779a9e4bcc664c76cc19023e9d79",
     "grade": true,
     "grade_id": "cell-a996fa2eb5a871f5",
     "locked": true,
     "points": 0.3,
     "schema_version": 3,
     "solution": false
    }
   },
   "outputs": [
    {
     "data": {
      "text/plain": [
       "'Q1 pwm_to_ppm columns sum to 1'"
      ]
     },
     "execution_count": 9,
     "metadata": {},
     "output_type": "execute_result"
    }
   ],
   "source": [
    "# This part worth 0.3\n",
    "\n",
    "# A test!\n",
    "\"\"\"Q1 pwm_to_ppm columns sum to 1\"\"\""
   ]
  },
  {
   "cell_type": "code",
   "execution_count": 10,
   "metadata": {
    "deletable": false,
    "editable": false,
    "nbgrader": {
     "cell_type": "code",
     "checksum": "cd41a6825c558f9e69700241426accb7",
     "grade": true,
     "grade_id": "cell-08382d6a330a9f5f",
     "locked": true,
     "points": 0.3,
     "schema_version": 3,
     "solution": false
    }
   },
   "outputs": [
    {
     "data": {
      "text/plain": [
       "'Q1 pwm_to_ppm produces correct values'"
      ]
     },
     "execution_count": 10,
     "metadata": {},
     "output_type": "execute_result"
    }
   ],
   "source": [
    "# This part worth 0.3\n",
    "\n",
    "# A test!\n",
    "\"\"\"Q1 pwm_to_ppm produces correct values\"\"\""
   ]
  },
  {
   "cell_type": "markdown",
   "metadata": {
    "deletable": false,
    "editable": false,
    "nbgrader": {
     "cell_type": "markdown",
     "checksum": "b858daf939641bc459e2e3fbab8119ea",
     "grade": false,
     "grade_id": "cell-3d9749a0e5aec040",
     "locked": true,
     "schema_version": 3,
     "solution": false
    }
   },
   "source": [
    "## Q2 -- PSSM\n",
    "\n",
    "Complete the `ppm_to_pssm()` function below.\n",
    "\n",
    "- it takes a single argument, a PPM as a numpy array\n",
    "- it returns a numpy array\n",
    "- it uses log2\n",
    "- it uses a background distribution of equally frequent bases"
   ]
  },
  {
   "cell_type": "code",
   "execution_count": 11,
   "metadata": {
    "deletable": false,
    "nbgrader": {
     "cell_type": "code",
     "checksum": "c0fd121fd2da44b93a4689df15ff863f",
     "grade": false,
     "grade_id": "pssm-soln",
     "locked": false,
     "schema_version": 3,
     "solution": true
    }
   },
   "outputs": [],
   "source": [
    "def ppm_to_pssm(ppm):\n",
    "    pssm = numpy.zeros((ppm.shape[0], ppm.shape[1]))\n",
    "    for i in range(ppm.shape[0]):\n",
    "        for j in range(ppm.shape[1]):\n",
    "            pssm[i, j] = (numpy.log2(ppm[i,j]) - numpy.log2(0.25))\n",
    "\n",
    "    return pssm.transpose()\n"
   ]
  },
  {
   "cell_type": "code",
   "execution_count": 12,
   "metadata": {
    "deletable": false,
    "editable": false,
    "nbgrader": {
     "cell_type": "code",
     "checksum": "fe68b139bfa8134def8046e85bfa75e8",
     "grade": true,
     "grade_id": "pssm-name",
     "locked": true,
     "points": 0.1,
     "schema_version": 3,
     "solution": false
    }
   },
   "outputs": [],
   "source": [
    "# This part worth 0.1\n",
    "\n",
    "\"\"\"Q2 correct function name\"\"\"\n",
    "check.allowed_modules(allowed=[\"numpy\"])\n",
    "check.expected_variables_exist([\"ppm_to_pssm\"], locals(), callables=[\"ppm_to_pssm\"])"
   ]
  },
  {
   "cell_type": "code",
   "execution_count": 13,
   "metadata": {
    "deletable": false,
    "editable": false,
    "nbgrader": {
     "cell_type": "code",
     "checksum": "3aca7f3d8b058a604aa42449033e87a8",
     "grade": true,
     "grade_id": "pssm-callable",
     "locked": true,
     "points": 0.1,
     "schema_version": 3,
     "solution": false
    }
   },
   "outputs": [
    {
     "data": {
      "text/plain": [
       "'Q2 ppm_to_pssm does not fail'"
      ]
     },
     "execution_count": 13,
     "metadata": {},
     "output_type": "execute_result"
    }
   ],
   "source": [
    "# This part worth 0.1\n",
    "\n",
    "# A test!\n",
    "\"\"\"Q2 ppm_to_pssm does not fail\"\"\""
   ]
  },
  {
   "cell_type": "code",
   "execution_count": 14,
   "metadata": {
    "deletable": false,
    "editable": false,
    "nbgrader": {
     "cell_type": "code",
     "checksum": "fa036db9464b4db922c3899a00e45f3d",
     "grade": true,
     "grade_id": "pssm-return-type",
     "locked": true,
     "points": 0.1,
     "schema_version": 3,
     "solution": false
    }
   },
   "outputs": [
    {
     "data": {
      "text/plain": [
       "'Q2 ppm_to_pssm produces correct data type'"
      ]
     },
     "execution_count": 14,
     "metadata": {},
     "output_type": "execute_result"
    }
   ],
   "source": [
    "# This part worth 0.1\n",
    "\n",
    "# A test!\n",
    "\"\"\"Q2 ppm_to_pssm produces correct data type\"\"\""
   ]
  },
  {
   "cell_type": "code",
   "execution_count": 15,
   "metadata": {
    "deletable": false,
    "editable": false,
    "nbgrader": {
     "cell_type": "code",
     "checksum": "cbca3d78f6d3b2077869634134e168bf",
     "grade": true,
     "grade_id": "pssm-value",
     "locked": true,
     "points": 0.4,
     "schema_version": 3,
     "solution": false
    }
   },
   "outputs": [
    {
     "data": {
      "text/plain": [
       "'Q2 ppm_to_pssm produces correct values'"
      ]
     },
     "execution_count": 15,
     "metadata": {},
     "output_type": "execute_result"
    }
   ],
   "source": [
    "# This part worth 0.4\n",
    "\n",
    "# A test!\n",
    "\"\"\"Q2 ppm_to_pssm produces correct values\"\"\""
   ]
  },
  {
   "cell_type": "markdown",
   "metadata": {
    "deletable": false,
    "editable": false,
    "nbgrader": {
     "cell_type": "markdown",
     "checksum": "2cbf315b32af690525b453a5149991b1",
     "grade": false,
     "grade_id": "cell-d59179b1aff927d5",
     "locked": true,
     "schema_version": 3,
     "solution": false
    }
   },
   "source": [
    "## Q3 - convert a sequence to indices suitable for scoring\n",
    "\n",
    "In a real analysis, our data are strings, but our PSSMs are arrays. For computational efficiency, we need to convert our sequences into a data structure that simplifies applying a PSSM.\n",
    "\n",
    "You will complete the `seq_to_indices()` which will convert a sequence into a list (or array) of integers\n",
    "\n",
    "The function:\n",
    "\n",
    "- takes a single argument, a DNA sequence as a string\n",
    "- assumes the base order is alphabetical\n",
    "- returns the indices as a list\n",
    "\n",
    "If given the sequence `\"ACAAGT\"` it should return the list `[0, 1, 0, 0, 2, 3]` (or the array equivalent)."
   ]
  },
  {
   "cell_type": "code",
   "execution_count": 16,
   "metadata": {
    "deletable": false,
    "nbgrader": {
     "cell_type": "code",
     "checksum": "377886b2f269a7a03f9cc830628c52e8",
     "grade": false,
     "grade_id": "indexseq-soln",
     "locked": false,
     "schema_version": 3,
     "solution": true
    }
   },
   "outputs": [],
   "source": [
    "def seq_to_indices(seq: str) -> list:\n",
    "    base = ['A', 'C', 'G', 'T']\n",
    "    L = []\n",
    "    for s in seq:\n",
    "        L.append(base.index(s))\n",
    "    \n",
    "    return L\n"
   ]
  },
  {
   "cell_type": "code",
   "execution_count": 17,
   "metadata": {
    "deletable": false,
    "editable": false,
    "nbgrader": {
     "cell_type": "code",
     "checksum": "35aba8e04118243c5bae6160a723471a",
     "grade": true,
     "grade_id": "indexseq-callable",
     "locked": true,
     "points": 0.1,
     "schema_version": 3,
     "solution": false
    }
   },
   "outputs": [],
   "source": [
    "# This part worth 0.1\n",
    "\n",
    "\"\"\"Q3 correct function name and is callable\"\"\"\n",
    "check.allowed_modules(allowed=[\"numpy\"])\n",
    "check.expected_variables_exist(\n",
    "    [\"seq_to_indices\"], locals(), callables=[\"seq_to_indices\"]\n",
    ")"
   ]
  },
  {
   "cell_type": "code",
   "execution_count": 18,
   "metadata": {
    "deletable": false,
    "editable": false,
    "nbgrader": {
     "cell_type": "code",
     "checksum": "963e65ab4da79198ad434870b69efff6",
     "grade": true,
     "grade_id": "indexseq-val",
     "locked": true,
     "points": 0.8,
     "schema_version": 3,
     "solution": false
    }
   },
   "outputs": [
    {
     "data": {
      "text/plain": [
       "'Q3 seq_to_indices works'"
      ]
     },
     "execution_count": 18,
     "metadata": {},
     "output_type": "execute_result"
    }
   ],
   "source": [
    "# This part worth 0.8\n",
    "\n",
    "# A test!\n",
    "\"\"\"Q3 seq_to_indices works\"\"\""
   ]
  },
  {
   "cell_type": "markdown",
   "metadata": {
    "deletable": false,
    "editable": false,
    "nbgrader": {
     "cell_type": "markdown",
     "checksum": "cc695dc5afcca456bb37fc00596107e1",
     "grade": false,
     "grade_id": "cell-91ef6fffb6d8b859",
     "locked": true,
     "schema_version": 3,
     "solution": false
    }
   },
   "source": [
    "## Q4 - score a sequence\n",
    "\n",
    "- write a function that takes a PSSM (as a numpy array), AND a sequence converted into indices and returns a score for every possible position"
   ]
  },
  {
   "cell_type": "code",
   "execution_count": 19,
   "metadata": {
    "deletable": false,
    "nbgrader": {
     "cell_type": "code",
     "checksum": "72c8ebc8f8019c24ec624717ad3159c4",
     "grade": false,
     "grade_id": "score-soln",
     "locked": false,
     "schema_version": 3,
     "solution": true
    }
   },
   "outputs": [],
   "source": [
    "def score_indexed_seq(pssm, indexed_seq):\n",
    "    score = []\n",
    "    \n",
    "    for i in range(len(indexed_seq)):\n",
    "        if pssm.shape[0] > i:\n",
    "            score.append(pssm[i, indexed_seq[i]])\n",
    "        else:\n",
    "            score.append([])\n",
    "    \n",
    "    return score"
   ]
  },
  {
   "cell_type": "code",
   "execution_count": 20,
   "metadata": {
    "deletable": false,
    "editable": false,
    "nbgrader": {
     "cell_type": "code",
     "checksum": "150dc271ac6dabc0d74579ce983cc3af",
     "grade": true,
     "grade_id": "score-callable",
     "locked": true,
     "points": 0.1,
     "schema_version": 3,
     "solution": false
    }
   },
   "outputs": [],
   "source": [
    "# This part worth 0.1\n",
    "\n",
    "\"\"\"Q4 correct function name and is callable\"\"\"\n",
    "check.allowed_modules(allowed=[\"numpy\"])\n",
    "check.expected_variables_exist(\n",
    "    [\"score_indexed_seq\"], locals(), callables=[\"score_indexed_seq\"]\n",
    ")"
   ]
  },
  {
   "cell_type": "code",
   "execution_count": 21,
   "metadata": {
    "deletable": false,
    "editable": false,
    "nbgrader": {
     "cell_type": "code",
     "checksum": "bac0d8208d3c1584a6a73490aed059d5",
     "grade": true,
     "grade_id": "score-value",
     "locked": true,
     "points": 2.4,
     "schema_version": 3,
     "solution": false
    }
   },
   "outputs": [
    {
     "data": {
      "text/plain": [
       "'Q4 correct function name and returns correct value'"
      ]
     },
     "execution_count": 21,
     "metadata": {},
     "output_type": "execute_result"
    }
   ],
   "source": [
    "# This part worth 2.4\n",
    "\n",
    "# A test!\n",
    "\"\"\"Q4 correct function name and returns correct value\"\"\""
   ]
  },
  {
   "cell_type": "markdown",
   "metadata": {
    "deletable": false,
    "editable": false,
    "nbgrader": {
     "cell_type": "markdown",
     "checksum": "43500039ecc542428fee47d408ddd286",
     "grade": false,
     "grade_id": "q5",
     "locked": true,
     "schema_version": 3,
     "solution": false
    }
   },
   "source": [
    "## Q5 - calculate a score\n",
    "\n",
    "---------------\n",
    "\n",
    "**If you don't think you can write the Python code** to do this question, you can do the computation by hand and assign the values you got to the indicated variable names.\n",
    "\n",
    "**If you do think you can write the Python code** then do that!\n",
    "\n",
    "---------------\n",
    "\n",
    "Consider the following made-up PWM:\n",
    "\n",
    "```\n",
    "A  [ 61  16 ]\n",
    "C  [145  46 ]\n",
    "G  [152  18 ]\n",
    "T  [ 31 309 ]\n",
    "```"
   ]
  },
  {
   "cell_type": "markdown",
   "metadata": {
    "deletable": false,
    "editable": false,
    "nbgrader": {
     "cell_type": "markdown",
     "checksum": "ad1696e91e23182ccef5b5d432193156",
     "grade": false,
     "grade_id": "cell-6452ae409557d5e6",
     "locked": true,
     "schema_version": 3,
     "solution": false
    }
   },
   "source": [
    "Construct the pssm as a numpy array to at least 2 decimal places (only if doing by hand) and assign it to the variable `my_pssm` in the cell below."
   ]
  },
  {
   "cell_type": "code",
   "execution_count": 22,
   "metadata": {
    "deletable": false,
    "nbgrader": {
     "cell_type": "code",
     "checksum": "37c9dac806446ee3f1a7d6002caf37c6",
     "grade": false,
     "grade_id": "q5-pssm",
     "locked": false,
     "schema_version": 3,
     "solution": true,
     "task": false
    }
   },
   "outputs": [],
   "source": [
    "import numpy\n",
    "pwm = [\n",
    "    [ 61,  16 ],\n",
    "    [145,  46 ],\n",
    "    [152,  18 ],\n",
    "    [ 31, 309 ]\n",
    "    ]\n",
    "output = pwm_to_ppm(pwm)\n",
    "my_pssm = ppm_to_pssm(output)\n"
   ]
  },
  {
   "cell_type": "code",
   "execution_count": 23,
   "metadata": {
    "deletable": false,
    "editable": false,
    "nbgrader": {
     "cell_type": "code",
     "checksum": "fb639b9f6b22a3e816da099772ebbeee",
     "grade": true,
     "grade_id": "q5-pssm-score",
     "locked": true,
     "points": 0.3,
     "schema_version": 3,
     "solution": false,
     "task": false
    }
   },
   "outputs": [
    {
     "data": {
      "text/plain": [
       "'Q5 my_pssm rounded to 2 places is right'"
      ]
     },
     "execution_count": 23,
     "metadata": {},
     "output_type": "execute_result"
    }
   ],
   "source": [
    "# This part worth 0.3\n",
    "\n",
    "# A test!\n",
    "\"\"\"Q5 my_pssm rounded to 2 places is right\"\"\"\n"
   ]
  },
  {
   "cell_type": "markdown",
   "metadata": {
    "deletable": false,
    "editable": false,
    "nbgrader": {
     "cell_type": "markdown",
     "checksum": "55b0265288467411a17964fb1f2cc2e7",
     "grade": false,
     "grade_id": "cell-fdc8074da805ecc8",
     "locked": true,
     "schema_version": 3,
     "solution": false
    }
   },
   "source": [
    "Apply that PSSM to the following two sequences, calculating the score for each possible position. Assign the scores for:\n",
    "\n",
    "- `seq1` to `seq1_scores`\n",
    "- `seq2` to `seq2_scores`"
   ]
  },
  {
   "cell_type": "code",
   "execution_count": 24,
   "metadata": {
    "deletable": false,
    "editable": false,
    "nbgrader": {
     "cell_type": "code",
     "checksum": "9374070001fa6207c7abd0b97fc172b0",
     "grade": false,
     "grade_id": "cell-04719e95fd7f2051",
     "locked": true,
     "schema_version": 3,
     "solution": false,
     "task": false
    }
   },
   "outputs": [],
   "source": [
    "seq1 = \"AGG\"\n",
    "seq2 = \"TAA\""
   ]
  },
  {
   "cell_type": "code",
   "execution_count": 25,
   "metadata": {
    "deletable": false,
    "nbgrader": {
     "cell_type": "code",
     "checksum": "d3d72e033bc992911644f3edf0fe1b48",
     "grade": false,
     "grade_id": "q5-scores",
     "locked": false,
     "schema_version": 3,
     "solution": true,
     "task": false
    }
   },
   "outputs": [],
   "source": [
    "seq1_scores = []\n",
    "seq2_scores = []\n",
    "seq1_scores = score_indexed_seq(my_pssm, seq_to_indices(seq1))\n",
    "seq2_scores = score_indexed_seq(my_pssm, seq_to_indices(seq2))"
   ]
  },
  {
   "cell_type": "code",
   "execution_count": 26,
   "metadata": {
    "deletable": false,
    "editable": false,
    "nbgrader": {
     "cell_type": "code",
     "checksum": "c6cb396a379e1ffe21d746ee91cc2942",
     "grade": true,
     "grade_id": "q5-scores-approx",
     "locked": true,
     "points": 0.5,
     "schema_version": 3,
     "solution": false,
     "task": false
    }
   },
   "outputs": [
    {
     "data": {
      "text/plain": [
       "'Q5 my_pssm scores approx correct'"
      ]
     },
     "execution_count": 26,
     "metadata": {},
     "output_type": "execute_result"
    }
   ],
   "source": [
    "# This part worth 0.5\n",
    "\n",
    "# A test!\n",
    "\"\"\"Q5 my_pssm scores approx correct\"\"\"\n"
   ]
  },
  {
   "cell_type": "markdown",
   "metadata": {
    "deletable": false,
    "editable": false,
    "nbgrader": {
     "cell_type": "markdown",
     "checksum": "8b15e041d936f675bfebb872dd871ebd",
     "grade": false,
     "grade_id": "cell-3125b80c946886fd",
     "locked": true,
     "schema_version": 3,
     "solution": false
    }
   },
   "source": [
    "## Q6 - find matching positions from a collection of sequences\n",
    "\n",
    "- complete `findall_matching_positions()`\n",
    "\n",
    "It takes:\n",
    "- a 2D numpy array of *log-odds* scores\n",
    "- a float value of a cutoff\n",
    "\n",
    "It returns a numpy array whose values are the number of sequences at a position that had a score >= a cutoff"
   ]
  },
  {
   "cell_type": "code",
   "execution_count": 27,
   "metadata": {
    "deletable": false,
    "nbgrader": {
     "cell_type": "code",
     "checksum": "e2fbe7a58612ad4a6704d974307f5b27",
     "grade": false,
     "grade_id": "matching-pos-soln",
     "locked": false,
     "schema_version": 3,
     "solution": true
    }
   },
   "outputs": [],
   "source": [
    "def findall_matching_positions(scores, cutoff):\n",
    "    new_scores = numpy.zeros((scores.shape[0], scores.shape[1]))\n",
    "       \n",
    "    for i in range(scores.shape[0]):\n",
    "        for j in range(scores.shape[1]):\n",
    "            if scores[i,j] >= cutoff:\n",
    "                new_scores[i,j] = scores[i,j]\n",
    "            else:\n",
    "                new_scores[i,j] = 0\n",
    "    return numpy.array(new_scores)"
   ]
  },
  {
   "cell_type": "code",
   "execution_count": 28,
   "metadata": {
    "deletable": false,
    "editable": false,
    "nbgrader": {
     "cell_type": "code",
     "checksum": "de1d1f03c264c671696e094958c568fc",
     "grade": true,
     "grade_id": "matching-defn",
     "locked": true,
     "points": 0.1,
     "schema_version": 3,
     "solution": false
    }
   },
   "outputs": [],
   "source": [
    "# This part worth 0.1\n",
    "\n",
    "\"\"\"Q6 func present\"\"\"\n",
    "check.allowed_modules(allowed=[\"numpy\"])\n",
    "check.expected_variables_exist(\n",
    "    [\"findall_matching_positions\"], locals(), callables=[\"findall_matching_positions\"]\n",
    ")"
   ]
  },
  {
   "cell_type": "code",
   "execution_count": 29,
   "metadata": {
    "deletable": false,
    "editable": false,
    "nbgrader": {
     "cell_type": "code",
     "checksum": "3ec397b4eedcdd19136589533b2b9e0e",
     "grade": true,
     "grade_id": "matching-pos-val",
     "locked": true,
     "points": 2,
     "schema_version": 3,
     "solution": false
    }
   },
   "outputs": [
    {
     "data": {
      "text/plain": [
       "'Q6 gets seqs right'"
      ]
     },
     "execution_count": 29,
     "metadata": {},
     "output_type": "execute_result"
    }
   ],
   "source": [
    "# This part worth 2\n",
    "\n",
    "# A test!\n",
    "\"\"\"Q6 gets seqs right\"\"\""
   ]
  },
  {
   "cell_type": "markdown",
   "metadata": {
    "deletable": false,
    "editable": false,
    "nbgrader": {
     "cell_type": "markdown",
     "checksum": "85f15056f6bfa18c4caa0cc6b4b12e0a",
     "grade": false,
     "grade_id": "cell-000e12c4bc706d34",
     "locked": true,
     "schema_version": 3,
     "solution": false
    }
   },
   "source": [
    "## Q6 -- extension question\n",
    "\n",
    "*Worth 1%*\n",
    "\n",
    "- modify your functions for sequence indexing and scoring so they handle the case where a sequence has non-canonical characters, e.g. \"GCNTTATA\"\n",
    "- your scoring function should return a score for that sequence that is the sum across all positions except those with these invalid characters\n",
    "- provide one or two small sequences that can be scored using your PSSM as a demonstration\n",
    "\n",
    "**ANSWER CODE MUST FUNCTION CORRECTLY** -- no partial marks."
   ]
  },
  {
   "cell_type": "code",
   "execution_count": 33,
   "metadata": {
    "deletable": false,
    "nbgrader": {
     "cell_type": "code",
     "checksum": "0b4e496dfed56b9c14ed4d9340e65014",
     "grade": false,
     "grade_id": "q6-extension",
     "locked": false,
     "schema_version": 3,
     "solution": true,
     "task": false
    }
   },
   "outputs": [],
   "source": [
    "def seq_to_indices_upgrade(seq):\n",
    "    base = ['A', 'C', 'G', 'T']\n",
    "    L = []\n",
    "    for s in seq:\n",
    "        if base.count(s) != 0:\n",
    "            L.append(base.index(s))\n",
    "        else:\n",
    "            if s not in base:\n",
    "                base.append(s)\n",
    "                L.append(base.index(s))\n",
    "\n",
    "    return L\n",
    "\n",
    "def score_indexed_seq_upgrade(pssm, indexed_seq):\n",
    "    score = []\n",
    "\n",
    "    for i in range(len(indexed_seq)):\n",
    "        if pssm.shape[0] > i and pssm.shape[1] > indexed_seq[i]:\n",
    "            score.append(pssm[i, indexed_seq[i]])\n",
    "        else:\n",
    "            score.append([])\n",
    "\n",
    "    return score\n",
    "\n",
    "#test data\n",
    "seq = \"GCNT\"\n",
    "seq = \"NCNT\"\n",
    "\n",
    "newseq_to_indices= seq_to_indices_upgrade(seq)\n",
    "\n",
    "pssm_test = numpy.array([\n",
    "[-0.66851029, 0.57385055, 0.64164064, -1.63374487],\n",
    "[-2.56663068, -1.07186599, -2.40157143, 1.6627708 ],\n",
    "[ 1.99445472, -7.6110248, -7.6110248, -7.6110248 ],\n",
    "[-4.80366988, -3.21870737, -5.2890967, 1.93779711]])\n",
    "\n",
    "\n",
    "\n",
    "final_output= score_indexed_seq_upgrade(pssm_test, seq_to_indices_upgrade(seq))\n"
   ]
  },
  {
   "cell_type": "code",
   "execution_count": 34,
   "metadata": {
    "deletable": false,
    "editable": false,
    "nbgrader": {
     "cell_type": "code",
     "checksum": "4d937121a2d35383382eb119311d4a9c",
     "grade": true,
     "grade_id": "cell-0d13e6b589489624",
     "locked": true,
     "points": 0,
     "schema_version": 3,
     "solution": false,
     "task": false
    }
   },
   "outputs": [
    {
     "data": {
      "text/plain": [
       "'Q6 - bonus question'"
      ]
     },
     "execution_count": 34,
     "metadata": {},
     "output_type": "execute_result"
    }
   ],
   "source": [
    "\"\"\"Q6 - bonus question\"\"\""
   ]
  }
 ],
 "metadata": {
  "kernelspec": {
   "display_name": "Py310",
   "language": "python",
   "name": "py310"
  },
  "language_info": {
   "codemirror_mode": {
    "name": "ipython",
    "version": 3
   },
   "file_extension": ".py",
   "mimetype": "text/x-python",
   "name": "python",
   "nbconvert_exporter": "python",
   "pygments_lexer": "ipython3",
   "version": "3.10.9"
  }
 },
 "nbformat": 4,
 "nbformat_minor": 2
}
