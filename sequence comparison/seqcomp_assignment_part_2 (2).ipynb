{
 "cells": [
  {
   "cell_type": "markdown",
   "metadata": {},
   "source": [
    "# <span style=\"color:red\">Before you turn this in, make sure everything runs as expected.</span>\n",
    "\n",
    "1. **RESTART THE KERNEL** – in the menubar, select Kernel$\\rightarrow$Restart\n",
    "2. **RUN ALL CELLS** – in the menubar, select Cell$\\rightarrow$Run All\n",
    "3. **VALIDATE THE NOTEBOOK** – in the menubar, click the Validate button\n",
    "\n",
    "## <span style=\"color:blue\">How to Answer Questions</span>\n",
    "\n",
    "### <span style=\"color:blue\">Python code answers</span>\n",
    "\n",
    "Enter your answer any place that says\n",
    "```python\n",
    "# Enter your code here\n",
    "```\n",
    "<span style=\"color:red\">**AND delete the text.**</span>\n",
    "```python\n",
    "raise NotImplementedError # No Answer - remove if you provide an answer\n",
    "```\n",
    "\n",
    "### <span style=\"color:blue\">Written answers</span>\n",
    "\n",
    "Enter your answer any place that says\n",
    "```\n",
    "YOUR ANSWER HERE.\n",
    "```"
   ]
  },
  {
   "cell_type": "code",
   "execution_count": 34,
   "metadata": {},
   "outputs": [],
   "source": [
    "ANUID = \"u7522927\""
   ]
  },
  {
   "cell_type": "markdown",
   "metadata": {
    "deletable": false,
    "editable": false,
    "nbgrader": {
     "cell_type": "markdown",
     "checksum": "da46107b09003bfe73a9185b5ce0aac3",
     "grade": false,
     "grade_id": "cell-1311fb47be44c86d",
     "locked": true,
     "schema_version": 3,
     "solution": false
    }
   },
   "source": [
    "# Part 2 -- Sequence comparison assignment\n",
    "\n",
    "This notebook is worth 14%.\n",
    "\n",
    "There are extension questions in this notebook worth 2%. (See the [README-FIRST](README-FIRST.ipynb) notebook to understand how these work.)\n",
    "\n",
    "Unless stated otherwise, <span style=\"color:red\"><b>for non-code answers ≥50 words</b> answer in the style of the logic assignment (you do not have to list assumptions.)</span>\n",
    "\n",
    "**You are expected to use Pythons builtins, numpy and plotly. You are not allowed to use anything else.**"
   ]
  },
  {
   "cell_type": "markdown",
   "metadata": {
    "deletable": false,
    "editable": false,
    "nbgrader": {
     "cell_type": "markdown",
     "checksum": "3edb3b74579f650509958695a4855421",
     "grade": false,
     "grade_id": "cell-7ce896421d376956",
     "locked": true,
     "schema_version": 3,
     "solution": false
    }
   },
   "source": [
    "## Background\n",
    "\n",
    "We are interested in understanding how Transcription Factor (henceforth TF) binding information is encoded and how multiple TF's work together to affect gene expression. We are explicitly interested in asking ask whether the TF's we consider for this assignment (see below and the [data notebook](data_description.ipynb)) combine via cis-regulatory modules (CRMs) to affect development of heart cells.\n",
    "\n",
    "The steps to addressing that question first require assessing whether there are patterns in the occurrence of the TFBS and, with reference to the [Culley et al](https://www.ncbi.nlm.nih.gov/pmc/articles/PMC3684448/) paper and the background material, design a computational experiment to evaluate a hypothesis you specify about CRM's.\n",
    "\n",
    "There are 7 position weight matrices (PWM) downloaded from jaspar. (See the [data notebook](data_description.ipynb) for more details.) For each PWM, I have already computed the scores for all ~20k mouse genes for each position of the sequences. I demonstrate using that data below.\n",
    "\n",
    "*For the final question in this notebook*, there is a also a file containing the gene expression measurements from the type of cell of interest. (See the [data notebook](data_description.ipynb) for more details.)"
   ]
  },
  {
   "cell_type": "code",
   "execution_count": 35,
   "metadata": {
    "deletable": false,
    "editable": false,
    "nbgrader": {
     "cell_type": "code",
     "checksum": "37c6698f6e5ca70c0a771bab384be09e",
     "grade": false,
     "grade_id": "cell-e9e417bc44331d2c",
     "locked": true,
     "schema_version": 3,
     "solution": false
    }
   },
   "outputs": [
    {
     "data": {
      "text/plain": [
       "['data/pssm/srf1.jaspar',\n",
       " 'data/pssm/tbx5.jaspar',\n",
       " 'data/pssm/tbp.jaspar',\n",
       " 'data/pssm/nkx2-5.jaspar',\n",
       " 'data/pssm/mef2.jaspar',\n",
       " 'data/pssm/myog.jaspar',\n",
       " 'data/pssm/gata4.jaspar']"
      ]
     },
     "execution_count": 35,
     "metadata": {},
     "output_type": "execute_result"
    }
   ],
   "source": [
    "import glob\n",
    "\n",
    "# listing all the jaspar TFBS pwm files\n",
    "glob.glob(\"data/pssm/*.jaspar\")"
   ]
  },
  {
   "cell_type": "markdown",
   "metadata": {
    "deletable": false,
    "editable": false,
    "nbgrader": {
     "cell_type": "markdown",
     "checksum": "873f9cf84e635fd34c98e06749912623",
     "grade": false,
     "grade_id": "cell-cda36e3fda3b2e0e",
     "locked": true,
     "schema_version": 3,
     "solution": false
    }
   },
   "source": [
    "## Demonstration of a spatial pattern in TFBS occurrence\n",
    "\n",
    "- Done for TBP (TATA binding protein)\n",
    "- In this case *I chose an arbitrary value* for my cutoff as 7.\n",
    "- Feel free to copy and modify my code for your answers"
   ]
  },
  {
   "cell_type": "code",
   "execution_count": 36,
   "metadata": {
    "deletable": false,
    "editable": false,
    "nbgrader": {
     "cell_type": "code",
     "checksum": "49dc5340d766452f219e2cac29442d04",
     "grade": false,
     "grade_id": "cell-be1725bc7083e673",
     "locked": true,
     "schema_version": 3,
     "solution": false
    }
   },
   "outputs": [],
   "source": [
    "import plotly.express as px"
   ]
  },
  {
   "cell_type": "code",
   "execution_count": 37,
   "metadata": {
    "deletable": false,
    "editable": false,
    "nbgrader": {
     "cell_type": "code",
     "checksum": "f692adbcd5926cfd3cd2c95f50ac1bf2",
     "grade": false,
     "grade_id": "cell-31a910c0e97f9c68",
     "locked": true,
     "schema_version": 3,
     "solution": false
    }
   },
   "outputs": [],
   "source": [
    "import numpy\n",
    "\n",
    "# loading a numpy array from file\n",
    "tata_scores = numpy.load(\"data/pssm_scores/tbp.npy\")\n",
    "# how many positions had a value ≥ cutoff\n",
    "tata_gt7 = (tata_scores > 7).sum(axis=0)\n",
    "# mid-point=TSS\n",
    "TSS = tata_gt7.shape[0] // 2\n",
    "# produce x-axis labels as a number series corresponding to relative distance to TSS\n",
    "x_axis = [i - TSS for i in range(tata_gt7.shape[0])]"
   ]
  },
  {
   "cell_type": "code",
   "execution_count": 38,
   "metadata": {
    "deletable": false,
    "editable": false,
    "nbgrader": {
     "cell_type": "code",
     "checksum": "d502425981f7fb5513a0f4a03e23fa63",
     "grade": false,
     "grade_id": "cell-be54c99bcc065f95",
     "locked": true,
     "schema_version": 3,
     "solution": false
    }
   },
   "outputs": [
    {
     "data": {
      "text/html": [
       "<iframe\n",
       "    scrolling=\"no\"\n",
       "    width=\"100%\"\n",
       "    height=\"545px\"\n",
       "    src=\"iframe_figures/figure_38.html\"\n",
       "    frameborder=\"0\"\n",
       "    allowfullscreen\n",
       "></iframe>\n"
      ]
     },
     "metadata": {},
     "output_type": "display_data"
    }
   ],
   "source": [
    "fig = px.line(\n",
    "    x=x_axis,\n",
    "    y=tata_gt7,\n",
    "    line_shape=\"spline\",\n",
    "    title=\"TATA Binding Protein PSSM matches\",\n",
    "    labels=dict(x=\"Position relative to TSS\", y=\"Number of Genes Matching\"),\n",
    ")\n",
    "fig.show()"
   ]
  },
  {
   "cell_type": "markdown",
   "metadata": {
    "deletable": false,
    "editable": false,
    "nbgrader": {
     "cell_type": "markdown",
     "checksum": "503b8e3dc5299decddf1f3499ec97b20",
     "grade": false,
     "grade_id": "cell-4b760d63b3b7ea96",
     "locked": true,
     "schema_version": 3,
     "solution": false
    }
   },
   "source": [
    "## Q1 -- interpretation of TBP location\n",
    "\n",
    "In ≤ 100 words (or a single word!) for each part, answer the following\n",
    "\n",
    "- define what would a random distribution of matches look like\n",
    "- is the distribution of matches to TBP shown above random according to your definition?"
   ]
  },
  {
   "cell_type": "markdown",
   "metadata": {
    "deletable": false,
    "nbgrader": {
     "cell_type": "markdown",
     "checksum": "e945083835d2d3b2866e5b47cea0eb9f",
     "grade": true,
     "grade_id": "tbp-loc-rand",
     "locked": false,
     "points": 0.5,
     "schema_version": 3,
     "solution": true
    }
   },
   "source": [
    "A random distribution of matches would be expected to have an approximately uniform number of matches across all positions relative to the TSS. "
   ]
  },
  {
   "cell_type": "markdown",
   "metadata": {},
   "source": [
    "The distribution of matches to TBP shown above does not appear to be random, as there is a clear peak in the number of matches at a position approximately 30 bases upstream of the TSS. \n",
    "This suggests the presence of a specific regulatory element that is recognized by TBP at that position."
   ]
  },
  {
   "cell_type": "markdown",
   "metadata": {
    "deletable": false,
    "editable": false,
    "nbgrader": {
     "cell_type": "markdown",
     "checksum": "8f7902028465e64c100de92e16e29e95",
     "grade": false,
     "grade_id": "cell-b2ee1e5ca6e64967",
     "locked": true,
     "schema_version": 3,
     "solution": false
    }
   },
   "source": [
    "- what choice(s) in the analysis affect the shape of this distribution?\n",
    "\n",
    "(Don't be afraid to try out your ideas in separate code cells, but please clean up dead code!)"
   ]
  },
  {
   "cell_type": "markdown",
   "metadata": {
    "deletable": false,
    "nbgrader": {
     "cell_type": "markdown",
     "checksum": "e28836a30fee89ffaf9b52f67293f7ff",
     "grade": true,
     "grade_id": "tbp-loc-affect-shape",
     "locked": false,
     "points": 0.1,
     "schema_version": 3,
     "solution": true
    }
   },
   "source": [
    "```\n",
    "The following are the choices that may affect the shape of distribution:\n",
    " 1. TFBS motif\n",
    " 2. gene set\n",
    " 3. genomic region to analyze\n",
    " 4. motif match cutoff\n",
    " 5. smoothing method (e.g., spline interpolation)\n",
    "```\n"
   ]
  },
  {
   "cell_type": "markdown",
   "metadata": {
    "deletable": false,
    "editable": false,
    "nbgrader": {
     "cell_type": "markdown",
     "checksum": "f49370e4e096d50639111d84b9f41a66",
     "grade": false,
     "grade_id": "cell-16c7d2d6ffc7fc30",
     "locked": true,
     "schema_version": 3,
     "solution": false
    }
   },
   "source": [
    "- define a null and alternate hypothesis for evaluating the \"spatial\" randomness of matches to a TFB\n",
    "\n",
    "*By spatial I mean the position along the sequence relative to the TSS.*"
   ]
  },
  {
   "cell_type": "markdown",
   "metadata": {
    "deletable": false,
    "nbgrader": {
     "cell_type": "markdown",
     "checksum": "0312c274bde38400c8f1cb50f993d407",
     "grade": true,
     "grade_id": "tbp-hypotheses",
     "locked": false,
     "points": 1.2,
     "schema_version": 3,
     "solution": true
    }
   },
   "source": [
    "Null hypothesis: The occurrence of matches to a TFB is a random event and is not influenced by the spatial position along the sequence relative to the TSS.\n",
    "\n",
    "Alternative hypothesis: The occurrence of matches to a TFB is not a random event and is influenced by the spatial position along the sequence relative to the TSS."
   ]
  },
  {
   "cell_type": "markdown",
   "metadata": {
    "deletable": false,
    "editable": false,
    "nbgrader": {
     "cell_type": "markdown",
     "checksum": "39935d1051f909815e53533016a28231",
     "grade": false,
     "grade_id": "cell-241ab542432c30a1",
     "locked": true,
     "schema_version": 3,
     "solution": false
    }
   },
   "source": [
    "- describe in pseudo-code how you would implement this\n",
    "\n",
    "(Pseudo-code is like writing an algorithm in Python, but it contains more English and does not have to be executable. You also do not need to declare data types.)\n",
    "\n",
    "**NOTE:** do not follow the logic assignment style for this answer."
   ]
  },
  {
   "cell_type": "markdown",
   "metadata": {
    "deletable": false,
    "nbgrader": {
     "cell_type": "markdown",
     "checksum": "f9483f310f005aeb63a34b2f47d4955e",
     "grade": true,
     "grade_id": "tbp-hyp-code",
     "locked": false,
     "points": 1.4,
     "schema_version": 3,
     "solution": true
    }
   },
   "source": [
    "```\n",
    "   tss = 0\n",
    "   pssm_scores = load_pssm_scores(tfbs)\n",
    "    # Calculate the observed number of matches in each position relative to the TSS\n",
    "   observed_matches = calculate_matches(pssm_scores, cutoff, tss)\n",
    "    # Define the null hypothesis\n",
    "   null_hypothesis = \"Matches are randomly distributed across the sequence relative to the TSS\"\n",
    "    # Define the alternate hypothesis\n",
    "   alternate_hypothesis = \"Matches are not randomly distributed across the sequence relative to the TSS\"\n",
    "\n",
    "\n",
    "    # Use a permutation test to evaluate the null hypothesis\n",
    "   permutation_matches = []\n",
    "   for i in range(n_permutations)\n",
    "       # Shuffle the positions relative to the TSS and recalculate the matches\n",
    "       shuffled_matches = calculate_matches(pssm_scores, cutoff, shuffle_positions(tss))\n",
    "       permutation_matches.append(shuffled_matches)\n",
    "    \n",
    "   p_value = calculate_p_value(observed_matches, permutation_matches)\n",
    "\n",
    "   # If the p-value is less than the significance threshold, reject the null hypothesis and accept the alternate hypothesis\n",
    "   if p_value < significance_threshold:\n",
    "       print(\"Reject the null hypothesis:\", alternate_hypothesis)\n",
    "   else\n",
    "        print(\"Accept the null hypothesis:\", null_hypothesis)\n",
    "```"
   ]
  },
  {
   "cell_type": "markdown",
   "metadata": {
    "deletable": false,
    "editable": false,
    "nbgrader": {
     "cell_type": "markdown",
     "checksum": "3e6c82e51ebb89af14fd4ef49b8c9965",
     "grade": false,
     "grade_id": "cell-2e42237e6b216f5d",
     "locked": true,
     "schema_version": 3,
     "solution": false
    }
   },
   "source": [
    "- are all \"matches\" to the TBP PSSM likely to be functional? Justify your answer in < 50 words."
   ]
  },
  {
   "cell_type": "markdown",
   "metadata": {
    "deletable": false,
    "nbgrader": {
     "cell_type": "markdown",
     "checksum": "d31d6b8b2096d077b59225cc73dd6cd3",
     "grade": true,
     "grade_id": "tbp-functional",
     "locked": false,
     "points": 0.5,
     "schema_version": 3,
     "solution": true
    }
   },
   "source": [
    "No, not all matches to the TBP PSSM are likely to be functional. Some matches may occur by chance and not actually be functional TFBSs. Additionally, the presence of a PSSM match does not guarantee that the TF actually binds to that site in vivo. Functional validation is necessary to determine if a TFBS is actually functional."
   ]
  },
  {
   "cell_type": "markdown",
   "metadata": {
    "deletable": false,
    "editable": false,
    "nbgrader": {
     "cell_type": "markdown",
     "checksum": "da31403a3cf756b4efad9391cd768979",
     "grade": false,
     "grade_id": "cell-c5c0d0cb576e6cc7",
     "locked": true,
     "schema_version": 3,
     "solution": false
    }
   },
   "source": [
    "## Q1.1 -- optional extension question\n",
    "\n",
    "Worth 0.5%\n",
    "\n",
    "Implement in code a method for establishing a suitable cutoff."
   ]
  },
  {
   "cell_type": "code",
   "execution_count": 39,
   "metadata": {
    "deletable": false,
    "nbgrader": {
     "cell_type": "code",
     "checksum": "6fc32b30040956e8365c57c867bd53ed",
     "grade": true,
     "grade_id": "extension-cutoff",
     "locked": false,
     "points": 0,
     "schema_version": 3,
     "solution": true
    }
   },
   "outputs": [],
   "source": [
    "import numpy as np\n",
    "def find_cutoff(pwm_scores):\n",
    "    cutoff = np.mean(pwm_scores) + np.std(pwm_scores)\n",
    "    return cutoff"
   ]
  },
  {
   "cell_type": "markdown",
   "metadata": {
    "deletable": false,
    "editable": false,
    "nbgrader": {
     "cell_type": "markdown",
     "checksum": "b72adc2786840dea15dd8e86b3d76bb7",
     "grade": false,
     "grade_id": "cell-e6e94a689a25533e",
     "locked": true,
     "schema_version": 3,
     "solution": false
    }
   },
   "source": [
    "## Q1.2 -- optional extension question\n",
    "\n",
    "Worth 0.5%\n",
    "\n",
    "Implement in code your proposed method for testing for spatial randomness."
   ]
  },
  {
   "cell_type": "code",
   "execution_count": null,
   "metadata": {
    "deletable": false,
    "nbgrader": {
     "cell_type": "code",
     "checksum": "9c4a38e6adf3090fcad3879483c92dcb",
     "grade": true,
     "grade_id": "extension-spatial-randomness",
     "locked": false,
     "points": 0,
     "schema_version": 3,
     "solution": true
    }
   },
   "outputs": [],
   "source": [
    "import numpy as np\n",
    "\n",
    "pssm_scores = np.load(\"data/pssm_scores/tbp.npy\")\n",
    "tss = pssm_scores.shape[0] // 2\n",
    "window_size = 100\n",
    "cut_off = find_cutoff(pssm_scores)\n",
    "observed_matches = np.sum(pssm_scores[tss - window_size:tss + window_size + 1] > cut_off)\n",
    "n_randomizations = 1000\n",
    "n_positions = pssm_scores.shape[0]\n",
    "random_matches = np.zeros(n_randomizations)\n",
    "for i in range(n_randomizations):\n",
    "    shuffled_scores = np.random.permutation(pssm_scores)\n",
    "    random_matches[i] = np.sum(shuffled_scores[tss - window_size:tss + window_size + 1] > cut_off)\n",
    "\n",
    "p_value = (np.sum(random_matches >= observed_matches) + 1) / (n_randomizations + 1)\n",
    "\n",
    "fig = px.histogram(random_matches, nbins=20, labels=dict(x=\"Number of Random Matches\"))\n",
    "fig.add_vline(x=observed_matches, line_color=\"red\", annotation_text=\"Observed Matches\", \n",
    "              annotation_position=\"top right\")\n",
    "fig.update_layout(title=\"Distribution of Random Matches\", xaxis_title=\"Number of Matches\",\n",
    "                  yaxis_title=\"Count\", showlegend=False)\n",
    "fig.show()\n",
    "\n",
    "alpha = 0.05\n",
    "\n",
    "if p_value < alpha:\n",
    "    print(f\"The p-value ({p_value:.3f}) is less than the significance level ({alpha}),\"\n",
    "          \" rejecting the null hypothesis of spatial randomness.\")\n",
    "else:\n",
    "    print(f\"The p-value ({p_value:.3f}) is greater than the significance level ({alpha}),\"\n",
    "          \" failing to reject the null hypothesis of spatial randomness.\")"
   ]
  },
  {
   "cell_type": "markdown",
   "metadata": {
    "deletable": false,
    "editable": false,
    "nbgrader": {
     "cell_type": "markdown",
     "checksum": "0de4c0303ae4fd3c85ed9eb5de2f9692",
     "grade": false,
     "grade_id": "cell-acc77d474dd2567c",
     "locked": true,
     "schema_version": 3,
     "solution": false
    }
   },
   "source": [
    "## Q2 -- analysis of other TFBS\n",
    "\n",
    "Modify the code I presented for TBP and apply it to all the TFBS (including TBP). (Feel free to write functions etc.. to simplify your code.)\n",
    "\n",
    "You can either plot each TFBS result in a single cell, or combine the results into one cell.\n",
    "\n",
    "### NOTE\n",
    "\n",
    "You will not score well if:\n",
    "\n",
    "- you do not change the plot titles\n",
    "- you do not remove all print statements\n",
    "- you do not delete all commented out code\n",
    "- you display the array data\n",
    "\n",
    "You **will** score well if:\n",
    "\n",
    "- you write a function that eliminates redundant code"
   ]
  },
  {
   "cell_type": "code",
   "execution_count": null,
   "metadata": {
    "deletable": false,
    "nbgrader": {
     "cell_type": "code",
     "checksum": "a3acde324226c944239aaa2d7c310875",
     "grade": true,
     "grade_id": "tbp-plot-gata4",
     "locked": false,
     "points": 0.7,
     "schema_version": 3,
     "solution": true
    }
   },
   "outputs": [],
   "source": [
    "import plotly.express as px\n",
    "import numpy as np\n",
    "def load_scores(array_file):\n",
    "    pssm_scores = np.load(\"data/pssm_scores/{}\".format(array_file))\n",
    "    cutoff = find_cutoff(pssm_scores)\n",
    "    scores = (pssm_scores > cutoff).sum(axis=0)\n",
    "    TSS = scores.shape[0] // 2\n",
    "    x_axis = [i - TSS for i in range(scores.shape[0])]\n",
    "    return scores\n",
    "    "
   ]
  },
  {
   "cell_type": "code",
   "execution_count": null,
   "metadata": {},
   "outputs": [],
   "source": [
    "def load_xaxis(array_file):\n",
    "    scores=load_scores(array_file)\n",
    "    x_axis = [i - TSS for i in range(scores.shape[0])]\n",
    "    return x_axis"
   ]
  },
  {
   "cell_type": "code",
   "execution_count": null,
   "metadata": {},
   "outputs": [],
   "source": [
    "def plot_matches(scores, x_axis, title):\n",
    "    if (len(x_axis)>len(scores)):\n",
    "        x_axis=x_axis[0:len(scores)]\n",
    "    else:\n",
    "        scores=scores[0:len(x_axis)]\n",
    "        \n",
    "    fig = px.line(\n",
    "        x=x_axis,\n",
    "        y=scores,\n",
    "        line_shape=\"spline\",        \n",
    "        title=f\"{title} Binding Protein PSSM matches\",\n",
    "        labels=dict(x=\"Position relative to TSS\", \n",
    "        y=\"Number of Genes Matching\"),\n",
    "    )\n",
    "    fig.show()"
   ]
  },
  {
   "cell_type": "code",
   "execution_count": null,
   "metadata": {},
   "outputs": [],
   "source": [
    "for bp in ['gata4.npy', 'mef2.npy', 'myog.npy', 'nkx2-5.npy', 'srf1.npy', 'tbp.npy', 'tbx5.npy']:\n",
    "    plot_matches(load_scores(bp),load_xaxis(bp), bp.split('.')[0].upper())"
   ]
  },
  {
   "cell_type": "markdown",
   "metadata": {
    "deletable": false,
    "editable": false,
    "nbgrader": {
     "cell_type": "markdown",
     "checksum": "39bcac0ee60db537967dd0009fdb743f",
     "grade": false,
     "grade_id": "cell-c6b68f03ae48c552",
     "locked": true,
     "schema_version": 3,
     "solution": false
    }
   },
   "source": [
    "## Q3\n",
    "\n",
    "What were the factors affecting your choices regarding the cutoff(s) you chose?\n",
    "\n",
    "*Answer in less than 200 words.*"
   ]
  },
  {
   "cell_type": "markdown",
   "metadata": {
    "deletable": false,
    "nbgrader": {
     "cell_type": "markdown",
     "checksum": "ebeb510b1e3b0dce3fcad25ea47e6b10",
     "grade": true,
     "grade_id": "tbp-cutoff-choice",
     "locked": false,
     "points": 2.3,
     "schema_version": 3,
     "solution": true
    }
   },
   "source": [
    "1. The choice of cutoff value for identifying TFBS matches can significantly affect the outcome of the analysis.\n",
    "2. Setting a low cutoff will increase the sensitivity of the search, but may also increase the number of false positives. \n",
    "3. On the other hand, setting a high cutoff will increase the specificity, but may lead to missing genuine TFBS matches. \n",
    "4. Therefore, the choice of the cutoff should balance between sensitivity and specificity based on the research question, the   characteristics of the data, and the prior knowledge about the TFBS.\n",
    "5. In the provided implementation, the find_cutoff function calculates the cutoff value as the mean of the PWM scores plus one standard deviation. This is a common practice for selecting a cutoff value based on the assumption that the scores are distributed normally."
   ]
  },
  {
   "cell_type": "markdown",
   "metadata": {
    "deletable": false,
    "editable": false,
    "nbgrader": {
     "cell_type": "markdown",
     "checksum": "0f931eb83467fa2ede25cb78b54efe51",
     "grade": false,
     "grade_id": "cell-8320026875eaa529",
     "locked": true,
     "schema_version": 3,
     "solution": false
    }
   },
   "source": [
    "In ≤ 100 words total (does not have to be in logic assignment style)\n",
    "\n",
    "- Summarise the pattern(s) you observed for the TFBS (don't just list them, are there common patterns, or not).\n",
    "- For each provided PSSM, is a \"match\" sufficiently informative to uniquely identify a functioning TFBS? (Justify your answer with reference to the corresponding plot.)\n"
   ]
  },
  {
   "cell_type": "markdown",
   "metadata": {
    "deletable": false,
    "nbgrader": {
     "cell_type": "markdown",
     "checksum": "40408e36512c729de7735d66b19fb4e6",
     "grade": true,
     "grade_id": "tbp-match-meaning",
     "locked": false,
     "points": 0.5,
     "schema_version": 3,
     "solution": true
    }
   },
   "source": [
    "1. From the analysis, the patterns for the different TFBS PSSMs is varying. Some of the PSSMs showed a clear spatial pattern in the occurrence of matches, while others showed no clear pattern and, the number of matches also varied between the different TFBS PSSMs.<br>\n",
    "\n",
    "2. For some PSSMs, a match appears to be informative enough to identify a functioning TFBS. The TBP PSSM showed a clear spatial pattern in the occurrence of matches, and the number of matches was low, suggesting that the matches are likely to be functional.\n",
    "3. However, for other PSSMs such as the MEF2 and MYOG PSSMs, the matches were distributed across the sequence and showed no clear spatial pattern. In these cases, a match alone may not be sufficient to identify a functional TFBS."
   ]
  },
  {
   "cell_type": "markdown",
   "metadata": {
    "deletable": false,
    "editable": false,
    "nbgrader": {
     "cell_type": "markdown",
     "checksum": "8190033c2906fb8073644226f58566b7",
     "grade": false,
     "grade_id": "cell-affab95723e013f2",
     "locked": true,
     "schema_version": 3,
     "solution": false
    }
   },
   "source": [
    "- across the TFBS, what do the key patterns imply about which predicted occurrences of a motif are likely to actually be functional\n",
    "\n",
    "*Answer in less than 100 words.*"
   ]
  },
  {
   "cell_type": "markdown",
   "metadata": {
    "deletable": false,
    "nbgrader": {
     "cell_type": "markdown",
     "checksum": "05acfdcf2c6295230b0dd54e429846fe",
     "grade": true,
     "grade_id": "tbp-patterns",
     "locked": false,
     "points": 1,
     "schema_version": 3,
     "solution": true
    }
   },
   "source": [
    "The key patterns imply that the functional occurrences of the motif are more likely to cluster together near the TSS, rather than being randomly distributed throughout the sequence. This suggests that the regulatory elements controlling gene expression are more likely to be located near the TSS, and that not all predicted occurrences of a motif are likely to be functional."
   ]
  },
  {
   "cell_type": "markdown",
   "metadata": {
    "deletable": false,
    "editable": false,
    "nbgrader": {
     "cell_type": "markdown",
     "checksum": "0a504adf34f7f66418fe548f3095feb9",
     "grade": false,
     "grade_id": "cell-c45e355b388c90fd",
     "locked": true,
     "schema_version": 3,
     "solution": false
    }
   },
   "source": [
    "- do all TFBS have a clear pattern? If not, conjecture why.\n",
    "\n",
    "*Answer in less than 100 words.*"
   ]
  },
  {
   "cell_type": "markdown",
   "metadata": {
    "deletable": false,
    "nbgrader": {
     "cell_type": "markdown",
     "checksum": "2a01cec611eaa90902b66106ea4c3abe",
     "grade": true,
     "grade_id": "tbp-pattern-explained",
     "locked": false,
     "points": 2.5,
     "schema_version": 3,
     "solution": true
    }
   },
   "source": [
    "No, not every TFBS exhibits a distinct pattern. This might be caused by a number of things, like the existence of several overlapping TFBS in the same area or the impact of other regulatory components that affect TFBS occupancy. A variance in the geographical distribution of projected binding sites may result from the fact that various TFs may work in various ways and bind to DNA in various ways."
   ]
  },
  {
   "cell_type": "markdown",
   "metadata": {
    "deletable": false,
    "editable": false,
    "nbgrader": {
     "cell_type": "markdown",
     "checksum": "fd40a0b511bc3ec255e35be3ed615e54",
     "grade": false,
     "grade_id": "cell-1649228f09fb4dd6",
     "locked": true,
     "schema_version": 3,
     "solution": false
    }
   },
   "source": [
    "## Q4\n",
    "\n",
    "With reference to [Culley et al](https://www.ncbi.nlm.nih.gov/pmc/articles/PMC3684448/), identify which of the provided TFBS are likely to be associated with cardiac development.\n",
    "\n",
    "*Answer in less than 100 words.*"
   ]
  },
  {
   "cell_type": "markdown",
   "metadata": {
    "deletable": false,
    "nbgrader": {
     "cell_type": "markdown",
     "checksum": "224c9d5b26c755345bd195631873126b",
     "grade": true,
     "grade_id": "tbp-heart",
     "locked": false,
     "points": 0.43,
     "schema_version": 3,
     "solution": true
    }
   },
   "source": [
    "The transcription factors GATA4, MEF2C, and NKX2-5 are significant controllers of heart development, claim Culley et al. Due to the fact that all three of these TFs are represented in the given PSSMs, it is likely that matches to their motifs are connected to cardiac development."
   ]
  },
  {
   "cell_type": "markdown",
   "metadata": {
    "deletable": false,
    "editable": false,
    "nbgrader": {
     "cell_type": "markdown",
     "checksum": "088a222d905f495a00ec5673d0e7f071",
     "grade": false,
     "grade_id": "cell-a347cd72967c9e23",
     "locked": true,
     "schema_version": 3,
     "solution": false
    }
   },
   "source": [
    "Drawing on your answers above, make a prediction about the distribution of TFBS combining in a cis-regulatory module to affect gene expression. (I suggest picking two known be involved in heart development.)\n",
    "\n",
    "Your predictions must be something that can be computationally tested using the data in `GSM522308-edited.tsv`.\n",
    "\n",
    "*Answer in less than 300 words.*"
   ]
  },
  {
   "cell_type": "markdown",
   "metadata": {
    "deletable": false,
    "nbgrader": {
     "cell_type": "markdown",
     "checksum": "bd91d4b784f7c6fce0fed551058ccfcc",
     "grade": true,
     "grade_id": "tbp-heart-crm-predict",
     "locked": false,
     "points": 3.5,
     "schema_version": 3,
     "solution": true
    }
   },
   "source": [
    "1. Based on the analysis above, it can be predicted that the distribution of TFBS in a cis-regulatory module involved in heart development will not be random but rather show specific patterns in terms of spatial distribution and the number of matches to a given PSSM. \n",
    "2. For instance, the TBP PSSM showed a peak in matches around the TSS, which could suggest that functional binding sites tend to occur near the transcription start site. Similarly, the GATA4 PSSM had a bimodal distribution with peaks around -200 and +100 bp relative to the TSS, which could suggest that functional binding sites tend to occur at specific distances from the TSS.\n",
    "\n",
    "3. To test this prediction using the data in GSM522308-edited.tsv, we could identify genes that are known to be involved in heart development and analyze the distribution of TFBS within their cis-regulatory modules. For example, we could focus on the Nkx2-5 and Gata4 genes, both of which are known to play critical roles in heart development. We could extract the sequences of their cis-regulatory modules from the genome and scan them for matches to the Nkx2-5 and Gata4 PSSMs. \n",
    "\n",
    "4. By analyzing the distribution of matches across the cis-regulatory modules, we could test the hypothesis that functional binding sites tend to occur at specific distances from the TSS and show a non-random distribution of matches. If the results support this hypothesis, it could suggest that the spatial distribution of TFBS is an important factor in determining the function of cis-regulatory modules in heart development."
   ]
  },
  {
   "cell_type": "markdown",
   "metadata": {
    "deletable": false,
    "editable": false,
    "nbgrader": {
     "cell_type": "markdown",
     "checksum": "aae1d569350fe3e6321eafebc0e30ad7",
     "grade": false,
     "grade_id": "cell-1e4d43722926e0eb",
     "locked": true,
     "schema_version": 3,
     "solution": false
    }
   },
   "source": [
    "## Q5  -- optional extension question\n",
    "\n",
    "Worth 1%\n",
    "\n",
    "In ≤ 200 words, describe an algorithm, in pseudocode, for testing your hypothesis."
   ]
  },
  {
   "cell_type": "markdown",
   "metadata": {
    "deletable": false,
    "nbgrader": {
     "cell_type": "markdown",
     "checksum": "01a341b4599d4c3a4fcadc92b09015c1",
     "grade": true,
     "grade_id": "extension-predict-pseudocode",
     "locked": false,
     "points": 0,
     "schema_version": 3,
     "solution": true
    }
   },
   "source": [
    "1. Load the PWM files for the two TFBS of interest.\n",
    "2. Load the expression data for the genes of interest (GSM522308-edited.tsv).\n",
    "3. For each gene:\n",
    "    a. Determine the distance of each TFBS from the TSS of the gene.\n",
    "    b. For each distance, count the number of matches to the PWM above a certain cutoff.\n",
    "    c. Calculate the sum of the counts for each distance for the two TFBS.\n",
    "    d. If the sum of the counts is above a certain threshold, mark the gene as a potential target.\n",
    "4. Calculate the co-occurrence of the potential target genes and the two TFBS of interest.\n",
    "5. Perform a statistical test to determine if the co-occurrence is greater than expected by chance.\n",
    "6. If the co-occurrence is significant, conclude that the two TFBS are likely to combine in a cis-regulatory module to affect gene expression in heart development."
   ]
  }
 ],
 "metadata": {
  "kernelspec": {
   "display_name": "Python 3 (ipykernel)",
   "language": "python",
   "name": "python3"
  },
  "language_info": {
   "codemirror_mode": {
    "name": "ipython",
    "version": 3
   },
   "file_extension": ".py",
   "mimetype": "text/x-python",
   "name": "python",
   "nbconvert_exporter": "python",
   "pygments_lexer": "ipython3",
   "version": "3.8.10"
  }
 },
 "nbformat": 4,
 "nbformat_minor": 2
}
