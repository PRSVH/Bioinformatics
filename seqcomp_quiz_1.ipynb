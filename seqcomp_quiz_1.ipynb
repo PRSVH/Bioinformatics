{
 "cells": [
  {
   "cell_type": "markdown",
   "metadata": {},
   "source": [
    "# <span style=\"color:red\">Before you turn this in, make sure everything runs as expected.</span>\n",
    "\n",
    "1. **RESTART THE KERNEL** – in the menubar, select Kernel$\\rightarrow$Restart\n",
    "2. **RUN ALL CELLS** – in the menubar, select Cell$\\rightarrow$Run All\n",
    "3. **VALIDATE THE NOTEBOOK** – in the menubar, click the Validate button\n",
    "\n",
    "## <span style=\"color:blue\">How to Answer Questions</span>\n",
    "\n",
    "### <span style=\"color:blue\">Python code answers</span>\n",
    "\n",
    "Enter your answer any place that says\n",
    "```python\n",
    "# Enter your code here\n",
    "```\n",
    "<span style=\"color:red\">**AND delete the text.**</span>\n",
    "```python\n",
    "raise NotImplementedError # No Answer - remove if you provide an answer\n",
    "```\n",
    "\n",
    "### <span style=\"color:blue\">Written answers</span>\n",
    "\n",
    "Enter your answer any place that says\n",
    "```\n",
    "YOUR ANSWER HERE.\n",
    "```"
   ]
  },
  {
   "cell_type": "code",
   "execution_count": null,
   "metadata": {},
   "outputs": [],
   "source": [
    "ANUID = \"u7522927\""
   ]
  },
  {
   "cell_type": "markdown",
   "metadata": {},
   "source": [
    "---"
   ]
  },
  {
   "cell_type": "markdown",
   "metadata": {
    "deletable": false,
    "editable": false,
    "nbgrader": {
     "cell_type": "markdown",
     "checksum": "10804f064609bc2ef5fd187cac2f422b",
     "grade": false,
     "grade_id": "cell-fece8bcaf00aa703",
     "locked": true,
     "schema_version": 3,
     "solution": false
    }
   },
   "source": [
    "# Quiz 1 -- Sequence comparison foundations\n",
    "\n",
    "This quiz is worth 1% of the course.\n",
    "\n",
    "**DO NOT USE NUMPY FOR THIS QUIZ** If you do, you lose all marks for questions where `numpy` was applied."
   ]
  },
  {
   "cell_type": "markdown",
   "metadata": {
    "deletable": false,
    "editable": false,
    "nbgrader": {
     "cell_type": "markdown",
     "checksum": "157164eba85eabc0c7dd7c20e0c42961",
     "grade": false,
     "grade_id": "cell-b164a2b2d577b63a",
     "locked": true,
     "schema_version": 3,
     "solution": false
    }
   },
   "source": [
    "## Q1 -- how many k-mers\n",
    "\n",
    "Consider a 4 nucleotides long DNA sequence `ACGT`.\n",
    "\n",
    "- When $k=1$, the number of 1-mers is four: `['A', 'C', 'G', 'T']`.\n",
    "- When $k=2$, the number of 2-mers is 3: `['AC', 'CG', 'GT']`.\n",
    "\n",
    "Complete the function `get_number_of_kmers()` so that it returns the number of k-mers when given a sequence length and a value for $k$.\n",
    "\n",
    "As indicated by the function type hints, `get_number_of_kmers()` has 2 arguments\n",
    "- `seq_length` is an integer\n",
    "- `k` is an integer\n",
    "-  `get_number_of_kmers()` returns an integer\n",
    "\n",
    "### How I test your function\n",
    "\n",
    "- I will use different values for `seq_length` and `k`\n",
    "- You can assume the following:\n",
    "    - `seq_length > 1`, `k>0`\n",
    "    - `seq_length > k`"
   ]
  },
  {
   "cell_type": "code",
   "execution_count": 1,
   "metadata": {
    "deletable": false,
    "nbgrader": {
     "cell_type": "code",
     "checksum": "d53028a23e460c096415cc3ea520d449",
     "grade": false,
     "grade_id": "num_kmer-soln",
     "locked": false,
     "schema_version": 3,
     "solution": true
    }
   },
   "outputs": [],
   "source": [
    "# complete this function\n",
    "def get_number_of_kmers(seq_length: int, k: int) -> int:\n",
    "    return ((seq_length) - k + 1)"
   ]
  },
  {
   "cell_type": "code",
   "execution_count": 2,
   "metadata": {
    "deletable": false,
    "editable": false,
    "nbgrader": {
     "cell_type": "code",
     "checksum": "e7b24fc6e945f82710ac69a712bd1f7d",
     "grade": true,
     "grade_id": "num_kmer-defn",
     "locked": true,
     "points": 0.05,
     "schema_version": 3,
     "solution": false
    }
   },
   "outputs": [],
   "source": [
    "# This part worth 0.05\n",
    "\n",
    "# A test!\n",
    "\"\"\"Q1 number of k-mers : correct name and callable\"\"\"\n",
    "from gutils import check\n",
    "\n",
    "check.allowed_modules()\n",
    "check.expected_variables_exist([\"get_number_of_kmers\"], locals())\n",
    "assert callable(get_number_of_kmers)"
   ]
  },
  {
   "cell_type": "code",
   "execution_count": 3,
   "metadata": {
    "deletable": false,
    "editable": false,
    "nbgrader": {
     "cell_type": "code",
     "checksum": "229b2f7e204465da4f0867516763137c",
     "grade": true,
     "grade_id": "num_kmer-vals",
     "locked": true,
     "points": 0.1,
     "schema_version": 3,
     "solution": false
    }
   },
   "outputs": [
    {
     "data": {
      "text/plain": [
       "'Q1 number of k-mers : get_number_of_kmers() returns the correct values and type'"
      ]
     },
     "execution_count": 3,
     "metadata": {},
     "output_type": "execute_result"
    }
   ],
   "source": [
    "# This part worth 0.1\n",
    "\n",
    "# A test!\n",
    "\"\"\"Q1 number of k-mers : get_number_of_kmers() returns the correct values and type\"\"\""
   ]
  },
  {
   "cell_type": "markdown",
   "metadata": {
    "deletable": false,
    "editable": false,
    "nbgrader": {
     "cell_type": "markdown",
     "checksum": "601823b8de3b45c578daecf792e329b9",
     "grade": false,
     "grade_id": "cell-60d2528425d15354",
     "locked": true,
     "schema_version": 3,
     "solution": false
    }
   },
   "source": [
    "## Q2 -- split a sequence into overlapping k-mers\n",
    "\n",
    "Complete the function `get_kmers()`.\n",
    "\n",
    "`get_kmers()` has two arguments\n",
    "\n",
    "- `seq` is a string. This must be a required argument.\n",
    "- `k` is an integer. This must be a must be an optional argument.\n",
    "\n",
    "`get_kmers()` returns a list of the ordered k-mers. The items in the list are strings.\n",
    "\n",
    "**Tip:** If you don't modify the provided function signature, the argument types (required, optional) will be correct!\n",
    "\n",
    "When you apply your function to `a_seq` (defined below) with `k=2`, it should return the following:\n",
    "\n",
    "```ipython\n",
    "In[1]: kmers = get_kmers(a_seq, k=2)\n",
    "In[2]: kmers\n",
    "Out[2]: ['AC', 'CG', 'GT', 'TA', 'AC', 'CG', 'GT', 'TA', 'AC']\n",
    "``` \n",
    "\n",
    "### How I test your function\n",
    "\n",
    "- Values of `k>=1`\n",
    "- I will check against `a_seq` and a randomly generated sequence\n",
    "- The order of `k-mers` in the output is critical!"
   ]
  },
  {
   "cell_type": "code",
   "execution_count": null,
   "metadata": {
    "deletable": false,
    "editable": false,
    "nbgrader": {
     "cell_type": "code",
     "checksum": "ee402b1ba15b5af1134f02688dfffea4",
     "grade": false,
     "grade_id": "cell-51cfc46cee184b9e",
     "locked": true,
     "schema_version": 3,
     "solution": false
    }
   },
   "outputs": [],
   "source": [
    "a_seq = \"ACGTACGTAC\""
   ]
  },
  {
   "cell_type": "code",
   "execution_count": 4,
   "metadata": {
    "deletable": false,
    "nbgrader": {
     "cell_type": "code",
     "checksum": "f51bf724405ef9a22f0041a8ba0eba5c",
     "grade": false,
     "grade_id": "gen-kmers-soln",
     "locked": false,
     "schema_version": 3,
     "solution": true
    }
   },
   "outputs": [],
   "source": [
    "# complete this function\n",
    "def get_kmers(seq: str, k: int=1) -> list:\n",
    "    result = []\n",
    "    num_kmers = get_number_of_kmers(len(seq), k)\n",
    "    for i in range(num_kmers):\n",
    "        subseq = seq[i : i + k]\n",
    "        result.append(subseq)\n",
    "    return result\n"
   ]
  },
  {
   "cell_type": "code",
   "execution_count": 5,
   "metadata": {
    "deletable": false,
    "editable": false,
    "nbgrader": {
     "cell_type": "code",
     "checksum": "781d87c552e3d6be56f9ebf5f02a3e56",
     "grade": true,
     "grade_id": "gen-kmers-defn",
     "locked": true,
     "points": 0.05,
     "schema_version": 3,
     "solution": false
    }
   },
   "outputs": [],
   "source": [
    "# This part worth 0.05\n",
    "\n",
    "# A test!\n",
    "\"\"\"Q2 generate k-mers : get_kmers is defined and callable\"\"\"\n",
    "check.allowed_modules()\n",
    "check.expected_variables_exist([\"get_kmers\"], locals())\n",
    "assert callable(get_kmers)"
   ]
  },
  {
   "cell_type": "code",
   "execution_count": 6,
   "metadata": {
    "deletable": false,
    "editable": false,
    "nbgrader": {
     "cell_type": "code",
     "checksum": "bed9fa868b570eee79f1984865b7cfa7",
     "grade": true,
     "grade_id": "gen-kmers-func-works",
     "locked": true,
     "points": 0.1,
     "schema_version": 3,
     "solution": false
    }
   },
   "outputs": [
    {
     "data": {
      "text/plain": [
       "'Q2 generate k-mers : get_kmers does not fail when called with k'"
      ]
     },
     "execution_count": 6,
     "metadata": {},
     "output_type": "execute_result"
    }
   ],
   "source": [
    "# This part worth 0.1\n",
    "\n",
    "# A test!\n",
    "\"\"\"Q2 generate k-mers : get_kmers does not fail when called with k\"\"\""
   ]
  },
  {
   "cell_type": "code",
   "execution_count": 7,
   "metadata": {
    "deletable": false,
    "editable": false,
    "nbgrader": {
     "cell_type": "code",
     "checksum": "9ca34f47f80a9fb1369df96cae89e81a",
     "grade": true,
     "grade_id": "gen-kmers-type",
     "locked": true,
     "points": 0.1,
     "schema_version": 3,
     "solution": false
    }
   },
   "outputs": [
    {
     "data": {
      "text/plain": [
       "'Q2 generate k-mers : returns a list of strings'"
      ]
     },
     "execution_count": 7,
     "metadata": {},
     "output_type": "execute_result"
    }
   ],
   "source": [
    "# This part worth 0.1\n",
    "\n",
    "# A test!\n",
    "\"\"\"Q2 generate k-mers : returns a list of strings\"\"\""
   ]
  },
  {
   "cell_type": "code",
   "execution_count": 8,
   "metadata": {
    "deletable": false,
    "editable": false,
    "nbgrader": {
     "cell_type": "code",
     "checksum": "a068c88892c74d4aa763c90d4c381dc6",
     "grade": true,
     "grade_id": "gen-kmers-values",
     "locked": true,
     "points": 0.2,
     "schema_version": 3,
     "solution": false
    }
   },
   "outputs": [
    {
     "data": {
      "text/plain": [
       "'Q2 generate k-mers : correct values on a random seq'"
      ]
     },
     "execution_count": 8,
     "metadata": {},
     "output_type": "execute_result"
    }
   ],
   "source": [
    "# This part worth 0.2\n",
    "\n",
    "# A test!\n",
    "\"\"\"Q2 generate k-mers : correct values on a random seq\"\"\""
   ]
  },
  {
   "cell_type": "markdown",
   "metadata": {
    "deletable": false,
    "editable": false,
    "nbgrader": {
     "cell_type": "markdown",
     "checksum": "3fa6fefcd8a3a6b6a343098ff5a9ff23",
     "grade": false,
     "grade_id": "cell-89ce1e8367a178fc",
     "locked": true,
     "schema_version": 3,
     "solution": false,
     "task": false
    }
   },
   "source": [
    "## Definitions\n",
    "\n",
    "**coordinate** the index positions for a specific element. For example,\n",
    "\n",
    "```python\n",
    "data = [[23, 14],\n",
    "        [1, 100]]\n",
    "```\n",
    "Here the value 1 is obtained by using the following indices\n",
    "```python\n",
    "data[1][0]\n",
    "```\n",
    "The indexing values `1, 0` are a coordinate.\n",
    "\n",
    "**nested iteration** Nested loops of a multi-dimentional data structure. For example,\n",
    "\n",
    "```python\n",
    "for a in series_1:\n",
    "    for b in series_2:\n",
    "        do something involving a and b\n",
    "```"
   ]
  },
  {
   "cell_type": "markdown",
   "metadata": {
    "deletable": false,
    "editable": false,
    "nbgrader": {
     "cell_type": "markdown",
     "checksum": "d3743ba955790b0878d3e7e0b5f6ca88",
     "grade": false,
     "grade_id": "cell-6210082ba13bce97",
     "locked": true,
     "schema_version": 3,
     "solution": false,
     "task": false
    }
   },
   "source": [
    "## Q3 -- nested iteration\n",
    "\n",
    "In order to compare k-mers between sequences, we need to be able to loop over the possible coordinates and check values."
   ]
  },
  {
   "cell_type": "code",
   "execution_count": null,
   "metadata": {
    "deletable": false,
    "editable": false,
    "nbgrader": {
     "cell_type": "code",
     "checksum": "a93bd4fdbe99764791a6271283189244",
     "grade": false,
     "grade_id": "cell-ef7480353795f952",
     "locked": true,
     "schema_version": 3,
     "solution": false
    }
   },
   "outputs": [],
   "source": [
    "matrix = [[0, 0, 1, 1],\n",
    "          [1, 0, 0, 1],\n",
    "          [0, 1, 0, 0],\n",
    "          [1, 1, 0, 1]]"
   ]
  },
  {
   "cell_type": "markdown",
   "metadata": {
    "deletable": false,
    "editable": false,
    "nbgrader": {
     "cell_type": "markdown",
     "checksum": "7f3a9666197b17c373a29381ab043c34",
     "grade": false,
     "grade_id": "cell-38f47d32a7b3cdf0",
     "locked": true,
     "schema_version": 3,
     "solution": false
    }
   },
   "source": [
    "Complete the function `get_coords()` below. It takes a single argument (a lists of lists, e.g. `matrix`) and it returns the row coordinates and column coordinates for the elements that have the value `1` (e.g. `matrix`, at coordinate `0, 2` we have the value `1`).\n",
    "\n",
    "`get_coords()` has one required argument\n",
    "- `matrix` (a list of list of integers)\n",
    "\n",
    "`get_coords()` returns:\n",
    "- a tuple of two lists of integers. The lists are the same length.\n",
    "- the first list corresponds to the row coordinates for items that equal 1\n",
    "- the second list corresponds to the column coordinates for items that equal 1\n",
    "- the order of elements must correspond between the two lists\n",
    "    - this means `matrix[<row coordinate #3>][<col coordinate #3>] == 1`\n",
    "\n",
    "In the case of `matrix`, your function should return the following.\n",
    "\n",
    "```python\n",
    " In[1]: row_coords, col_coords = get_coords(matrix)\n",
    " In[2]: row_coords\n",
    "Out[2]: [0, 0, 1, 1, 2, 3, 3, 3]\n",
    " In[3]: col_coords\n",
    "Out[3]: [2, 3, 0, 3, 1, 0, 1, 3]\n",
    "```\n",
    "### How I test your function\n",
    "\n",
    "- Check it returns two separate lists which have the same length\n",
    "- It correctly processes the provided `matrix`\n",
    "- It correctly processes a randomly generated matrix.\n",
    "    - generated matrices will not necessarily be square (i.e. number of rows `!=` number of columns)\n",
    "    - generated matrices will have a fixed shape (all rows have the same number of elements)"
   ]
  },
  {
   "cell_type": "code",
   "execution_count": 17,
   "metadata": {
    "deletable": false,
    "nbgrader": {
     "cell_type": "code",
     "checksum": "7e82aa770c97d7c26381063b173ab318",
     "grade": false,
     "grade_id": "nested-iter-soln",
     "locked": false,
     "schema_version": 3,
     "solution": true
    }
   },
   "outputs": [
    {
     "name": "stdout",
     "output_type": "stream",
     "text": [
      "([0, 0, 1, 1, 2, 3, 3, 3], [2, 3, 0, 3, 1, 0, 1, 3])\n"
     ]
    }
   ],
   "source": [
    "# complete this function\n",
    "def get_coords(matrix: list) -> tuple:\n",
    "    rowlist = []\n",
    "    collist = []\n",
    "    for i in range(len(matrix)):\n",
    "        for j in range(len(matrix[i])):\n",
    "            if matrix[i][j] == 1 : \n",
    "                rowlist.append(i)\n",
    "                collist.append(j)\n",
    "        j = 0\n",
    "    return (rowlist,collist)\n",
    "print (get_coords([[0, 0, 1, 1],\n",
    "          [1, 0, 0, 1],\n",
    "          [0, 1, 0, 0],\n",
    "          [1, 1, 0, 1]]))"
   ]
  },
  {
   "cell_type": "code",
   "execution_count": 18,
   "metadata": {
    "deletable": false,
    "editable": false,
    "nbgrader": {
     "cell_type": "code",
     "checksum": "2896deda048ea3ccb054a442e7685fa2",
     "grade": true,
     "grade_id": "nested-iter-defn",
     "locked": true,
     "points": 0.05,
     "schema_version": 3,
     "solution": false,
     "task": false
    }
   },
   "outputs": [],
   "source": [
    "# This part worth 0.05\n",
    "\n",
    "# A test!\n",
    "\"\"\"Q3 nested iter : defined and callable\"\"\"\n",
    "check.allowed_modules()\n",
    "check.expected_variables_exist([\"get_coords\"], locals())\n",
    "assert callable(get_coords)"
   ]
  },
  {
   "cell_type": "code",
   "execution_count": 19,
   "metadata": {
    "deletable": false,
    "editable": false,
    "nbgrader": {
     "cell_type": "code",
     "checksum": "4421bfb258cfaa818b4e140b5fef9679",
     "grade": true,
     "grade_id": "nested-iter-result-dim",
     "locked": true,
     "points": 0.05,
     "schema_version": 3,
     "solution": false,
     "task": false
    }
   },
   "outputs": [
    {
     "data": {
      "text/plain": [
       "'Q3 nested iter : returns correct number of results and they have same length for provided matrix'"
      ]
     },
     "execution_count": 19,
     "metadata": {},
     "output_type": "execute_result"
    }
   ],
   "source": [
    "# This part worth 0.05\n",
    "\n",
    "# A test!\n",
    "\"\"\"Q3 nested iter : returns correct number of results and they have same length for provided matrix\"\"\""
   ]
  },
  {
   "cell_type": "code",
   "execution_count": 20,
   "metadata": {
    "deletable": false,
    "editable": false,
    "nbgrader": {
     "cell_type": "code",
     "checksum": "230d19d492bd7abbb55f6799fbd26673",
     "grade": true,
     "grade_id": "nested-iter-val",
     "locked": true,
     "points": 0.1,
     "schema_version": 3,
     "solution": false
    }
   },
   "outputs": [
    {
     "data": {
      "text/plain": [
       "'Q3 nested iter : returns correct value for provided matrix'"
      ]
     },
     "execution_count": 20,
     "metadata": {},
     "output_type": "execute_result"
    }
   ],
   "source": [
    "# This part worth 0.1\n",
    "\n",
    "# A test!\n",
    "\"\"\"Q3 nested iter : returns correct value for provided matrix\"\"\""
   ]
  },
  {
   "cell_type": "code",
   "execution_count": 22,
   "metadata": {
    "deletable": false,
    "editable": false,
    "nbgrader": {
     "cell_type": "code",
     "checksum": "07933beeaf707a77def73480cbbfac43",
     "grade": true,
     "grade_id": "nested-iter-rand",
     "locked": true,
     "points": 0.2,
     "schema_version": 3,
     "solution": false
    }
   },
   "outputs": [
    {
     "data": {
      "text/plain": [
       "'Q3 nested iter : returns correct value for a random matrix'"
      ]
     },
     "execution_count": 22,
     "metadata": {},
     "output_type": "execute_result"
    }
   ],
   "source": [
    "# This part worth 0.2\n",
    "\n",
    "# A test!\n",
    "\"\"\"Q3 nested iter : returns correct value for a random matrix\"\"\""
   ]
  }
 ],
 "metadata": {
  "kernelspec": {
   "display_name": "Py310",
   "language": "python",
   "name": "py310"
  },
  "language_info": {
   "codemirror_mode": {
    "name": "ipython",
    "version": 3
   },
   "file_extension": ".py",
   "mimetype": "text/x-python",
   "name": "python",
   "nbconvert_exporter": "python",
   "pygments_lexer": "ipython3",
   "version": "3.10.9"
  }
 },
 "nbformat": 4,
 "nbformat_minor": 2
}
