{
 "cells": [
  {
   "cell_type": "markdown",
   "metadata": {},
   "source": [
    "# <span style=\"color:red\">Before you turn this in, make sure everything runs as expected.</span>\n",
    "\n",
    "1. **RESTART THE KERNEL** – in the menubar, select Kernel$\\rightarrow$Restart\n",
    "2. **RUN ALL CELLS** – in the menubar, select Cell$\\rightarrow$Run All\n",
    "3. **VALIDATE THE NOTEBOOK** – in the menubar, click the Validate button\n",
    "\n",
    "## <span style=\"color:blue\">How to Answer Questions</span>\n",
    "\n",
    "### <span style=\"color:blue\">Python code answers</span>\n",
    "\n",
    "Enter your answer any place that says\n",
    "```python\n",
    "# Enter your code here\n",
    "```\n",
    "<span style=\"color:red\">**AND delete the text.**</span>\n",
    "```python\n",
    "raise NotImplementedError # No Answer - remove if you provide an answer\n",
    "```\n",
    "\n",
    "### <span style=\"color:blue\">Written answers</span>\n",
    "\n",
    "Enter your answer any place that says\n",
    "```\n",
    "YOUR ANSWER HERE.\n",
    "```"
   ]
  },
  {
   "cell_type": "code",
   "execution_count": 1,
   "metadata": {},
   "outputs": [],
   "source": [
    "ANUID = \"u7522927\""
   ]
  },
  {
   "cell_type": "markdown",
   "metadata": {},
   "source": [
    "---"
   ]
  },
  {
   "cell_type": "markdown",
   "metadata": {
    "deletable": false,
    "editable": false,
    "nbgrader": {
     "cell_type": "markdown",
     "checksum": "7df03454a58f8fdab3d812e5263bd670",
     "grade": false,
     "grade_id": "jupyter",
     "locked": true,
     "schema_version": 3,
     "solution": false
    }
   },
   "source": [
    "# PICK 3.10 KERNEL\n",
    "\n",
    "Kernel > Change Kernel > Python (3.10)\n",
    "\n",
    "# Python quiz 1\n",
    "\n",
    "This quiz is worth 1% of the course."
   ]
  },
  {
   "cell_type": "markdown",
   "metadata": {
    "deletable": false,
    "editable": false,
    "nbgrader": {
     "cell_type": "markdown",
     "checksum": "1cf20a48dd3752780d84afabacff3115",
     "grade": false,
     "grade_id": "cell-0f8dbfb0dae50367",
     "locked": true,
     "schema_version": 3,
     "solution": false,
     "task": false
    }
   },
   "source": [
    "---\n",
    "\n",
    "## Q 1 – types\n",
    "\n",
    "- create a variable `text` and assign a string to it\n",
    "- create a variable `integer` and assign an int to it\n",
    "- create a variable `floating_point` and assign a float to it"
   ]
  },
  {
   "cell_type": "code",
   "execution_count": 24,
   "metadata": {
    "deletable": false,
    "nbgrader": {
     "cell_type": "code",
     "checksum": "86d0eb9f19fb06ccce9a228e2e7c4a59",
     "grade": false,
     "grade_id": "correct_variables",
     "locked": false,
     "schema_version": 3,
     "solution": true
    }
   },
   "outputs": [],
   "source": [
    "text = \"sad\"\n",
    "integer=26\n",
    "floating_point = 26.444\n",
    "#print(text)\n",
    "#print(str(integer))\n",
    "#print(str(int_flt))"
   ]
  },
  {
   "cell_type": "code",
   "execution_count": 25,
   "metadata": {
    "deletable": false,
    "editable": false,
    "nbgrader": {
     "cell_type": "code",
     "checksum": "1aa52d66f150d10b89b52117f9c34fd5",
     "grade": true,
     "grade_id": "define_variables",
     "locked": false,
     "points": 0.05,
     "schema_version": 3,
     "solution": false
    }
   },
   "outputs": [],
   "source": [
    "# This part worth 0.05\n",
    "\n",
    "\"\"\"Q1 types : checking variables correctly defined and of the right type\"\"\"\n",
    "from gutils import check\n",
    "\n",
    "check.expected_variables_types(\n",
    "    [(\"text\", str), (\"integer\", int), (\"floating_point\", float)], locals()\n",
    ")"
   ]
  },
  {
   "cell_type": "markdown",
   "metadata": {
    "deletable": false,
    "editable": false,
    "nbgrader": {
     "cell_type": "markdown",
     "checksum": "8ebef94fcc241dab0f518e7185695408",
     "grade": false,
     "grade_id": "cell-9d414d459d22f7b1",
     "locked": true,
     "schema_version": 3,
     "solution": false,
     "task": false
    }
   },
   "source": [
    "---\n",
    "\n",
    "## Q 2 – operators\n",
    "\n",
    "Consider the two numbers `a` and `b` below. Evaluate whether `a` is less than `b` and assign the result of that evaluation to a variable called `lt`"
   ]
  },
  {
   "cell_type": "code",
   "execution_count": 9,
   "metadata": {
    "deletable": false,
    "nbgrader": {
     "cell_type": "code",
     "checksum": "d46ee8771f5c6be07eb385beee8effd9",
     "grade": false,
     "grade_id": "wspace_names",
     "locked": false,
     "schema_version": 3,
     "solution": true
    }
   },
   "outputs": [],
   "source": [
    "a = 43\n",
    "b = 4.3e1\n",
    "\n",
    "lt = bool (a<b)"
   ]
  },
  {
   "cell_type": "code",
   "execution_count": 10,
   "metadata": {
    "deletable": false,
    "editable": false,
    "nbgrader": {
     "cell_type": "code",
     "checksum": "15fd35f36d540e3a7d178f0fbb35c61d",
     "grade": true,
     "grade_id": "wspace",
     "locked": true,
     "points": 0.05,
     "schema_version": 3,
     "solution": false
    }
   },
   "outputs": [],
   "source": [
    "# This part worth 0.05\n",
    "\n",
    "\"\"\"Q2 operators : check you created the right variables\"\"\"\n",
    "check.expected_variables_exist([\"a\", \"b\", \"lt\"], locals())"
   ]
  },
  {
   "cell_type": "code",
   "execution_count": 12,
   "metadata": {
    "deletable": false,
    "editable": false,
    "nbgrader": {
     "cell_type": "code",
     "checksum": "7862b652aedd14f93688cfe4b97ba2bc",
     "grade": true,
     "grade_id": "wspace_counts",
     "locked": false,
     "points": 0.05,
     "schema_version": 3,
     "solution": false
    }
   },
   "outputs": [
    {
     "data": {
      "text/plain": [
       "'Q2 operators : assigned correct values'"
      ]
     },
     "execution_count": 12,
     "metadata": {},
     "output_type": "execute_result"
    }
   ],
   "source": [
    "# This part worth 0.05\n",
    "\n",
    "# Additional checks.\n",
    "\"\"\"Q2 operators : assigned correct values\"\"\"\n"
   ]
  },
  {
   "cell_type": "markdown",
   "metadata": {},
   "source": [
    "---\n",
    "\n",
    "## Q 3 – type casting\n",
    "\n",
    "- assign the string `\" 2.14\"` to a variable `text`\n",
    "- convert `text` to a float, assigning the result to a variable `approx_pi`\n",
    "- convert `approx_pi` to an int, assigning the result to a variable `x`"
   ]
  },
  {
   "cell_type": "code",
   "execution_count": 14,
   "metadata": {
    "deletable": false,
    "nbgrader": {
     "cell_type": "code",
     "checksum": "fd2b40ebbfaa4d1dea5254be6021601b",
     "grade": false,
     "grade_id": "types",
     "locked": false,
     "schema_version": 3,
     "solution": true
    }
   },
   "outputs": [],
   "source": [
    "text=\" 2.14\"\n",
    "approx_pi=float(text)\n",
    "x = int(approx_pi)"
   ]
  },
  {
   "cell_type": "code",
   "execution_count": 15,
   "metadata": {
    "deletable": false,
    "editable": false,
    "nbgrader": {
     "cell_type": "code",
     "checksum": "b12a92ff6be644df255d648f8f4ef3f3",
     "grade": true,
     "grade_id": "casting_assignment",
     "locked": true,
     "points": 0.05,
     "schema_version": 3,
     "solution": false
    }
   },
   "outputs": [],
   "source": [
    "# This part worth 0.05\n",
    "\n",
    "\"\"\"Q3 type casting : check you created the right variables\"\"\"\n",
    "from gutils import check\n",
    "check.expected_variables_exist([\"text\", \"approx_pi\", \"x\"], locals())"
   ]
  },
  {
   "cell_type": "code",
   "execution_count": 16,
   "metadata": {
    "deletable": false,
    "editable": false,
    "nbgrader": {
     "cell_type": "code",
     "checksum": "fe69f48b30597b274d70729e30fedb8b",
     "grade": true,
     "grade_id": "casting_types",
     "locked": false,
     "points": 0.1,
     "schema_version": 3,
     "solution": false
    }
   },
   "outputs": [
    {
     "data": {
      "text/plain": [
       "'Q3 type casting : assigned correct values'"
      ]
     },
     "execution_count": 16,
     "metadata": {},
     "output_type": "execute_result"
    }
   ],
   "source": [
    "# This part worth 0.1\n",
    "\n",
    "# Additional checks.\n",
    "\"\"\"Q3 type casting : assigned correct values\"\"\""
   ]
  },
  {
   "cell_type": "markdown",
   "metadata": {},
   "source": [
    "## Q 4 – broken code\n",
    "\n",
    "Enter the following broken code into your notebook. Make the minimal edits required to fix it.\n",
    "\n",
    "```python\n",
    "y = m1x + b\n",
    "1m = 2\n",
    "x = 10\n",
    "b = 5\n",
    "\n",
    "print(y)\n",
    "```"
   ]
  },
  {
   "cell_type": "code",
   "execution_count": 17,
   "metadata": {
    "deletable": false,
    "nbgrader": {
     "cell_type": "code",
     "checksum": "f6158d8661021d2340736e523108db36",
     "grade": false,
     "grade_id": "correct_debugging",
     "locked": false,
     "schema_version": 3,
     "solution": true
    }
   },
   "outputs": [
    {
     "name": "stdout",
     "output_type": "stream",
     "text": [
      "25\n"
     ]
    }
   ],
   "source": [
    "m1 = 2\n",
    "x = 10\n",
    "b = 5\n",
    "y = (m1*x) + b\n",
    "print(y)\n"
   ]
  },
  {
   "cell_type": "code",
   "execution_count": 18,
   "metadata": {
    "deletable": false,
    "editable": false,
    "nbgrader": {
     "cell_type": "code",
     "checksum": "a7d8076e9d2df105df141e0efb0aa029",
     "grade": true,
     "grade_id": "debugging_assignment",
     "locked": true,
     "points": 0.05,
     "schema_version": 3,
     "solution": false
    }
   },
   "outputs": [],
   "source": [
    "# This part worth 0.05\n",
    "\n",
    "\"\"\"Q4 debugging : I'm checking you created the right variables and did not change the fixed values\"\"\"\n",
    "not_computed = dict(m1=2, x=10, b=5)\n",
    "check.expected_variables_values(not_computed, locals())"
   ]
  },
  {
   "cell_type": "code",
   "execution_count": 19,
   "metadata": {
    "deletable": false,
    "editable": false,
    "nbgrader": {
     "cell_type": "code",
     "checksum": "21a2962382f1bfb047a1a708cf67dc89",
     "grade": true,
     "grade_id": "debugging_consistent",
     "locked": false,
     "points": 0.35,
     "schema_version": 3,
     "solution": false
    }
   },
   "outputs": [
    {
     "data": {
      "text/plain": [
       "'Q4 debugging : check the computed value is consistent'"
      ]
     },
     "execution_count": 19,
     "metadata": {},
     "output_type": "execute_result"
    }
   ],
   "source": [
    "# This part worth 0.35\n",
    "\n",
    "# Additional checks.\n",
    "\"\"\"Q4 debugging : check the computed value is consistent\"\"\""
   ]
  },
  {
   "cell_type": "code",
   "execution_count": 26,
   "metadata": {
    "deletable": false,
    "editable": false,
    "nbgrader": {
     "cell_type": "code",
     "checksum": "429a6235a53d6e3de61b5799ac6b3df2",
     "grade": true,
     "grade_id": "debugging_value",
     "locked": false,
     "points": 0.3,
     "schema_version": 3,
     "solution": false
    }
   },
   "outputs": [
    {
     "data": {
      "text/plain": [
       "'Q4 debugging : check the computed value correct'"
      ]
     },
     "execution_count": 26,
     "metadata": {},
     "output_type": "execute_result"
    }
   ],
   "source": [
    "# This part worth 0.3\n",
    "\n",
    "# Additional checks.\n",
    "\"\"\"Q4 debugging : check the computed value correct\"\"\""
   ]
  }
 ],
 "metadata": {
  "kernelspec": {
   "display_name": "Python 3 (ipykernel)",
   "language": "python",
   "name": "python3"
  },
  "language_info": {
   "codemirror_mode": {
    "name": "ipython",
    "version": 3
   },
   "file_extension": ".py",
   "mimetype": "text/x-python",
   "name": "python",
   "nbconvert_exporter": "python",
   "pygments_lexer": "ipython3",
   "version": "3.8.10"
  }
 },
 "nbformat": 4,
 "nbformat_minor": 4
}
