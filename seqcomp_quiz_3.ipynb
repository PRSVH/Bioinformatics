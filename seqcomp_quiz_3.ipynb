{
 "cells": [
  {
   "cell_type": "markdown",
   "metadata": {},
   "source": [
    "# <span style=\"color:red\">Before you turn this in, make sure everything runs as expected.</span>\n",
    "\n",
    "1. **RESTART THE KERNEL** – in the menubar, select Kernel$\\rightarrow$Restart\n",
    "2. **RUN ALL CELLS** – in the menubar, select Cell$\\rightarrow$Run All\n",
    "3. **VALIDATE THE NOTEBOOK** – in the menubar, click the Validate button\n",
    "\n",
    "## <span style=\"color:blue\">How to Answer Questions</span>\n",
    "\n",
    "### <span style=\"color:blue\">Python code answers</span>\n",
    "\n",
    "Enter your answer any place that says\n",
    "```python\n",
    "# Enter your code here\n",
    "```\n",
    "<span style=\"color:red\">**AND delete the text.**</span>\n",
    "```python\n",
    "raise NotImplementedError # No Answer - remove if you provide an answer\n",
    "```\n",
    "\n",
    "### <span style=\"color:blue\">Written answers</span>\n",
    "\n",
    "Enter your answer any place that says\n",
    "```\n",
    "YOUR ANSWER HERE.\n",
    "```"
   ]
  },
  {
   "cell_type": "code",
   "execution_count": null,
   "metadata": {},
   "outputs": [],
   "source": [
    "ANUID = \"u7522927\""
   ]
  },
  {
   "cell_type": "markdown",
   "metadata": {},
   "source": [
    "---"
   ]
  },
  {
   "cell_type": "markdown",
   "metadata": {
    "deletable": false,
    "editable": false,
    "nbgrader": {
     "cell_type": "markdown",
     "checksum": "f38472142f8357978c9a1f0e33940546",
     "grade": false,
     "grade_id": "cell-57c0fca00648f467",
     "locked": true,
     "schema_version": 3,
     "solution": false,
     "task": false
    }
   },
   "source": [
    "# Quiz 3 -- Sequence comparison\n",
    "\n",
    "This quiz is worth 1% of the course."
   ]
  },
  {
   "cell_type": "markdown",
   "metadata": {
    "deletable": false,
    "editable": false,
    "nbgrader": {
     "cell_type": "markdown",
     "checksum": "af2ddc070c1d59757b115ae66158c36c",
     "grade": false,
     "grade_id": "cell-4c7b84e313060e80",
     "locked": true,
     "schema_version": 3,
     "solution": false,
     "task": false
    }
   },
   "source": [
    "## Dotplot background\n",
    "\n",
    "The simple dotplot provides a visualisation of matching residues in biological sequences. There are 2 parts, the algorithm for computing the matrix of matches and the visualisation part.\n",
    "\n",
    "Here is the original algorithm for computing the matrix of matches where `n` and `m` are the lengths of sequences `X` and `Y` respectively.\n",
    "```\n",
    "create a matrix of ones called matches, with dimensions n x m\n",
    "for i in 0 ... n:\n",
    "    for j in 0 ... m:\n",
    "        if X[i] == Y[j] then\n",
    "            matches[i, j] = 0\n",
    "```\n",
    "\n",
    "This approach is used to produce a display in array coordinates.\n",
    "\n",
    "## Q1 -- variant on the original dotplot algorithm\n",
    "\n",
    "Instead of computing the matrix of matches, we want **the coordinates of matches**. Complete the `get_match_coords(seq1, seq2)` function defined below.\n",
    "\n",
    "- takes arguments `seq1` and `seq2`, both are strings\n",
    "- The function returns `x` (`seq1` coordinates) and `y` (`seq2` coordinates) as separate lists of integers\n",
    "\n",
    "Giving the following input:\n",
    "\n",
    "```python\n",
    "seq1=\"AC\"\n",
    "seq2=\"AGA\"\n",
    "```\n",
    "to your function as\n",
    "```python\n",
    "get_match_coords(seq1, seq2)\n",
    "```\n",
    "should return `([0, 0], [0, 2])`"
   ]
  },
  {
   "cell_type": "code",
   "execution_count": null,
   "metadata": {
    "deletable": false,
    "editable": false,
    "nbgrader": {
     "cell_type": "code",
     "checksum": "55fd0fb03913b9638bdc325143e53932",
     "grade": false,
     "grade_id": "cell-71e65bb339a2179a",
     "locked": true,
     "schema_version": 3,
     "solution": false,
     "task": false
    }
   },
   "outputs": [],
   "source": [
    "import numpy\n",
    "import plotly.express as px"
   ]
  },
  {
   "cell_type": "code",
   "execution_count": null,
   "metadata": {
    "deletable": false,
    "editable": false,
    "nbgrader": {
     "cell_type": "code",
     "checksum": "1a8b67da5baee99fb596763e1fdd809d",
     "grade": false,
     "grade_id": "cell-afabbf73adf9176c",
     "locked": true,
     "schema_version": 3,
     "solution": false,
     "task": false
    }
   },
   "outputs": [],
   "source": [
    "human = \"TPEKINQGT\"\n",
    "mouse = \"TPDNINQ\""
   ]
  },
  {
   "cell_type": "code",
   "execution_count": 5,
   "metadata": {
    "deletable": false,
    "nbgrader": {
     "cell_type": "code",
     "checksum": "d0abd7eff8d17a34dbf457af9fb5345d",
     "grade": false,
     "grade_id": "cell-356954e8795cde73",
     "locked": false,
     "schema_version": 3,
     "solution": true,
     "task": false
    }
   },
   "outputs": [],
   "source": [
    "def get_match_coords(seq1: str, seq2: str) -> tuple[list[int],list[int]]:\n",
    "     x, y = [], []\n",
    "    for i, b1 in enumerate(seq1):\n",
    "        for j, b2 in enumerate(seq2):\n",
    "            if b1 == b2:\n",
    "                x.append(i)\n",
    "                y.append(j)\n",
    "    return x, y"
   ]
  },
  {
   "cell_type": "code",
   "execution_count": 6,
   "metadata": {
    "deletable": false,
    "editable": false,
    "nbgrader": {
     "cell_type": "code",
     "checksum": "d5b9e2b9bca34f4c21a184aba2fe6ce6",
     "grade": true,
     "grade_id": "dotplot-vars-exist",
     "locked": true,
     "points": 0.05,
     "schema_version": 3,
     "solution": false,
     "task": false
    }
   },
   "outputs": [],
   "source": [
    "# This part worth 0.05\n",
    "\n",
    "# A test!\n",
    "\"\"\"Q1 dotplot : correct name and callable\"\"\"\n",
    "from gutils import check\n",
    "\n",
    "check.expected_variables_exist(\n",
    "    [\"get_match_coords\"], locals(), callables=[\"get_match_coords\"]\n",
    ")"
   ]
  },
  {
   "cell_type": "code",
   "execution_count": 7,
   "metadata": {
    "deletable": false,
    "editable": false,
    "nbgrader": {
     "cell_type": "code",
     "checksum": "8f42964c41a98a866c0da169e58cf170",
     "grade": true,
     "grade_id": "dotplot-correct",
     "locked": true,
     "points": 0.2,
     "schema_version": 3,
     "solution": false,
     "task": false
    }
   },
   "outputs": [
    {
     "data": {
      "text/plain": [
       "'Q1 dotplot : correct values'"
      ]
     },
     "execution_count": 7,
     "metadata": {},
     "output_type": "execute_result"
    }
   ],
   "source": [
    "# This part worth 0.2\n",
    "\n",
    "# A test!\n",
    "\"\"\"Q1 dotplot : correct values\"\"\""
   ]
  },
  {
   "cell_type": "markdown",
   "metadata": {
    "deletable": false,
    "editable": false,
    "nbgrader": {
     "cell_type": "markdown",
     "checksum": "106f8a8e7626941fcc148aceba90fdb7",
     "grade": false,
     "grade_id": "cell-dd76402e4b461fe1",
     "locked": true,
     "schema_version": 3,
     "solution": false,
     "task": false
    }
   },
   "source": [
    "## Q2 -- make a dotplot display\n",
    "\n",
    "Use the results from calling your function as `get_match_coords(human, mouse)` to make a [plotly express scatter plot](https://gavinhuttley.github.io/tib/python/visualisation.html). When you create your plotly figure, assign it to the variable `fig`, and display it."
   ]
  },
  {
   "cell_type": "code",
   "execution_count": 14,
   "metadata": {
    "deletable": false,
    "nbgrader": {
     "cell_type": "code",
     "checksum": "13e4a53ba3c003f482d5519f9e066bc2",
     "grade": false,
     "grade_id": "plotly-scatter",
     "locked": false,
     "schema_version": 3,
     "solution": true,
     "task": false
    }
   },
   "outputs": [],
   "source": [
    "import plotly.express as px\n",
    "fig = None\n",
    "human =\"AC\"\n",
    "mouse = \"AGA\"\n",
    "fig = px.imshow(\n",
    "    get_match_coords(human, mouse),\n",
    "    range_color=[0.0, 1.0],\n",
    "    color_continuous_scale=\"gray\",\n",
    ")\n",
    "\n",
    "\n"
   ]
  },
  {
   "cell_type": "code",
   "execution_count": 15,
   "metadata": {
    "deletable": false,
    "editable": false,
    "nbgrader": {
     "cell_type": "code",
     "checksum": "002c9b4380e0443d9b9b585f5a14e934",
     "grade": true,
     "grade_id": "plotly-scatter-vars",
     "locked": true,
     "points": 0.05,
     "schema_version": 3,
     "solution": false,
     "task": false
    }
   },
   "outputs": [],
   "source": [
    "# This part worth 0.05\n",
    "\n",
    "# A test!\n",
    "\"\"\"Q1 dotplot : fig variable exists\"\"\"\n",
    "from gutils import check\n",
    "\n",
    "check.expected_variables_exist([\"fig\"], locals())"
   ]
  },
  {
   "cell_type": "code",
   "execution_count": 16,
   "metadata": {
    "deletable": false,
    "editable": false,
    "nbgrader": {
     "cell_type": "code",
     "checksum": "2676c481ef659a36ac21f7cbcd1dc50c",
     "grade": true,
     "grade_id": "plotly-scatter-type",
     "locked": true,
     "points": 0.05,
     "schema_version": 3,
     "solution": false,
     "task": false
    }
   },
   "outputs": [
    {
     "data": {
      "text/plain": [
       "'Q1 dotplot : fig is correct type and correct coordinates from your function'"
      ]
     },
     "execution_count": 16,
     "metadata": {},
     "output_type": "execute_result"
    }
   ],
   "source": [
    "# This part worth 0.05\n",
    "\n",
    "# A test!\n",
    "\"\"\"Q1 dotplot : fig is correct type and correct coordinates from your function\"\"\""
   ]
  },
  {
   "cell_type": "code",
   "execution_count": 17,
   "metadata": {
    "deletable": false,
    "editable": false,
    "nbgrader": {
     "cell_type": "code",
     "checksum": "01fb3cd8df8514e96ce1e3afdec0a893",
     "grade": true,
     "grade_id": "plotly-scatter-vals",
     "locked": true,
     "points": 0.1,
     "schema_version": 3,
     "solution": false,
     "task": false
    }
   },
   "outputs": [
    {
     "data": {
      "text/plain": [
       "'Q1 dotplot : fig has correct coordinates from your function'"
      ]
     },
     "execution_count": 17,
     "metadata": {},
     "output_type": "execute_result"
    }
   ],
   "source": [
    "# This part worth 0.1\n",
    "\n",
    "# A test!\n",
    "\"\"\"Q1 dotplot : fig has correct coordinates from your function\"\"\""
   ]
  },
  {
   "cell_type": "markdown",
   "metadata": {
    "deletable": false,
    "editable": false,
    "nbgrader": {
     "cell_type": "markdown",
     "checksum": "5162aba00f4560db936ddbd1b8a9e765",
     "grade": false,
     "grade_id": "cell-816096869aec6c87",
     "locked": true,
     "schema_version": 3,
     "solution": false,
     "task": false
    }
   },
   "source": [
    "## Q3 -- advanced dotplot algorithm\n",
    "\n",
    "Complete the `get_kmer_match_coords()` function below. This differs from `get_match_coords()` by comparing the sequence `k-mers` instead of just single characters. In other words, you construct all possible `k-mers` for each sequence and compare those.\n",
    "\n",
    "`get_kmer_match_coords()` takes:\n",
    "\n",
    "- arguments of `seq1`, `seq2` (both strings)\n",
    "- optional argument `k`, an integer (I will check only 1, 2 and 3)\n",
    "- returns `x`, `y` as the coordinates for matches"
   ]
  },
  {
   "cell_type": "code",
   "execution_count": null,
   "metadata": {
    "deletable": false,
    "editable": false,
    "nbgrader": {
     "cell_type": "code",
     "checksum": "eff0a104847bdb23c511f85f0ee07495",
     "grade": false,
     "grade_id": "cell-9d5f7dd8680bdee4",
     "locked": true,
     "schema_version": 3,
     "solution": false,
     "task": false
    }
   },
   "outputs": [],
   "source": [
    "seq1 = \"TPEMINQGTEQNGQVMNI\"\n",
    "seq2 = \"TPDNINQGTDLMEPNEQAVST\""
   ]
  },
  {
   "cell_type": "code",
   "execution_count": 20,
   "metadata": {
    "deletable": false,
    "nbgrader": {
     "cell_type": "code",
     "checksum": "581000b75ed137450520a28136aea417",
     "grade": false,
     "grade_id": "cell-b2964fe859d7332f",
     "locked": false,
     "schema_version": 3,
     "solution": true,
     "task": false
    }
   },
   "outputs": [],
   "source": [
    "def get_kmers(seq: str, k: int=1) -> list:\n",
    "    seq1 = [seq1[i : i + k] for i in range(len(seq1) - k + 1)]\n",
    "    seq2 = [seq2[i : i + k] for i in range(len(seq2) - k + 1)]\n",
    "    # now nested loops\n",
    "    x, y = [], []\n",
    "    for i, kmer1 in enumerate(seq1):\n",
    "        for j, kmer2 in enumerate(seq2):\n",
    "            if kmer1 == kmer2:\n",
    "                x.append(i)\n",
    "                y.append(j)\n",
    "    return x, y\n"
   ]
  },
  {
   "cell_type": "code",
   "execution_count": 21,
   "metadata": {
    "deletable": false,
    "editable": false,
    "nbgrader": {
     "cell_type": "code",
     "checksum": "40785205a99938e356b7e26b65d5eacc",
     "grade": true,
     "grade_id": "cell-7e39b769814a681f",
     "locked": true,
     "points": 0.05,
     "schema_version": 3,
     "solution": false,
     "task": false
    }
   },
   "outputs": [],
   "source": [
    "# This part worth 0.05\n",
    "\n",
    "# A test!\n",
    "\"\"\"Q3 advanced dotplot : correct name and callable\"\"\"\n",
    "from gutils import check\n",
    "\n",
    "check.expected_variables_exist(\n",
    "    [\"get_kmer_match_coords\"], locals(), callables=[\"get_kmer_match_coords\"]\n",
    ")"
   ]
  },
  {
   "cell_type": "code",
   "execution_count": 22,
   "metadata": {
    "deletable": false,
    "editable": false,
    "nbgrader": {
     "cell_type": "code",
     "checksum": "925ac7d5dee50d0a6ad65dabed4b93e6",
     "grade": true,
     "grade_id": "adv-dotplot-k1",
     "locked": true,
     "points": 0.1,
     "schema_version": 3,
     "solution": false,
     "task": false
    }
   },
   "outputs": [
    {
     "data": {
      "text/plain": [
       "'Q3 advanced dotplot : correct for k = 1'"
      ]
     },
     "execution_count": 22,
     "metadata": {},
     "output_type": "execute_result"
    }
   ],
   "source": [
    "# This part worth 0.1\n",
    "\n",
    "\"\"\"Q3 advanced dotplot : correct for k = 1\"\"\""
   ]
  },
  {
   "cell_type": "code",
   "execution_count": 23,
   "metadata": {
    "deletable": false,
    "editable": false,
    "nbgrader": {
     "cell_type": "code",
     "checksum": "10d49a7b8e2e5d56330a1cc4476610b6",
     "grade": true,
     "grade_id": "adv-dotplot-k2",
     "locked": true,
     "points": 0.2,
     "schema_version": 3,
     "solution": false,
     "task": false
    }
   },
   "outputs": [
    {
     "data": {
      "text/plain": [
       "'Q3 advanced dotplot : correct for k = 2'"
      ]
     },
     "execution_count": 23,
     "metadata": {},
     "output_type": "execute_result"
    }
   ],
   "source": [
    "# This part worth 0.2\n",
    "\n",
    "\"\"\"Q3 advanced dotplot : correct for k = 2\"\"\""
   ]
  },
  {
   "cell_type": "code",
   "execution_count": 24,
   "metadata": {
    "deletable": false,
    "editable": false,
    "nbgrader": {
     "cell_type": "code",
     "checksum": "36048fef45dc798fc3d0675b3c98d047",
     "grade": true,
     "grade_id": "adv-dotplot-k3",
     "locked": true,
     "points": 0.2,
     "schema_version": 3,
     "solution": false,
     "task": false
    }
   },
   "outputs": [
    {
     "data": {
      "text/plain": [
       "'Q3 advanced dotplot : correct for k = 3'"
      ]
     },
     "execution_count": 24,
     "metadata": {},
     "output_type": "execute_result"
    }
   ],
   "source": [
    "# This part worth 0.2\n",
    "\n",
    "\"\"\"Q3 advanced dotplot : correct for k = 3\"\"\""
   ]
  },
  {
   "cell_type": "code",
   "execution_count": null,
   "metadata": {},
   "outputs": [],
   "source": []
  }
 ],
 "metadata": {
  "kernelspec": {
   "display_name": "Py310",
   "language": "python",
   "name": "py310"
  },
  "language_info": {
   "codemirror_mode": {
    "name": "ipython",
    "version": 3
   },
   "file_extension": ".py",
   "mimetype": "text/x-python",
   "name": "python",
   "nbconvert_exporter": "python",
   "pygments_lexer": "ipython3",
   "version": "3.10.9"
  }
 },
 "nbformat": 4,
 "nbformat_minor": 4
}
